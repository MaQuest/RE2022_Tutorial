{
  "cells": [
    {
      "cell_type": "markdown",
      "metadata": {
        "id": "view-in-github",
        "colab_type": "text"
      },
      "source": [
        "<a href=\"https://colab.research.google.com/github/MaQuest/RE2022_Tutorial/blob/main/4.%20Working%20with%20data%20and%20ML-with%20practice%20blank%20spots.ipynb\" target=\"_parent\"><img src=\"https://colab.research.google.com/assets/colab-badge.svg\" alt=\"Open In Colab\"/></a>"
      ]
    },
    {
      "cell_type": "markdown",
      "metadata": {
        "id": "s3pzDQ-VN0BK"
      },
      "source": [
        "## Overview of the Course"
      ]
    },
    {
      "cell_type": "markdown",
      "metadata": {
        "id": "WgWSBkrBN0BQ"
      },
      "source": [
        "Here is a brief overall view of the tutorial:\n",
        "\n",
        "![image](https://github.com/mitramir55/REConference/blob/main/Tutorial/3%20Preprocessing%20-%20Mitra/new%20cover-01-01.jpg?raw=true)\n",
        "\n",
        "\n",
        "Our goal in this tutorial is to first, get to know the data, and then classify the text into either enhancement or task. For that, we'll use the \"summary\" column for the input and the \"type\" column for our label.\n",
        "\n",
        "\n",
        "Brief description of the columns:\n",
        "\n",
        "* **Bug ID**: The numeric id of a bug, unique within this entire installation of Bugzilla.\n",
        "\n",
        "\n",
        "* **Type**: This field describes the type of a bug.\n",
        "\n",
        " * **enhancement**: new feature, improvement in UI, performance, etc. and any other request for user-facing changes and enhancements in the product; not engineering changes\n",
        " * **task**: refactoring, removal, replacement, enabling or disabling of functionality and any other engineering task\n",
        " * **defect**: (we have filtered this field out) regression, crash, hang, security vulnerability and any other general issue.\n",
        "\n",
        "* **Summary**: The bug summary is a short sentence which succinctly describes what the bug is about.\n",
        "\n",
        "* **Priority**: This field describes the importance and order in which a bug should be fixed compared to other bugs. This field is utilized by the programmers/engineers/release managers/managers to prioritize the work to be done. \n",
        "\n",
        "* **Severity**: This field describes the impact of a bug. \n",
        "\n",
        "For more information about columns please go to [this link](https://wiki.mozilla.org/BMO/UserGuide/BugFields).\n",
        "\n",
        "### Importing the packages"
      ]
    },
    {
      "cell_type": "code",
      "source": [
        "import pandas as pd\n",
        "import numpy as np"
      ],
      "metadata": {
        "id": "43VgbeNJNzLL"
      },
      "execution_count": 1,
      "outputs": []
    },
    {
      "cell_type": "markdown",
      "source": [
        "In order to visualize dataframes better, we tweek a few default settings of a Jupyter notebook."
      ],
      "metadata": {
        "id": "dSWJ7bJCPj0K"
      }
    },
    {
      "cell_type": "code",
      "execution_count": 2,
      "metadata": {
        "id": "v10xANemN0BR"
      },
      "outputs": [],
      "source": [
        "from termcolor import colored\n",
        "pd.options.mode.chained_assignment = None\n",
        "\n",
        "# we specify for the columns to be shown all together without truncation\n",
        "pd.set_option('display.max_columns', None)\n",
        "\n",
        "# Row\n",
        "pd.set_option('display.max_rows', 10)\n",
        "\n",
        "\n",
        "%matplotlib inline"
      ]
    },
    {
      "cell_type": "markdown",
      "metadata": {
        "id": "OQa8zRrPN0BU"
      },
      "source": [
        "### Import the file"
      ]
    },
    {
      "cell_type": "code",
      "source": [
        "!git clone https://github.com/MaQuest/RE2022_Tutorial.git"
      ],
      "metadata": {
        "colab": {
          "base_uri": "https://localhost:8080/"
        },
        "id": "hHsIpqIlPFpR",
        "outputId": "10c2b175-d680-490a-90d2-a24160a83006"
      },
      "execution_count": 3,
      "outputs": [
        {
          "output_type": "stream",
          "name": "stdout",
          "text": [
            "Cloning into 'RE2022_Tutorial'...\n",
            "remote: Enumerating objects: 81, done.\u001b[K\n",
            "remote: Counting objects: 100% (81/81), done.\u001b[K\n",
            "remote: Compressing objects: 100% (74/74), done.\u001b[K\n",
            "remote: Total 81 (delta 32), reused 20 (delta 4), pack-reused 0\u001b[K\n",
            "Unpacking objects: 100% (81/81), done.\n"
          ]
        }
      ]
    },
    {
      "cell_type": "code",
      "source": [
        "# path to the data\n",
        "ALLData_FILE_PATH = r\"/content/RE2022_Tutorial/Data/AllData.csv\""
      ],
      "metadata": {
        "id": "d_qEA1quPQ6I"
      },
      "execution_count": 24,
      "outputs": []
    },
    {
      "cell_type": "code",
      "execution_count": 25,
      "metadata": {
        "colab": {
          "base_uri": "https://localhost:8080/"
        },
        "id": "pLyDGAABN0BU",
        "outputId": "972ce001-401f-4a09-e8f4-d31d5b4c65bd"
      },
      "outputs": [
        {
          "output_type": "stream",
          "name": "stderr",
          "text": [
            "/usr/local/lib/python3.7/dist-packages/IPython/core/interactiveshell.py:2882: DtypeWarning:\n",
            "\n",
            "Columns (7,8,9,10,11,13,16,18,19,26,27,28,30,31,32,33,34,35,36,37,38,39,40,41,42,43,44,45,46,47,48,49,50,51,52,53,54,55,56,57,58,59,60,61,62,63,64,65,66,70,73,74,75,76,77,78,79,80,81,82,83,84,85,86,87,88,89,90,91,92,93,96,98,99,101,102,103,104,105,106,107,108,109,110,111,112,115,116,117,118,119,120,121,122,123,124,125,126,127,128,129,130,131,132,139,140,145,146,147,148,149,150,151,152,153,154,155,156,169) have mixed types.Specify dtype option on import or set low_memory=False.\n",
            "\n"
          ]
        }
      ],
      "source": [
        "all_data = pd.read_csv(ALLData_FILE_PATH)"
      ]
    },
    {
      "cell_type": "code",
      "source": [
        "# print all the columns in the file\n"
      ],
      "metadata": {
        "id": "sp95EeCF3sLl"
      },
      "execution_count": 26,
      "outputs": []
    },
    {
      "cell_type": "code",
      "source": [
        "# take a look at the data\n",
        "\n"
      ],
      "metadata": {
        "id": "LIpCZFRC3ycW"
      },
      "execution_count": 27,
      "outputs": []
    },
    {
      "cell_type": "code",
      "execution_count": 28,
      "metadata": {
        "id": "bP9tgn1lN0BV"
      },
      "outputs": [],
      "source": [
        "# remove the redundant column\n",
        "all_data.drop(columns=['Unnamed: 0'], inplace=True)\n",
        "\n",
        "# drop duplicate ids\n",
        "all_data.drop_duplicates(subset='id', inplace=True)\n",
        "\n",
        "# drop columns that only contain null\n",
        "all_data.dropna(axis=1, inplace=True, how='all')"
      ]
    },
    {
      "cell_type": "markdown",
      "metadata": {
        "id": "jYSVnVp5N0BX"
      },
      "source": [
        "### Data Exploration\n",
        "\n",
        "First, we take a look at the data frame size. Then we realize that we don't need all the 198 columns, so we choose only the ones that can be helpful in understanding the data.\n",
        "\n",
        "However, it is always necessary to look at the documentation for the data from the source website to understand it better"
      ]
    },
    {
      "cell_type": "code",
      "execution_count": 29,
      "metadata": {
        "colab": {
          "base_uri": "https://localhost:8080/"
        },
        "id": "s9wmPrUnN0BX",
        "outputId": "41d4aff5-4ad9-4927-df0d-59e6b08a8888"
      },
      "outputs": [
        {
          "output_type": "stream",
          "name": "stdout",
          "text": [
            "There are Ellipsis records and Ellipsis columns in this dataset.\n"
          ]
        }
      ],
      "source": [
        "\n",
        "print(f'There are {...} records and {...} columns in this dataset.')"
      ]
    },
    {
      "cell_type": "code",
      "execution_count": 30,
      "metadata": {
        "id": "GjaEQN4lN0BY"
      },
      "outputs": [],
      "source": [
        "df = all_data[[\n",
        "        'component', 'platform',  'assigned_to', \n",
        "        'summary', 'id', 'status', 'is_confirmed', 'votes',\n",
        "        'severity', 'keywords', 'priority', 'creator', 'type'\n",
        "        ]]"
      ]
    },
    {
      "cell_type": "code",
      "execution_count": null,
      "metadata": {
        "colab": {
          "base_uri": "https://localhost:8080/"
        },
        "id": "eNWNYpATN0BY",
        "outputId": "207e31d3-7530-4172-bc56-96b4727e98b4"
      },
      "outputs": [
        {
          "output_type": "stream",
          "name": "stdout",
          "text": [
            "There are 4215 records and 13 columns in this dataset.\n"
          ]
        }
      ],
      "source": [
        "print(f'There are {...} records and {...} columns in this dataset.')"
      ]
    },
    {
      "cell_type": "markdown",
      "metadata": {
        "id": "S8NS-zp4N0BZ"
      },
      "source": [
        "### Visualize the data to understand it better\n",
        "\n",
        "In the first part we try to categorize the data into groups and count their frequency. These categories will be placed in a data frame along with the number of times each one was seen.\n",
        "\n",
        "Here is an overview of what the functions in the next cells will do:\n"
      ]
    },
    {
      "cell_type": "code",
      "source": [
        "# for plots\n",
        "import plotly.express as px\n",
        "import plotly.graph_objs as go\n",
        "import plotly.offline as py\n",
        "import plotly.tools as tls\n",
        "py.init_notebook_mode(connected=True)\n",
        "%matplotlib inline"
      ],
      "metadata": {
        "colab": {
          "base_uri": "https://localhost:8080/",
          "height": 17
        },
        "id": "qryprN5lPefg",
        "outputId": "00d4fbfa-ad9e-4cd5-f090-1df40932a3b8"
      },
      "execution_count": 31,
      "outputs": [
        {
          "output_type": "display_data",
          "data": {
            "text/html": [
              "        <script type=\"text/javascript\">\n",
              "        window.PlotlyConfig = {MathJaxConfig: 'local'};\n",
              "        if (window.MathJax) {MathJax.Hub.Config({SVG: {font: \"STIX-Web\"}});}\n",
              "        if (typeof require !== 'undefined') {\n",
              "        require.undef(\"plotly\");\n",
              "        requirejs.config({\n",
              "            paths: {\n",
              "                'plotly': ['https://cdn.plot.ly/plotly-2.8.3.min']\n",
              "            }\n",
              "        });\n",
              "        require(['plotly'], function(Plotly) {\n",
              "            window._Plotly = Plotly;\n",
              "        });\n",
              "        }\n",
              "        </script>\n",
              "        "
            ]
          },
          "metadata": {}
        }
      ]
    },
    {
      "cell_type": "code",
      "execution_count": 32,
      "metadata": {
        "id": "V6Rgt1vqN0BZ",
        "colab": {
          "base_uri": "https://localhost:8080/",
          "height": 363
        },
        "outputId": "69e58eeb-59a0-466c-eb81-434b55141efc"
      },
      "outputs": [
        {
          "output_type": "execute_result",
          "data": {
            "text/plain": [
              "      platform    id\n",
              "0  Unspecified  2727\n",
              "1          All  1228\n",
              "2          x86   138\n",
              "3       x86_64    45\n",
              "4        ARM64    26\n",
              "5        Other    18\n",
              "6      Desktop    14\n",
              "7          ARM    10\n",
              "8      PowerPC     8\n",
              "9           HP     1"
            ],
            "text/html": [
              "\n",
              "  <div id=\"df-a378e852-3272-4897-99f3-e4fc64908b40\">\n",
              "    <div class=\"colab-df-container\">\n",
              "      <div>\n",
              "<style scoped>\n",
              "    .dataframe tbody tr th:only-of-type {\n",
              "        vertical-align: middle;\n",
              "    }\n",
              "\n",
              "    .dataframe tbody tr th {\n",
              "        vertical-align: top;\n",
              "    }\n",
              "\n",
              "    .dataframe thead th {\n",
              "        text-align: right;\n",
              "    }\n",
              "</style>\n",
              "<table border=\"1\" class=\"dataframe\">\n",
              "  <thead>\n",
              "    <tr style=\"text-align: right;\">\n",
              "      <th></th>\n",
              "      <th>platform</th>\n",
              "      <th>id</th>\n",
              "    </tr>\n",
              "  </thead>\n",
              "  <tbody>\n",
              "    <tr>\n",
              "      <th>0</th>\n",
              "      <td>Unspecified</td>\n",
              "      <td>2727</td>\n",
              "    </tr>\n",
              "    <tr>\n",
              "      <th>1</th>\n",
              "      <td>All</td>\n",
              "      <td>1228</td>\n",
              "    </tr>\n",
              "    <tr>\n",
              "      <th>2</th>\n",
              "      <td>x86</td>\n",
              "      <td>138</td>\n",
              "    </tr>\n",
              "    <tr>\n",
              "      <th>3</th>\n",
              "      <td>x86_64</td>\n",
              "      <td>45</td>\n",
              "    </tr>\n",
              "    <tr>\n",
              "      <th>4</th>\n",
              "      <td>ARM64</td>\n",
              "      <td>26</td>\n",
              "    </tr>\n",
              "    <tr>\n",
              "      <th>5</th>\n",
              "      <td>Other</td>\n",
              "      <td>18</td>\n",
              "    </tr>\n",
              "    <tr>\n",
              "      <th>6</th>\n",
              "      <td>Desktop</td>\n",
              "      <td>14</td>\n",
              "    </tr>\n",
              "    <tr>\n",
              "      <th>7</th>\n",
              "      <td>ARM</td>\n",
              "      <td>10</td>\n",
              "    </tr>\n",
              "    <tr>\n",
              "      <th>8</th>\n",
              "      <td>PowerPC</td>\n",
              "      <td>8</td>\n",
              "    </tr>\n",
              "    <tr>\n",
              "      <th>9</th>\n",
              "      <td>HP</td>\n",
              "      <td>1</td>\n",
              "    </tr>\n",
              "  </tbody>\n",
              "</table>\n",
              "</div>\n",
              "      <button class=\"colab-df-convert\" onclick=\"convertToInteractive('df-a378e852-3272-4897-99f3-e4fc64908b40')\"\n",
              "              title=\"Convert this dataframe to an interactive table.\"\n",
              "              style=\"display:none;\">\n",
              "        \n",
              "  <svg xmlns=\"http://www.w3.org/2000/svg\" height=\"24px\"viewBox=\"0 0 24 24\"\n",
              "       width=\"24px\">\n",
              "    <path d=\"M0 0h24v24H0V0z\" fill=\"none\"/>\n",
              "    <path d=\"M18.56 5.44l.94 2.06.94-2.06 2.06-.94-2.06-.94-.94-2.06-.94 2.06-2.06.94zm-11 1L8.5 8.5l.94-2.06 2.06-.94-2.06-.94L8.5 2.5l-.94 2.06-2.06.94zm10 10l.94 2.06.94-2.06 2.06-.94-2.06-.94-.94-2.06-.94 2.06-2.06.94z\"/><path d=\"M17.41 7.96l-1.37-1.37c-.4-.4-.92-.59-1.43-.59-.52 0-1.04.2-1.43.59L10.3 9.45l-7.72 7.72c-.78.78-.78 2.05 0 2.83L4 21.41c.39.39.9.59 1.41.59.51 0 1.02-.2 1.41-.59l7.78-7.78 2.81-2.81c.8-.78.8-2.07 0-2.86zM5.41 20L4 18.59l7.72-7.72 1.47 1.35L5.41 20z\"/>\n",
              "  </svg>\n",
              "      </button>\n",
              "      \n",
              "  <style>\n",
              "    .colab-df-container {\n",
              "      display:flex;\n",
              "      flex-wrap:wrap;\n",
              "      gap: 12px;\n",
              "    }\n",
              "\n",
              "    .colab-df-convert {\n",
              "      background-color: #E8F0FE;\n",
              "      border: none;\n",
              "      border-radius: 50%;\n",
              "      cursor: pointer;\n",
              "      display: none;\n",
              "      fill: #1967D2;\n",
              "      height: 32px;\n",
              "      padding: 0 0 0 0;\n",
              "      width: 32px;\n",
              "    }\n",
              "\n",
              "    .colab-df-convert:hover {\n",
              "      background-color: #E2EBFA;\n",
              "      box-shadow: 0px 1px 2px rgba(60, 64, 67, 0.3), 0px 1px 3px 1px rgba(60, 64, 67, 0.15);\n",
              "      fill: #174EA6;\n",
              "    }\n",
              "\n",
              "    [theme=dark] .colab-df-convert {\n",
              "      background-color: #3B4455;\n",
              "      fill: #D2E3FC;\n",
              "    }\n",
              "\n",
              "    [theme=dark] .colab-df-convert:hover {\n",
              "      background-color: #434B5C;\n",
              "      box-shadow: 0px 1px 3px 1px rgba(0, 0, 0, 0.15);\n",
              "      filter: drop-shadow(0px 1px 2px rgba(0, 0, 0, 0.3));\n",
              "      fill: #FFFFFF;\n",
              "    }\n",
              "  </style>\n",
              "\n",
              "      <script>\n",
              "        const buttonEl =\n",
              "          document.querySelector('#df-a378e852-3272-4897-99f3-e4fc64908b40 button.colab-df-convert');\n",
              "        buttonEl.style.display =\n",
              "          google.colab.kernel.accessAllowed ? 'block' : 'none';\n",
              "\n",
              "        async function convertToInteractive(key) {\n",
              "          const element = document.querySelector('#df-a378e852-3272-4897-99f3-e4fc64908b40');\n",
              "          const dataTable =\n",
              "            await google.colab.kernel.invokeFunction('convertToInteractive',\n",
              "                                                     [key], {});\n",
              "          if (!dataTable) return;\n",
              "\n",
              "          const docLinkHtml = 'Like what you see? Visit the ' +\n",
              "            '<a target=\"_blank\" href=https://colab.research.google.com/notebooks/data_table.ipynb>data table notebook</a>'\n",
              "            + ' to learn more about interactive tables.';\n",
              "          element.innerHTML = '';\n",
              "          dataTable['output_type'] = 'display_data';\n",
              "          await google.colab.output.renderOutput(dataTable, element);\n",
              "          const docLink = document.createElement('div');\n",
              "          docLink.innerHTML = docLinkHtml;\n",
              "          element.appendChild(docLink);\n",
              "        }\n",
              "      </script>\n",
              "    </div>\n",
              "  </div>\n",
              "  "
            ]
          },
          "metadata": {},
          "execution_count": 32
        }
      ],
      "source": [
        "# choose a column\n",
        "col = 'platform'\n",
        "\n",
        "# create a new dataset by grouping the categories, then choose id to show the count\n",
        "categories_count = df.groupby(by=col).count().id.sort_values(ascending=False)\n",
        "\n",
        "# by resetting the index, we create a df\n",
        "categories_count_df = categories_count.reset_index()\n",
        "\n",
        "categories_count_df"
      ]
    },
    {
      "cell_type": "code",
      "execution_count": 33,
      "metadata": {
        "id": "oxAoQFatN0Ba",
        "colab": {
          "base_uri": "https://localhost:8080/",
          "height": 363
        },
        "outputId": "c8bc28fb-ae03-46b9-ba07-d91e689d4ad4"
      },
      "outputs": [
        {
          "output_type": "execute_result",
          "data": {
            "text/plain": [
              "      platform  count\n",
              "0  Unspecified   2727\n",
              "1          All   1228\n",
              "2          x86    138\n",
              "3       x86_64     45\n",
              "4        ARM64     26\n",
              "5        Other     18\n",
              "6      Desktop     14\n",
              "7          ARM     10\n",
              "8      PowerPC      8\n",
              "9           HP      1"
            ],
            "text/html": [
              "\n",
              "  <div id=\"df-68b8c868-29b2-4165-bce2-5270a57d9d25\">\n",
              "    <div class=\"colab-df-container\">\n",
              "      <div>\n",
              "<style scoped>\n",
              "    .dataframe tbody tr th:only-of-type {\n",
              "        vertical-align: middle;\n",
              "    }\n",
              "\n",
              "    .dataframe tbody tr th {\n",
              "        vertical-align: top;\n",
              "    }\n",
              "\n",
              "    .dataframe thead th {\n",
              "        text-align: right;\n",
              "    }\n",
              "</style>\n",
              "<table border=\"1\" class=\"dataframe\">\n",
              "  <thead>\n",
              "    <tr style=\"text-align: right;\">\n",
              "      <th></th>\n",
              "      <th>platform</th>\n",
              "      <th>count</th>\n",
              "    </tr>\n",
              "  </thead>\n",
              "  <tbody>\n",
              "    <tr>\n",
              "      <th>0</th>\n",
              "      <td>Unspecified</td>\n",
              "      <td>2727</td>\n",
              "    </tr>\n",
              "    <tr>\n",
              "      <th>1</th>\n",
              "      <td>All</td>\n",
              "      <td>1228</td>\n",
              "    </tr>\n",
              "    <tr>\n",
              "      <th>2</th>\n",
              "      <td>x86</td>\n",
              "      <td>138</td>\n",
              "    </tr>\n",
              "    <tr>\n",
              "      <th>3</th>\n",
              "      <td>x86_64</td>\n",
              "      <td>45</td>\n",
              "    </tr>\n",
              "    <tr>\n",
              "      <th>4</th>\n",
              "      <td>ARM64</td>\n",
              "      <td>26</td>\n",
              "    </tr>\n",
              "    <tr>\n",
              "      <th>5</th>\n",
              "      <td>Other</td>\n",
              "      <td>18</td>\n",
              "    </tr>\n",
              "    <tr>\n",
              "      <th>6</th>\n",
              "      <td>Desktop</td>\n",
              "      <td>14</td>\n",
              "    </tr>\n",
              "    <tr>\n",
              "      <th>7</th>\n",
              "      <td>ARM</td>\n",
              "      <td>10</td>\n",
              "    </tr>\n",
              "    <tr>\n",
              "      <th>8</th>\n",
              "      <td>PowerPC</td>\n",
              "      <td>8</td>\n",
              "    </tr>\n",
              "    <tr>\n",
              "      <th>9</th>\n",
              "      <td>HP</td>\n",
              "      <td>1</td>\n",
              "    </tr>\n",
              "  </tbody>\n",
              "</table>\n",
              "</div>\n",
              "      <button class=\"colab-df-convert\" onclick=\"convertToInteractive('df-68b8c868-29b2-4165-bce2-5270a57d9d25')\"\n",
              "              title=\"Convert this dataframe to an interactive table.\"\n",
              "              style=\"display:none;\">\n",
              "        \n",
              "  <svg xmlns=\"http://www.w3.org/2000/svg\" height=\"24px\"viewBox=\"0 0 24 24\"\n",
              "       width=\"24px\">\n",
              "    <path d=\"M0 0h24v24H0V0z\" fill=\"none\"/>\n",
              "    <path d=\"M18.56 5.44l.94 2.06.94-2.06 2.06-.94-2.06-.94-.94-2.06-.94 2.06-2.06.94zm-11 1L8.5 8.5l.94-2.06 2.06-.94-2.06-.94L8.5 2.5l-.94 2.06-2.06.94zm10 10l.94 2.06.94-2.06 2.06-.94-2.06-.94-.94-2.06-.94 2.06-2.06.94z\"/><path d=\"M17.41 7.96l-1.37-1.37c-.4-.4-.92-.59-1.43-.59-.52 0-1.04.2-1.43.59L10.3 9.45l-7.72 7.72c-.78.78-.78 2.05 0 2.83L4 21.41c.39.39.9.59 1.41.59.51 0 1.02-.2 1.41-.59l7.78-7.78 2.81-2.81c.8-.78.8-2.07 0-2.86zM5.41 20L4 18.59l7.72-7.72 1.47 1.35L5.41 20z\"/>\n",
              "  </svg>\n",
              "      </button>\n",
              "      \n",
              "  <style>\n",
              "    .colab-df-container {\n",
              "      display:flex;\n",
              "      flex-wrap:wrap;\n",
              "      gap: 12px;\n",
              "    }\n",
              "\n",
              "    .colab-df-convert {\n",
              "      background-color: #E8F0FE;\n",
              "      border: none;\n",
              "      border-radius: 50%;\n",
              "      cursor: pointer;\n",
              "      display: none;\n",
              "      fill: #1967D2;\n",
              "      height: 32px;\n",
              "      padding: 0 0 0 0;\n",
              "      width: 32px;\n",
              "    }\n",
              "\n",
              "    .colab-df-convert:hover {\n",
              "      background-color: #E2EBFA;\n",
              "      box-shadow: 0px 1px 2px rgba(60, 64, 67, 0.3), 0px 1px 3px 1px rgba(60, 64, 67, 0.15);\n",
              "      fill: #174EA6;\n",
              "    }\n",
              "\n",
              "    [theme=dark] .colab-df-convert {\n",
              "      background-color: #3B4455;\n",
              "      fill: #D2E3FC;\n",
              "    }\n",
              "\n",
              "    [theme=dark] .colab-df-convert:hover {\n",
              "      background-color: #434B5C;\n",
              "      box-shadow: 0px 1px 3px 1px rgba(0, 0, 0, 0.15);\n",
              "      filter: drop-shadow(0px 1px 2px rgba(0, 0, 0, 0.3));\n",
              "      fill: #FFFFFF;\n",
              "    }\n",
              "  </style>\n",
              "\n",
              "      <script>\n",
              "        const buttonEl =\n",
              "          document.querySelector('#df-68b8c868-29b2-4165-bce2-5270a57d9d25 button.colab-df-convert');\n",
              "        buttonEl.style.display =\n",
              "          google.colab.kernel.accessAllowed ? 'block' : 'none';\n",
              "\n",
              "        async function convertToInteractive(key) {\n",
              "          const element = document.querySelector('#df-68b8c868-29b2-4165-bce2-5270a57d9d25');\n",
              "          const dataTable =\n",
              "            await google.colab.kernel.invokeFunction('convertToInteractive',\n",
              "                                                     [key], {});\n",
              "          if (!dataTable) return;\n",
              "\n",
              "          const docLinkHtml = 'Like what you see? Visit the ' +\n",
              "            '<a target=\"_blank\" href=https://colab.research.google.com/notebooks/data_table.ipynb>data table notebook</a>'\n",
              "            + ' to learn more about interactive tables.';\n",
              "          element.innerHTML = '';\n",
              "          dataTable['output_type'] = 'display_data';\n",
              "          await google.colab.output.renderOutput(dataTable, element);\n",
              "          const docLink = document.createElement('div');\n",
              "          docLink.innerHTML = docLinkHtml;\n",
              "          element.appendChild(docLink);\n",
              "        }\n",
              "      </script>\n",
              "    </div>\n",
              "  </div>\n",
              "  "
            ]
          },
          "metadata": {},
          "execution_count": 33
        }
      ],
      "source": [
        "# rename the column to count\n",
        "categories_count_df. ...\n",
        "categories_count_df"
      ]
    },
    {
      "cell_type": "code",
      "execution_count": 34,
      "metadata": {
        "id": "hMoFe8nbN0Ba"
      },
      "outputs": [],
      "source": [
        "def create_grouped_df(df, col):\n",
        "    \"\"\"\n",
        "    creates a dataset for counting categories in one field of a df\n",
        "    \"\"\"\n",
        "    series = df.groupby(by=col).count().id.sort_values(ascending=False).reset_index()\n",
        "    df_ = pd.DataFrame(series)\n",
        "    df_.rename(columns={'id': 'count'}, inplace=True)\n",
        "\n",
        "    return df_"
      ]
    },
    {
      "cell_type": "code",
      "execution_count": 35,
      "metadata": {
        "id": "xkN-6nBSN0Bb"
      },
      "outputs": [],
      "source": [
        "def create_plot(df, col):\n",
        "\n",
        "    # create the dataset for the visualization\n",
        "    df_ = create_grouped_df(df, col=col)\n",
        "\n",
        "    # start plotting\n",
        "    fig = px.bar(df_, x=col, y='count', text='count',\n",
        "     labels={'x': col, 'y': 'frequency'}, color='count',\n",
        "     color_continuous_scale='Agsunset_r')\n",
        "\n",
        "    fig.update_traces(\n",
        "        texttemplate='%{text:.2f}', textposition='outside',\n",
        "        textfont_size=10)\n",
        "\n",
        "    # Change the bar mode\n",
        "    fig.update_layout(title_text=f'Field {col} types count')\n",
        "    fig.show(renderer=\"colab\")"
      ]
    },
    {
      "cell_type": "markdown",
      "metadata": {
        "id": "N1YEFaW7N0Bb"
      },
      "source": [
        "Many fields have more than 20 categories which can make visualization and depicting the values challenging. To prevent the plot from getting too messy and illegible, we filter the columns with less than or equal to 20 categories."
      ]
    },
    {
      "cell_type": "code",
      "execution_count": 36,
      "metadata": {
        "colab": {
          "base_uri": "https://localhost:8080/"
        },
        "id": "huUrRtYMN0Bb",
        "outputId": "3dfc5b25-c1ed-4d8e-8e79-bfc05c6e1ad9"
      },
      "outputs": [
        {
          "output_type": "stream",
          "name": "stdout",
          "text": [
            "column:  \u001b[32mplatform\u001b[0m\n",
            "['All' 'x86' 'PowerPC' 'Unspecified' 'x86_64' 'HP' 'ARM' 'Other' 'Desktop'\n",
            " 'ARM64']\n",
            "column:  \u001b[32mstatus\u001b[0m\n",
            "['NEW' 'ASSIGNED' 'REOPENED' 'UNCONFIRMED' 'RESOLVED']\n",
            "column:  \u001b[32mis_confirmed\u001b[0m\n",
            "[ True False]\n",
            "column:  \u001b[32mseverity\u001b[0m\n",
            "['normal' 'critical' 'minor' 'blocker' 'major' 'trivial']\n",
            "column:  \u001b[32mpriority\u001b[0m\n",
            "['P3' '--' 'P5' 'P2' 'P4' 'P1']\n",
            "column:  \u001b[32mtype\u001b[0m\n",
            "['enhancement' 'task']\n"
          ]
        }
      ],
      "source": [
        "# a list of columns we want to visalize\n",
        "visualization_cols = []\n",
        "\n",
        "# start filtering\n",
        "for col in df.columns:\n",
        "\n",
        "    # select the unique values\n",
        "    unique_values = df.loc[:, col].unique()\n",
        "\n",
        "    if len(unique_values)<20 and len(unique_values)>1:\n",
        "        print('column: ', colored(f'{col}', 'green'))\n",
        "        print(unique_values)\n",
        "        visualization_cols.append(col)"
      ]
    },
    {
      "cell_type": "code",
      "source": [
        ""
      ],
      "metadata": {
        "id": "MH6-dKkzPbg6"
      },
      "execution_count": 36,
      "outputs": []
    },
    {
      "cell_type": "code",
      "execution_count": 37,
      "metadata": {
        "colab": {
          "base_uri": "https://localhost:8080/",
          "height": 1000
        },
        "id": "KM-53GdSN0Bc",
        "outputId": "0ae2607e-1b74-43b5-ec22-9f4488772eac"
      },
      "outputs": [
        {
          "output_type": "display_data",
          "data": {
            "text/html": [
              "<html>\n",
              "<head><meta charset=\"utf-8\" /></head>\n",
              "<body>\n",
              "    <div>            <script src=\"https://cdnjs.cloudflare.com/ajax/libs/mathjax/2.7.5/MathJax.js?config=TeX-AMS-MML_SVG\"></script><script type=\"text/javascript\">if (window.MathJax) {MathJax.Hub.Config({SVG: {font: \"STIX-Web\"}});}</script>                <script type=\"text/javascript\">window.PlotlyConfig = {MathJaxConfig: 'local'};</script>\n",
              "        <script src=\"https://cdn.plot.ly/plotly-2.8.3.min.js\"></script>                <div id=\"2f76b0a9-53d0-43ee-a84f-375f63ff44d3\" class=\"plotly-graph-div\" style=\"height:525px; width:100%;\"></div>            <script type=\"text/javascript\">                                    window.PLOTLYENV=window.PLOTLYENV || {};                                    if (document.getElementById(\"2f76b0a9-53d0-43ee-a84f-375f63ff44d3\")) {                    Plotly.newPlot(                        \"2f76b0a9-53d0-43ee-a84f-375f63ff44d3\",                        [{\"alignmentgroup\":\"True\",\"hovertemplate\":\"platform=%{x}<br>count=%{marker.color}<extra></extra>\",\"legendgroup\":\"\",\"marker\":{\"color\":[2727,1228,138,45,26,18,14,10,8,1],\"coloraxis\":\"coloraxis\",\"pattern\":{\"shape\":\"\"}},\"name\":\"\",\"offsetgroup\":\"\",\"orientation\":\"v\",\"showlegend\":false,\"text\":[2727.0,1228.0,138.0,45.0,26.0,18.0,14.0,10.0,8.0,1.0],\"textposition\":\"outside\",\"x\":[\"Unspecified\",\"All\",\"x86\",\"x86_64\",\"ARM64\",\"Other\",\"Desktop\",\"ARM\",\"PowerPC\",\"HP\"],\"xaxis\":\"x\",\"y\":[2727,1228,138,45,26,18,14,10,8,1],\"yaxis\":\"y\",\"type\":\"bar\",\"textfont\":{\"size\":10},\"texttemplate\":\"%{text:.2f}\"}],                        {\"template\":{\"data\":{\"bar\":[{\"error_x\":{\"color\":\"#2a3f5f\"},\"error_y\":{\"color\":\"#2a3f5f\"},\"marker\":{\"line\":{\"color\":\"#E5ECF6\",\"width\":0.5},\"pattern\":{\"fillmode\":\"overlay\",\"size\":10,\"solidity\":0.2}},\"type\":\"bar\"}],\"barpolar\":[{\"marker\":{\"line\":{\"color\":\"#E5ECF6\",\"width\":0.5},\"pattern\":{\"fillmode\":\"overlay\",\"size\":10,\"solidity\":0.2}},\"type\":\"barpolar\"}],\"carpet\":[{\"aaxis\":{\"endlinecolor\":\"#2a3f5f\",\"gridcolor\":\"white\",\"linecolor\":\"white\",\"minorgridcolor\":\"white\",\"startlinecolor\":\"#2a3f5f\"},\"baxis\":{\"endlinecolor\":\"#2a3f5f\",\"gridcolor\":\"white\",\"linecolor\":\"white\",\"minorgridcolor\":\"white\",\"startlinecolor\":\"#2a3f5f\"},\"type\":\"carpet\"}],\"choropleth\":[{\"colorbar\":{\"outlinewidth\":0,\"ticks\":\"\"},\"type\":\"choropleth\"}],\"contour\":[{\"colorbar\":{\"outlinewidth\":0,\"ticks\":\"\"},\"colorscale\":[[0.0,\"#0d0887\"],[0.1111111111111111,\"#46039f\"],[0.2222222222222222,\"#7201a8\"],[0.3333333333333333,\"#9c179e\"],[0.4444444444444444,\"#bd3786\"],[0.5555555555555556,\"#d8576b\"],[0.6666666666666666,\"#ed7953\"],[0.7777777777777778,\"#fb9f3a\"],[0.8888888888888888,\"#fdca26\"],[1.0,\"#f0f921\"]],\"type\":\"contour\"}],\"contourcarpet\":[{\"colorbar\":{\"outlinewidth\":0,\"ticks\":\"\"},\"type\":\"contourcarpet\"}],\"heatmap\":[{\"colorbar\":{\"outlinewidth\":0,\"ticks\":\"\"},\"colorscale\":[[0.0,\"#0d0887\"],[0.1111111111111111,\"#46039f\"],[0.2222222222222222,\"#7201a8\"],[0.3333333333333333,\"#9c179e\"],[0.4444444444444444,\"#bd3786\"],[0.5555555555555556,\"#d8576b\"],[0.6666666666666666,\"#ed7953\"],[0.7777777777777778,\"#fb9f3a\"],[0.8888888888888888,\"#fdca26\"],[1.0,\"#f0f921\"]],\"type\":\"heatmap\"}],\"heatmapgl\":[{\"colorbar\":{\"outlinewidth\":0,\"ticks\":\"\"},\"colorscale\":[[0.0,\"#0d0887\"],[0.1111111111111111,\"#46039f\"],[0.2222222222222222,\"#7201a8\"],[0.3333333333333333,\"#9c179e\"],[0.4444444444444444,\"#bd3786\"],[0.5555555555555556,\"#d8576b\"],[0.6666666666666666,\"#ed7953\"],[0.7777777777777778,\"#fb9f3a\"],[0.8888888888888888,\"#fdca26\"],[1.0,\"#f0f921\"]],\"type\":\"heatmapgl\"}],\"histogram\":[{\"marker\":{\"pattern\":{\"fillmode\":\"overlay\",\"size\":10,\"solidity\":0.2}},\"type\":\"histogram\"}],\"histogram2d\":[{\"colorbar\":{\"outlinewidth\":0,\"ticks\":\"\"},\"colorscale\":[[0.0,\"#0d0887\"],[0.1111111111111111,\"#46039f\"],[0.2222222222222222,\"#7201a8\"],[0.3333333333333333,\"#9c179e\"],[0.4444444444444444,\"#bd3786\"],[0.5555555555555556,\"#d8576b\"],[0.6666666666666666,\"#ed7953\"],[0.7777777777777778,\"#fb9f3a\"],[0.8888888888888888,\"#fdca26\"],[1.0,\"#f0f921\"]],\"type\":\"histogram2d\"}],\"histogram2dcontour\":[{\"colorbar\":{\"outlinewidth\":0,\"ticks\":\"\"},\"colorscale\":[[0.0,\"#0d0887\"],[0.1111111111111111,\"#46039f\"],[0.2222222222222222,\"#7201a8\"],[0.3333333333333333,\"#9c179e\"],[0.4444444444444444,\"#bd3786\"],[0.5555555555555556,\"#d8576b\"],[0.6666666666666666,\"#ed7953\"],[0.7777777777777778,\"#fb9f3a\"],[0.8888888888888888,\"#fdca26\"],[1.0,\"#f0f921\"]],\"type\":\"histogram2dcontour\"}],\"mesh3d\":[{\"colorbar\":{\"outlinewidth\":0,\"ticks\":\"\"},\"type\":\"mesh3d\"}],\"parcoords\":[{\"line\":{\"colorbar\":{\"outlinewidth\":0,\"ticks\":\"\"}},\"type\":\"parcoords\"}],\"pie\":[{\"automargin\":true,\"type\":\"pie\"}],\"scatter\":[{\"marker\":{\"colorbar\":{\"outlinewidth\":0,\"ticks\":\"\"}},\"type\":\"scatter\"}],\"scatter3d\":[{\"line\":{\"colorbar\":{\"outlinewidth\":0,\"ticks\":\"\"}},\"marker\":{\"colorbar\":{\"outlinewidth\":0,\"ticks\":\"\"}},\"type\":\"scatter3d\"}],\"scattercarpet\":[{\"marker\":{\"colorbar\":{\"outlinewidth\":0,\"ticks\":\"\"}},\"type\":\"scattercarpet\"}],\"scattergeo\":[{\"marker\":{\"colorbar\":{\"outlinewidth\":0,\"ticks\":\"\"}},\"type\":\"scattergeo\"}],\"scattergl\":[{\"marker\":{\"colorbar\":{\"outlinewidth\":0,\"ticks\":\"\"}},\"type\":\"scattergl\"}],\"scattermapbox\":[{\"marker\":{\"colorbar\":{\"outlinewidth\":0,\"ticks\":\"\"}},\"type\":\"scattermapbox\"}],\"scatterpolar\":[{\"marker\":{\"colorbar\":{\"outlinewidth\":0,\"ticks\":\"\"}},\"type\":\"scatterpolar\"}],\"scatterpolargl\":[{\"marker\":{\"colorbar\":{\"outlinewidth\":0,\"ticks\":\"\"}},\"type\":\"scatterpolargl\"}],\"scatterternary\":[{\"marker\":{\"colorbar\":{\"outlinewidth\":0,\"ticks\":\"\"}},\"type\":\"scatterternary\"}],\"surface\":[{\"colorbar\":{\"outlinewidth\":0,\"ticks\":\"\"},\"colorscale\":[[0.0,\"#0d0887\"],[0.1111111111111111,\"#46039f\"],[0.2222222222222222,\"#7201a8\"],[0.3333333333333333,\"#9c179e\"],[0.4444444444444444,\"#bd3786\"],[0.5555555555555556,\"#d8576b\"],[0.6666666666666666,\"#ed7953\"],[0.7777777777777778,\"#fb9f3a\"],[0.8888888888888888,\"#fdca26\"],[1.0,\"#f0f921\"]],\"type\":\"surface\"}],\"table\":[{\"cells\":{\"fill\":{\"color\":\"#EBF0F8\"},\"line\":{\"color\":\"white\"}},\"header\":{\"fill\":{\"color\":\"#C8D4E3\"},\"line\":{\"color\":\"white\"}},\"type\":\"table\"}]},\"layout\":{\"annotationdefaults\":{\"arrowcolor\":\"#2a3f5f\",\"arrowhead\":0,\"arrowwidth\":1},\"autotypenumbers\":\"strict\",\"coloraxis\":{\"colorbar\":{\"outlinewidth\":0,\"ticks\":\"\"}},\"colorscale\":{\"diverging\":[[0,\"#8e0152\"],[0.1,\"#c51b7d\"],[0.2,\"#de77ae\"],[0.3,\"#f1b6da\"],[0.4,\"#fde0ef\"],[0.5,\"#f7f7f7\"],[0.6,\"#e6f5d0\"],[0.7,\"#b8e186\"],[0.8,\"#7fbc41\"],[0.9,\"#4d9221\"],[1,\"#276419\"]],\"sequential\":[[0.0,\"#0d0887\"],[0.1111111111111111,\"#46039f\"],[0.2222222222222222,\"#7201a8\"],[0.3333333333333333,\"#9c179e\"],[0.4444444444444444,\"#bd3786\"],[0.5555555555555556,\"#d8576b\"],[0.6666666666666666,\"#ed7953\"],[0.7777777777777778,\"#fb9f3a\"],[0.8888888888888888,\"#fdca26\"],[1.0,\"#f0f921\"]],\"sequentialminus\":[[0.0,\"#0d0887\"],[0.1111111111111111,\"#46039f\"],[0.2222222222222222,\"#7201a8\"],[0.3333333333333333,\"#9c179e\"],[0.4444444444444444,\"#bd3786\"],[0.5555555555555556,\"#d8576b\"],[0.6666666666666666,\"#ed7953\"],[0.7777777777777778,\"#fb9f3a\"],[0.8888888888888888,\"#fdca26\"],[1.0,\"#f0f921\"]]},\"colorway\":[\"#636efa\",\"#EF553B\",\"#00cc96\",\"#ab63fa\",\"#FFA15A\",\"#19d3f3\",\"#FF6692\",\"#B6E880\",\"#FF97FF\",\"#FECB52\"],\"font\":{\"color\":\"#2a3f5f\"},\"geo\":{\"bgcolor\":\"white\",\"lakecolor\":\"white\",\"landcolor\":\"#E5ECF6\",\"showlakes\":true,\"showland\":true,\"subunitcolor\":\"white\"},\"hoverlabel\":{\"align\":\"left\"},\"hovermode\":\"closest\",\"mapbox\":{\"style\":\"light\"},\"paper_bgcolor\":\"white\",\"plot_bgcolor\":\"#E5ECF6\",\"polar\":{\"angularaxis\":{\"gridcolor\":\"white\",\"linecolor\":\"white\",\"ticks\":\"\"},\"bgcolor\":\"#E5ECF6\",\"radialaxis\":{\"gridcolor\":\"white\",\"linecolor\":\"white\",\"ticks\":\"\"}},\"scene\":{\"xaxis\":{\"backgroundcolor\":\"#E5ECF6\",\"gridcolor\":\"white\",\"gridwidth\":2,\"linecolor\":\"white\",\"showbackground\":true,\"ticks\":\"\",\"zerolinecolor\":\"white\"},\"yaxis\":{\"backgroundcolor\":\"#E5ECF6\",\"gridcolor\":\"white\",\"gridwidth\":2,\"linecolor\":\"white\",\"showbackground\":true,\"ticks\":\"\",\"zerolinecolor\":\"white\"},\"zaxis\":{\"backgroundcolor\":\"#E5ECF6\",\"gridcolor\":\"white\",\"gridwidth\":2,\"linecolor\":\"white\",\"showbackground\":true,\"ticks\":\"\",\"zerolinecolor\":\"white\"}},\"shapedefaults\":{\"line\":{\"color\":\"#2a3f5f\"}},\"ternary\":{\"aaxis\":{\"gridcolor\":\"white\",\"linecolor\":\"white\",\"ticks\":\"\"},\"baxis\":{\"gridcolor\":\"white\",\"linecolor\":\"white\",\"ticks\":\"\"},\"bgcolor\":\"#E5ECF6\",\"caxis\":{\"gridcolor\":\"white\",\"linecolor\":\"white\",\"ticks\":\"\"}},\"title\":{\"x\":0.05},\"xaxis\":{\"automargin\":true,\"gridcolor\":\"white\",\"linecolor\":\"white\",\"ticks\":\"\",\"title\":{\"standoff\":15},\"zerolinecolor\":\"white\",\"zerolinewidth\":2},\"yaxis\":{\"automargin\":true,\"gridcolor\":\"white\",\"linecolor\":\"white\",\"ticks\":\"\",\"title\":{\"standoff\":15},\"zerolinecolor\":\"white\",\"zerolinewidth\":2}}},\"xaxis\":{\"anchor\":\"y\",\"domain\":[0.0,1.0],\"title\":{\"text\":\"platform\"}},\"yaxis\":{\"anchor\":\"x\",\"domain\":[0.0,1.0],\"title\":{\"text\":\"count\"}},\"coloraxis\":{\"colorbar\":{\"title\":{\"text\":\"count\"}},\"colorscale\":[[0.0,\"rgb(237, 217, 163)\"],[0.16666666666666666,\"rgb(246, 169, 122)\"],[0.3333333333333333,\"rgb(250, 120, 118)\"],[0.5,\"rgb(234, 79, 136)\"],[0.6666666666666666,\"rgb(192, 54, 157)\"],[0.8333333333333334,\"rgb(135, 44, 162)\"],[1.0,\"rgb(75, 41, 145)\"]]},\"legend\":{\"tracegroupgap\":0},\"margin\":{\"t\":60},\"barmode\":\"relative\",\"title\":{\"text\":\"Field platform types count\"}},                        {\"responsive\": true}                    ).then(function(){\n",
              "                            \n",
              "var gd = document.getElementById('2f76b0a9-53d0-43ee-a84f-375f63ff44d3');\n",
              "var x = new MutationObserver(function (mutations, observer) {{\n",
              "        var display = window.getComputedStyle(gd).display;\n",
              "        if (!display || display === 'none') {{\n",
              "            console.log([gd, 'removed!']);\n",
              "            Plotly.purge(gd);\n",
              "            observer.disconnect();\n",
              "        }}\n",
              "}});\n",
              "\n",
              "// Listen for the removal of the full notebook cells\n",
              "var notebookContainer = gd.closest('#notebook-container');\n",
              "if (notebookContainer) {{\n",
              "    x.observe(notebookContainer, {childList: true});\n",
              "}}\n",
              "\n",
              "// Listen for the clearing of the current output cell\n",
              "var outputEl = gd.closest('.output');\n",
              "if (outputEl) {{\n",
              "    x.observe(outputEl, {childList: true});\n",
              "}}\n",
              "\n",
              "                        })                };                            </script>        </div>\n",
              "</body>\n",
              "</html>"
            ]
          },
          "metadata": {}
        },
        {
          "output_type": "display_data",
          "data": {
            "text/html": [
              "<html>\n",
              "<head><meta charset=\"utf-8\" /></head>\n",
              "<body>\n",
              "    <div>            <script src=\"https://cdnjs.cloudflare.com/ajax/libs/mathjax/2.7.5/MathJax.js?config=TeX-AMS-MML_SVG\"></script><script type=\"text/javascript\">if (window.MathJax) {MathJax.Hub.Config({SVG: {font: \"STIX-Web\"}});}</script>                <script type=\"text/javascript\">window.PlotlyConfig = {MathJaxConfig: 'local'};</script>\n",
              "        <script src=\"https://cdn.plot.ly/plotly-2.8.3.min.js\"></script>                <div id=\"eb5992eb-d633-40fe-bedf-fa6767d91cbe\" class=\"plotly-graph-div\" style=\"height:525px; width:100%;\"></div>            <script type=\"text/javascript\">                                    window.PLOTLYENV=window.PLOTLYENV || {};                                    if (document.getElementById(\"eb5992eb-d633-40fe-bedf-fa6767d91cbe\")) {                    Plotly.newPlot(                        \"eb5992eb-d633-40fe-bedf-fa6767d91cbe\",                        [{\"alignmentgroup\":\"True\",\"hovertemplate\":\"status=%{x}<br>count=%{marker.color}<extra></extra>\",\"legendgroup\":\"\",\"marker\":{\"color\":[3695,366,109,30,15],\"coloraxis\":\"coloraxis\",\"pattern\":{\"shape\":\"\"}},\"name\":\"\",\"offsetgroup\":\"\",\"orientation\":\"v\",\"showlegend\":false,\"text\":[3695.0,366.0,109.0,30.0,15.0],\"textposition\":\"outside\",\"x\":[\"NEW\",\"ASSIGNED\",\"REOPENED\",\"UNCONFIRMED\",\"RESOLVED\"],\"xaxis\":\"x\",\"y\":[3695,366,109,30,15],\"yaxis\":\"y\",\"type\":\"bar\",\"textfont\":{\"size\":10},\"texttemplate\":\"%{text:.2f}\"}],                        {\"template\":{\"data\":{\"bar\":[{\"error_x\":{\"color\":\"#2a3f5f\"},\"error_y\":{\"color\":\"#2a3f5f\"},\"marker\":{\"line\":{\"color\":\"#E5ECF6\",\"width\":0.5},\"pattern\":{\"fillmode\":\"overlay\",\"size\":10,\"solidity\":0.2}},\"type\":\"bar\"}],\"barpolar\":[{\"marker\":{\"line\":{\"color\":\"#E5ECF6\",\"width\":0.5},\"pattern\":{\"fillmode\":\"overlay\",\"size\":10,\"solidity\":0.2}},\"type\":\"barpolar\"}],\"carpet\":[{\"aaxis\":{\"endlinecolor\":\"#2a3f5f\",\"gridcolor\":\"white\",\"linecolor\":\"white\",\"minorgridcolor\":\"white\",\"startlinecolor\":\"#2a3f5f\"},\"baxis\":{\"endlinecolor\":\"#2a3f5f\",\"gridcolor\":\"white\",\"linecolor\":\"white\",\"minorgridcolor\":\"white\",\"startlinecolor\":\"#2a3f5f\"},\"type\":\"carpet\"}],\"choropleth\":[{\"colorbar\":{\"outlinewidth\":0,\"ticks\":\"\"},\"type\":\"choropleth\"}],\"contour\":[{\"colorbar\":{\"outlinewidth\":0,\"ticks\":\"\"},\"colorscale\":[[0.0,\"#0d0887\"],[0.1111111111111111,\"#46039f\"],[0.2222222222222222,\"#7201a8\"],[0.3333333333333333,\"#9c179e\"],[0.4444444444444444,\"#bd3786\"],[0.5555555555555556,\"#d8576b\"],[0.6666666666666666,\"#ed7953\"],[0.7777777777777778,\"#fb9f3a\"],[0.8888888888888888,\"#fdca26\"],[1.0,\"#f0f921\"]],\"type\":\"contour\"}],\"contourcarpet\":[{\"colorbar\":{\"outlinewidth\":0,\"ticks\":\"\"},\"type\":\"contourcarpet\"}],\"heatmap\":[{\"colorbar\":{\"outlinewidth\":0,\"ticks\":\"\"},\"colorscale\":[[0.0,\"#0d0887\"],[0.1111111111111111,\"#46039f\"],[0.2222222222222222,\"#7201a8\"],[0.3333333333333333,\"#9c179e\"],[0.4444444444444444,\"#bd3786\"],[0.5555555555555556,\"#d8576b\"],[0.6666666666666666,\"#ed7953\"],[0.7777777777777778,\"#fb9f3a\"],[0.8888888888888888,\"#fdca26\"],[1.0,\"#f0f921\"]],\"type\":\"heatmap\"}],\"heatmapgl\":[{\"colorbar\":{\"outlinewidth\":0,\"ticks\":\"\"},\"colorscale\":[[0.0,\"#0d0887\"],[0.1111111111111111,\"#46039f\"],[0.2222222222222222,\"#7201a8\"],[0.3333333333333333,\"#9c179e\"],[0.4444444444444444,\"#bd3786\"],[0.5555555555555556,\"#d8576b\"],[0.6666666666666666,\"#ed7953\"],[0.7777777777777778,\"#fb9f3a\"],[0.8888888888888888,\"#fdca26\"],[1.0,\"#f0f921\"]],\"type\":\"heatmapgl\"}],\"histogram\":[{\"marker\":{\"pattern\":{\"fillmode\":\"overlay\",\"size\":10,\"solidity\":0.2}},\"type\":\"histogram\"}],\"histogram2d\":[{\"colorbar\":{\"outlinewidth\":0,\"ticks\":\"\"},\"colorscale\":[[0.0,\"#0d0887\"],[0.1111111111111111,\"#46039f\"],[0.2222222222222222,\"#7201a8\"],[0.3333333333333333,\"#9c179e\"],[0.4444444444444444,\"#bd3786\"],[0.5555555555555556,\"#d8576b\"],[0.6666666666666666,\"#ed7953\"],[0.7777777777777778,\"#fb9f3a\"],[0.8888888888888888,\"#fdca26\"],[1.0,\"#f0f921\"]],\"type\":\"histogram2d\"}],\"histogram2dcontour\":[{\"colorbar\":{\"outlinewidth\":0,\"ticks\":\"\"},\"colorscale\":[[0.0,\"#0d0887\"],[0.1111111111111111,\"#46039f\"],[0.2222222222222222,\"#7201a8\"],[0.3333333333333333,\"#9c179e\"],[0.4444444444444444,\"#bd3786\"],[0.5555555555555556,\"#d8576b\"],[0.6666666666666666,\"#ed7953\"],[0.7777777777777778,\"#fb9f3a\"],[0.8888888888888888,\"#fdca26\"],[1.0,\"#f0f921\"]],\"type\":\"histogram2dcontour\"}],\"mesh3d\":[{\"colorbar\":{\"outlinewidth\":0,\"ticks\":\"\"},\"type\":\"mesh3d\"}],\"parcoords\":[{\"line\":{\"colorbar\":{\"outlinewidth\":0,\"ticks\":\"\"}},\"type\":\"parcoords\"}],\"pie\":[{\"automargin\":true,\"type\":\"pie\"}],\"scatter\":[{\"marker\":{\"colorbar\":{\"outlinewidth\":0,\"ticks\":\"\"}},\"type\":\"scatter\"}],\"scatter3d\":[{\"line\":{\"colorbar\":{\"outlinewidth\":0,\"ticks\":\"\"}},\"marker\":{\"colorbar\":{\"outlinewidth\":0,\"ticks\":\"\"}},\"type\":\"scatter3d\"}],\"scattercarpet\":[{\"marker\":{\"colorbar\":{\"outlinewidth\":0,\"ticks\":\"\"}},\"type\":\"scattercarpet\"}],\"scattergeo\":[{\"marker\":{\"colorbar\":{\"outlinewidth\":0,\"ticks\":\"\"}},\"type\":\"scattergeo\"}],\"scattergl\":[{\"marker\":{\"colorbar\":{\"outlinewidth\":0,\"ticks\":\"\"}},\"type\":\"scattergl\"}],\"scattermapbox\":[{\"marker\":{\"colorbar\":{\"outlinewidth\":0,\"ticks\":\"\"}},\"type\":\"scattermapbox\"}],\"scatterpolar\":[{\"marker\":{\"colorbar\":{\"outlinewidth\":0,\"ticks\":\"\"}},\"type\":\"scatterpolar\"}],\"scatterpolargl\":[{\"marker\":{\"colorbar\":{\"outlinewidth\":0,\"ticks\":\"\"}},\"type\":\"scatterpolargl\"}],\"scatterternary\":[{\"marker\":{\"colorbar\":{\"outlinewidth\":0,\"ticks\":\"\"}},\"type\":\"scatterternary\"}],\"surface\":[{\"colorbar\":{\"outlinewidth\":0,\"ticks\":\"\"},\"colorscale\":[[0.0,\"#0d0887\"],[0.1111111111111111,\"#46039f\"],[0.2222222222222222,\"#7201a8\"],[0.3333333333333333,\"#9c179e\"],[0.4444444444444444,\"#bd3786\"],[0.5555555555555556,\"#d8576b\"],[0.6666666666666666,\"#ed7953\"],[0.7777777777777778,\"#fb9f3a\"],[0.8888888888888888,\"#fdca26\"],[1.0,\"#f0f921\"]],\"type\":\"surface\"}],\"table\":[{\"cells\":{\"fill\":{\"color\":\"#EBF0F8\"},\"line\":{\"color\":\"white\"}},\"header\":{\"fill\":{\"color\":\"#C8D4E3\"},\"line\":{\"color\":\"white\"}},\"type\":\"table\"}]},\"layout\":{\"annotationdefaults\":{\"arrowcolor\":\"#2a3f5f\",\"arrowhead\":0,\"arrowwidth\":1},\"autotypenumbers\":\"strict\",\"coloraxis\":{\"colorbar\":{\"outlinewidth\":0,\"ticks\":\"\"}},\"colorscale\":{\"diverging\":[[0,\"#8e0152\"],[0.1,\"#c51b7d\"],[0.2,\"#de77ae\"],[0.3,\"#f1b6da\"],[0.4,\"#fde0ef\"],[0.5,\"#f7f7f7\"],[0.6,\"#e6f5d0\"],[0.7,\"#b8e186\"],[0.8,\"#7fbc41\"],[0.9,\"#4d9221\"],[1,\"#276419\"]],\"sequential\":[[0.0,\"#0d0887\"],[0.1111111111111111,\"#46039f\"],[0.2222222222222222,\"#7201a8\"],[0.3333333333333333,\"#9c179e\"],[0.4444444444444444,\"#bd3786\"],[0.5555555555555556,\"#d8576b\"],[0.6666666666666666,\"#ed7953\"],[0.7777777777777778,\"#fb9f3a\"],[0.8888888888888888,\"#fdca26\"],[1.0,\"#f0f921\"]],\"sequentialminus\":[[0.0,\"#0d0887\"],[0.1111111111111111,\"#46039f\"],[0.2222222222222222,\"#7201a8\"],[0.3333333333333333,\"#9c179e\"],[0.4444444444444444,\"#bd3786\"],[0.5555555555555556,\"#d8576b\"],[0.6666666666666666,\"#ed7953\"],[0.7777777777777778,\"#fb9f3a\"],[0.8888888888888888,\"#fdca26\"],[1.0,\"#f0f921\"]]},\"colorway\":[\"#636efa\",\"#EF553B\",\"#00cc96\",\"#ab63fa\",\"#FFA15A\",\"#19d3f3\",\"#FF6692\",\"#B6E880\",\"#FF97FF\",\"#FECB52\"],\"font\":{\"color\":\"#2a3f5f\"},\"geo\":{\"bgcolor\":\"white\",\"lakecolor\":\"white\",\"landcolor\":\"#E5ECF6\",\"showlakes\":true,\"showland\":true,\"subunitcolor\":\"white\"},\"hoverlabel\":{\"align\":\"left\"},\"hovermode\":\"closest\",\"mapbox\":{\"style\":\"light\"},\"paper_bgcolor\":\"white\",\"plot_bgcolor\":\"#E5ECF6\",\"polar\":{\"angularaxis\":{\"gridcolor\":\"white\",\"linecolor\":\"white\",\"ticks\":\"\"},\"bgcolor\":\"#E5ECF6\",\"radialaxis\":{\"gridcolor\":\"white\",\"linecolor\":\"white\",\"ticks\":\"\"}},\"scene\":{\"xaxis\":{\"backgroundcolor\":\"#E5ECF6\",\"gridcolor\":\"white\",\"gridwidth\":2,\"linecolor\":\"white\",\"showbackground\":true,\"ticks\":\"\",\"zerolinecolor\":\"white\"},\"yaxis\":{\"backgroundcolor\":\"#E5ECF6\",\"gridcolor\":\"white\",\"gridwidth\":2,\"linecolor\":\"white\",\"showbackground\":true,\"ticks\":\"\",\"zerolinecolor\":\"white\"},\"zaxis\":{\"backgroundcolor\":\"#E5ECF6\",\"gridcolor\":\"white\",\"gridwidth\":2,\"linecolor\":\"white\",\"showbackground\":true,\"ticks\":\"\",\"zerolinecolor\":\"white\"}},\"shapedefaults\":{\"line\":{\"color\":\"#2a3f5f\"}},\"ternary\":{\"aaxis\":{\"gridcolor\":\"white\",\"linecolor\":\"white\",\"ticks\":\"\"},\"baxis\":{\"gridcolor\":\"white\",\"linecolor\":\"white\",\"ticks\":\"\"},\"bgcolor\":\"#E5ECF6\",\"caxis\":{\"gridcolor\":\"white\",\"linecolor\":\"white\",\"ticks\":\"\"}},\"title\":{\"x\":0.05},\"xaxis\":{\"automargin\":true,\"gridcolor\":\"white\",\"linecolor\":\"white\",\"ticks\":\"\",\"title\":{\"standoff\":15},\"zerolinecolor\":\"white\",\"zerolinewidth\":2},\"yaxis\":{\"automargin\":true,\"gridcolor\":\"white\",\"linecolor\":\"white\",\"ticks\":\"\",\"title\":{\"standoff\":15},\"zerolinecolor\":\"white\",\"zerolinewidth\":2}}},\"xaxis\":{\"anchor\":\"y\",\"domain\":[0.0,1.0],\"title\":{\"text\":\"status\"}},\"yaxis\":{\"anchor\":\"x\",\"domain\":[0.0,1.0],\"title\":{\"text\":\"count\"}},\"coloraxis\":{\"colorbar\":{\"title\":{\"text\":\"count\"}},\"colorscale\":[[0.0,\"rgb(237, 217, 163)\"],[0.16666666666666666,\"rgb(246, 169, 122)\"],[0.3333333333333333,\"rgb(250, 120, 118)\"],[0.5,\"rgb(234, 79, 136)\"],[0.6666666666666666,\"rgb(192, 54, 157)\"],[0.8333333333333334,\"rgb(135, 44, 162)\"],[1.0,\"rgb(75, 41, 145)\"]]},\"legend\":{\"tracegroupgap\":0},\"margin\":{\"t\":60},\"barmode\":\"relative\",\"title\":{\"text\":\"Field status types count\"}},                        {\"responsive\": true}                    ).then(function(){\n",
              "                            \n",
              "var gd = document.getElementById('eb5992eb-d633-40fe-bedf-fa6767d91cbe');\n",
              "var x = new MutationObserver(function (mutations, observer) {{\n",
              "        var display = window.getComputedStyle(gd).display;\n",
              "        if (!display || display === 'none') {{\n",
              "            console.log([gd, 'removed!']);\n",
              "            Plotly.purge(gd);\n",
              "            observer.disconnect();\n",
              "        }}\n",
              "}});\n",
              "\n",
              "// Listen for the removal of the full notebook cells\n",
              "var notebookContainer = gd.closest('#notebook-container');\n",
              "if (notebookContainer) {{\n",
              "    x.observe(notebookContainer, {childList: true});\n",
              "}}\n",
              "\n",
              "// Listen for the clearing of the current output cell\n",
              "var outputEl = gd.closest('.output');\n",
              "if (outputEl) {{\n",
              "    x.observe(outputEl, {childList: true});\n",
              "}}\n",
              "\n",
              "                        })                };                            </script>        </div>\n",
              "</body>\n",
              "</html>"
            ]
          },
          "metadata": {}
        },
        {
          "output_type": "display_data",
          "data": {
            "text/html": [
              "<html>\n",
              "<head><meta charset=\"utf-8\" /></head>\n",
              "<body>\n",
              "    <div>            <script src=\"https://cdnjs.cloudflare.com/ajax/libs/mathjax/2.7.5/MathJax.js?config=TeX-AMS-MML_SVG\"></script><script type=\"text/javascript\">if (window.MathJax) {MathJax.Hub.Config({SVG: {font: \"STIX-Web\"}});}</script>                <script type=\"text/javascript\">window.PlotlyConfig = {MathJaxConfig: 'local'};</script>\n",
              "        <script src=\"https://cdn.plot.ly/plotly-2.8.3.min.js\"></script>                <div id=\"97214bc8-5d21-41e2-9127-9454cdac8264\" class=\"plotly-graph-div\" style=\"height:525px; width:100%;\"></div>            <script type=\"text/javascript\">                                    window.PLOTLYENV=window.PLOTLYENV || {};                                    if (document.getElementById(\"97214bc8-5d21-41e2-9127-9454cdac8264\")) {                    Plotly.newPlot(                        \"97214bc8-5d21-41e2-9127-9454cdac8264\",                        [{\"alignmentgroup\":\"True\",\"hovertemplate\":\"is_confirmed=%{x}<br>count=%{marker.color}<extra></extra>\",\"legendgroup\":\"\",\"marker\":{\"color\":[4185,30],\"coloraxis\":\"coloraxis\",\"pattern\":{\"shape\":\"\"}},\"name\":\"\",\"offsetgroup\":\"\",\"orientation\":\"v\",\"showlegend\":false,\"text\":[4185.0,30.0],\"textposition\":\"outside\",\"x\":[true,false],\"xaxis\":\"x\",\"y\":[4185,30],\"yaxis\":\"y\",\"type\":\"bar\",\"textfont\":{\"size\":10},\"texttemplate\":\"%{text:.2f}\"}],                        {\"template\":{\"data\":{\"bar\":[{\"error_x\":{\"color\":\"#2a3f5f\"},\"error_y\":{\"color\":\"#2a3f5f\"},\"marker\":{\"line\":{\"color\":\"#E5ECF6\",\"width\":0.5},\"pattern\":{\"fillmode\":\"overlay\",\"size\":10,\"solidity\":0.2}},\"type\":\"bar\"}],\"barpolar\":[{\"marker\":{\"line\":{\"color\":\"#E5ECF6\",\"width\":0.5},\"pattern\":{\"fillmode\":\"overlay\",\"size\":10,\"solidity\":0.2}},\"type\":\"barpolar\"}],\"carpet\":[{\"aaxis\":{\"endlinecolor\":\"#2a3f5f\",\"gridcolor\":\"white\",\"linecolor\":\"white\",\"minorgridcolor\":\"white\",\"startlinecolor\":\"#2a3f5f\"},\"baxis\":{\"endlinecolor\":\"#2a3f5f\",\"gridcolor\":\"white\",\"linecolor\":\"white\",\"minorgridcolor\":\"white\",\"startlinecolor\":\"#2a3f5f\"},\"type\":\"carpet\"}],\"choropleth\":[{\"colorbar\":{\"outlinewidth\":0,\"ticks\":\"\"},\"type\":\"choropleth\"}],\"contour\":[{\"colorbar\":{\"outlinewidth\":0,\"ticks\":\"\"},\"colorscale\":[[0.0,\"#0d0887\"],[0.1111111111111111,\"#46039f\"],[0.2222222222222222,\"#7201a8\"],[0.3333333333333333,\"#9c179e\"],[0.4444444444444444,\"#bd3786\"],[0.5555555555555556,\"#d8576b\"],[0.6666666666666666,\"#ed7953\"],[0.7777777777777778,\"#fb9f3a\"],[0.8888888888888888,\"#fdca26\"],[1.0,\"#f0f921\"]],\"type\":\"contour\"}],\"contourcarpet\":[{\"colorbar\":{\"outlinewidth\":0,\"ticks\":\"\"},\"type\":\"contourcarpet\"}],\"heatmap\":[{\"colorbar\":{\"outlinewidth\":0,\"ticks\":\"\"},\"colorscale\":[[0.0,\"#0d0887\"],[0.1111111111111111,\"#46039f\"],[0.2222222222222222,\"#7201a8\"],[0.3333333333333333,\"#9c179e\"],[0.4444444444444444,\"#bd3786\"],[0.5555555555555556,\"#d8576b\"],[0.6666666666666666,\"#ed7953\"],[0.7777777777777778,\"#fb9f3a\"],[0.8888888888888888,\"#fdca26\"],[1.0,\"#f0f921\"]],\"type\":\"heatmap\"}],\"heatmapgl\":[{\"colorbar\":{\"outlinewidth\":0,\"ticks\":\"\"},\"colorscale\":[[0.0,\"#0d0887\"],[0.1111111111111111,\"#46039f\"],[0.2222222222222222,\"#7201a8\"],[0.3333333333333333,\"#9c179e\"],[0.4444444444444444,\"#bd3786\"],[0.5555555555555556,\"#d8576b\"],[0.6666666666666666,\"#ed7953\"],[0.7777777777777778,\"#fb9f3a\"],[0.8888888888888888,\"#fdca26\"],[1.0,\"#f0f921\"]],\"type\":\"heatmapgl\"}],\"histogram\":[{\"marker\":{\"pattern\":{\"fillmode\":\"overlay\",\"size\":10,\"solidity\":0.2}},\"type\":\"histogram\"}],\"histogram2d\":[{\"colorbar\":{\"outlinewidth\":0,\"ticks\":\"\"},\"colorscale\":[[0.0,\"#0d0887\"],[0.1111111111111111,\"#46039f\"],[0.2222222222222222,\"#7201a8\"],[0.3333333333333333,\"#9c179e\"],[0.4444444444444444,\"#bd3786\"],[0.5555555555555556,\"#d8576b\"],[0.6666666666666666,\"#ed7953\"],[0.7777777777777778,\"#fb9f3a\"],[0.8888888888888888,\"#fdca26\"],[1.0,\"#f0f921\"]],\"type\":\"histogram2d\"}],\"histogram2dcontour\":[{\"colorbar\":{\"outlinewidth\":0,\"ticks\":\"\"},\"colorscale\":[[0.0,\"#0d0887\"],[0.1111111111111111,\"#46039f\"],[0.2222222222222222,\"#7201a8\"],[0.3333333333333333,\"#9c179e\"],[0.4444444444444444,\"#bd3786\"],[0.5555555555555556,\"#d8576b\"],[0.6666666666666666,\"#ed7953\"],[0.7777777777777778,\"#fb9f3a\"],[0.8888888888888888,\"#fdca26\"],[1.0,\"#f0f921\"]],\"type\":\"histogram2dcontour\"}],\"mesh3d\":[{\"colorbar\":{\"outlinewidth\":0,\"ticks\":\"\"},\"type\":\"mesh3d\"}],\"parcoords\":[{\"line\":{\"colorbar\":{\"outlinewidth\":0,\"ticks\":\"\"}},\"type\":\"parcoords\"}],\"pie\":[{\"automargin\":true,\"type\":\"pie\"}],\"scatter\":[{\"marker\":{\"colorbar\":{\"outlinewidth\":0,\"ticks\":\"\"}},\"type\":\"scatter\"}],\"scatter3d\":[{\"line\":{\"colorbar\":{\"outlinewidth\":0,\"ticks\":\"\"}},\"marker\":{\"colorbar\":{\"outlinewidth\":0,\"ticks\":\"\"}},\"type\":\"scatter3d\"}],\"scattercarpet\":[{\"marker\":{\"colorbar\":{\"outlinewidth\":0,\"ticks\":\"\"}},\"type\":\"scattercarpet\"}],\"scattergeo\":[{\"marker\":{\"colorbar\":{\"outlinewidth\":0,\"ticks\":\"\"}},\"type\":\"scattergeo\"}],\"scattergl\":[{\"marker\":{\"colorbar\":{\"outlinewidth\":0,\"ticks\":\"\"}},\"type\":\"scattergl\"}],\"scattermapbox\":[{\"marker\":{\"colorbar\":{\"outlinewidth\":0,\"ticks\":\"\"}},\"type\":\"scattermapbox\"}],\"scatterpolar\":[{\"marker\":{\"colorbar\":{\"outlinewidth\":0,\"ticks\":\"\"}},\"type\":\"scatterpolar\"}],\"scatterpolargl\":[{\"marker\":{\"colorbar\":{\"outlinewidth\":0,\"ticks\":\"\"}},\"type\":\"scatterpolargl\"}],\"scatterternary\":[{\"marker\":{\"colorbar\":{\"outlinewidth\":0,\"ticks\":\"\"}},\"type\":\"scatterternary\"}],\"surface\":[{\"colorbar\":{\"outlinewidth\":0,\"ticks\":\"\"},\"colorscale\":[[0.0,\"#0d0887\"],[0.1111111111111111,\"#46039f\"],[0.2222222222222222,\"#7201a8\"],[0.3333333333333333,\"#9c179e\"],[0.4444444444444444,\"#bd3786\"],[0.5555555555555556,\"#d8576b\"],[0.6666666666666666,\"#ed7953\"],[0.7777777777777778,\"#fb9f3a\"],[0.8888888888888888,\"#fdca26\"],[1.0,\"#f0f921\"]],\"type\":\"surface\"}],\"table\":[{\"cells\":{\"fill\":{\"color\":\"#EBF0F8\"},\"line\":{\"color\":\"white\"}},\"header\":{\"fill\":{\"color\":\"#C8D4E3\"},\"line\":{\"color\":\"white\"}},\"type\":\"table\"}]},\"layout\":{\"annotationdefaults\":{\"arrowcolor\":\"#2a3f5f\",\"arrowhead\":0,\"arrowwidth\":1},\"autotypenumbers\":\"strict\",\"coloraxis\":{\"colorbar\":{\"outlinewidth\":0,\"ticks\":\"\"}},\"colorscale\":{\"diverging\":[[0,\"#8e0152\"],[0.1,\"#c51b7d\"],[0.2,\"#de77ae\"],[0.3,\"#f1b6da\"],[0.4,\"#fde0ef\"],[0.5,\"#f7f7f7\"],[0.6,\"#e6f5d0\"],[0.7,\"#b8e186\"],[0.8,\"#7fbc41\"],[0.9,\"#4d9221\"],[1,\"#276419\"]],\"sequential\":[[0.0,\"#0d0887\"],[0.1111111111111111,\"#46039f\"],[0.2222222222222222,\"#7201a8\"],[0.3333333333333333,\"#9c179e\"],[0.4444444444444444,\"#bd3786\"],[0.5555555555555556,\"#d8576b\"],[0.6666666666666666,\"#ed7953\"],[0.7777777777777778,\"#fb9f3a\"],[0.8888888888888888,\"#fdca26\"],[1.0,\"#f0f921\"]],\"sequentialminus\":[[0.0,\"#0d0887\"],[0.1111111111111111,\"#46039f\"],[0.2222222222222222,\"#7201a8\"],[0.3333333333333333,\"#9c179e\"],[0.4444444444444444,\"#bd3786\"],[0.5555555555555556,\"#d8576b\"],[0.6666666666666666,\"#ed7953\"],[0.7777777777777778,\"#fb9f3a\"],[0.8888888888888888,\"#fdca26\"],[1.0,\"#f0f921\"]]},\"colorway\":[\"#636efa\",\"#EF553B\",\"#00cc96\",\"#ab63fa\",\"#FFA15A\",\"#19d3f3\",\"#FF6692\",\"#B6E880\",\"#FF97FF\",\"#FECB52\"],\"font\":{\"color\":\"#2a3f5f\"},\"geo\":{\"bgcolor\":\"white\",\"lakecolor\":\"white\",\"landcolor\":\"#E5ECF6\",\"showlakes\":true,\"showland\":true,\"subunitcolor\":\"white\"},\"hoverlabel\":{\"align\":\"left\"},\"hovermode\":\"closest\",\"mapbox\":{\"style\":\"light\"},\"paper_bgcolor\":\"white\",\"plot_bgcolor\":\"#E5ECF6\",\"polar\":{\"angularaxis\":{\"gridcolor\":\"white\",\"linecolor\":\"white\",\"ticks\":\"\"},\"bgcolor\":\"#E5ECF6\",\"radialaxis\":{\"gridcolor\":\"white\",\"linecolor\":\"white\",\"ticks\":\"\"}},\"scene\":{\"xaxis\":{\"backgroundcolor\":\"#E5ECF6\",\"gridcolor\":\"white\",\"gridwidth\":2,\"linecolor\":\"white\",\"showbackground\":true,\"ticks\":\"\",\"zerolinecolor\":\"white\"},\"yaxis\":{\"backgroundcolor\":\"#E5ECF6\",\"gridcolor\":\"white\",\"gridwidth\":2,\"linecolor\":\"white\",\"showbackground\":true,\"ticks\":\"\",\"zerolinecolor\":\"white\"},\"zaxis\":{\"backgroundcolor\":\"#E5ECF6\",\"gridcolor\":\"white\",\"gridwidth\":2,\"linecolor\":\"white\",\"showbackground\":true,\"ticks\":\"\",\"zerolinecolor\":\"white\"}},\"shapedefaults\":{\"line\":{\"color\":\"#2a3f5f\"}},\"ternary\":{\"aaxis\":{\"gridcolor\":\"white\",\"linecolor\":\"white\",\"ticks\":\"\"},\"baxis\":{\"gridcolor\":\"white\",\"linecolor\":\"white\",\"ticks\":\"\"},\"bgcolor\":\"#E5ECF6\",\"caxis\":{\"gridcolor\":\"white\",\"linecolor\":\"white\",\"ticks\":\"\"}},\"title\":{\"x\":0.05},\"xaxis\":{\"automargin\":true,\"gridcolor\":\"white\",\"linecolor\":\"white\",\"ticks\":\"\",\"title\":{\"standoff\":15},\"zerolinecolor\":\"white\",\"zerolinewidth\":2},\"yaxis\":{\"automargin\":true,\"gridcolor\":\"white\",\"linecolor\":\"white\",\"ticks\":\"\",\"title\":{\"standoff\":15},\"zerolinecolor\":\"white\",\"zerolinewidth\":2}}},\"xaxis\":{\"anchor\":\"y\",\"domain\":[0.0,1.0],\"title\":{\"text\":\"is_confirmed\"}},\"yaxis\":{\"anchor\":\"x\",\"domain\":[0.0,1.0],\"title\":{\"text\":\"count\"}},\"coloraxis\":{\"colorbar\":{\"title\":{\"text\":\"count\"}},\"colorscale\":[[0.0,\"rgb(237, 217, 163)\"],[0.16666666666666666,\"rgb(246, 169, 122)\"],[0.3333333333333333,\"rgb(250, 120, 118)\"],[0.5,\"rgb(234, 79, 136)\"],[0.6666666666666666,\"rgb(192, 54, 157)\"],[0.8333333333333334,\"rgb(135, 44, 162)\"],[1.0,\"rgb(75, 41, 145)\"]]},\"legend\":{\"tracegroupgap\":0},\"margin\":{\"t\":60},\"barmode\":\"relative\",\"title\":{\"text\":\"Field is_confirmed types count\"}},                        {\"responsive\": true}                    ).then(function(){\n",
              "                            \n",
              "var gd = document.getElementById('97214bc8-5d21-41e2-9127-9454cdac8264');\n",
              "var x = new MutationObserver(function (mutations, observer) {{\n",
              "        var display = window.getComputedStyle(gd).display;\n",
              "        if (!display || display === 'none') {{\n",
              "            console.log([gd, 'removed!']);\n",
              "            Plotly.purge(gd);\n",
              "            observer.disconnect();\n",
              "        }}\n",
              "}});\n",
              "\n",
              "// Listen for the removal of the full notebook cells\n",
              "var notebookContainer = gd.closest('#notebook-container');\n",
              "if (notebookContainer) {{\n",
              "    x.observe(notebookContainer, {childList: true});\n",
              "}}\n",
              "\n",
              "// Listen for the clearing of the current output cell\n",
              "var outputEl = gd.closest('.output');\n",
              "if (outputEl) {{\n",
              "    x.observe(outputEl, {childList: true});\n",
              "}}\n",
              "\n",
              "                        })                };                            </script>        </div>\n",
              "</body>\n",
              "</html>"
            ]
          },
          "metadata": {}
        },
        {
          "output_type": "display_data",
          "data": {
            "text/html": [
              "<html>\n",
              "<head><meta charset=\"utf-8\" /></head>\n",
              "<body>\n",
              "    <div>            <script src=\"https://cdnjs.cloudflare.com/ajax/libs/mathjax/2.7.5/MathJax.js?config=TeX-AMS-MML_SVG\"></script><script type=\"text/javascript\">if (window.MathJax) {MathJax.Hub.Config({SVG: {font: \"STIX-Web\"}});}</script>                <script type=\"text/javascript\">window.PlotlyConfig = {MathJaxConfig: 'local'};</script>\n",
              "        <script src=\"https://cdn.plot.ly/plotly-2.8.3.min.js\"></script>                <div id=\"9dc36eaa-96ae-4eeb-878c-ed2be9db8ffc\" class=\"plotly-graph-div\" style=\"height:525px; width:100%;\"></div>            <script type=\"text/javascript\">                                    window.PLOTLYENV=window.PLOTLYENV || {};                                    if (document.getElementById(\"9dc36eaa-96ae-4eeb-878c-ed2be9db8ffc\")) {                    Plotly.newPlot(                        \"9dc36eaa-96ae-4eeb-878c-ed2be9db8ffc\",                        [{\"alignmentgroup\":\"True\",\"hovertemplate\":\"severity=%{x}<br>count=%{marker.color}<extra></extra>\",\"legendgroup\":\"\",\"marker\":{\"color\":[4189,14,3,3,3,3],\"coloraxis\":\"coloraxis\",\"pattern\":{\"shape\":\"\"}},\"name\":\"\",\"offsetgroup\":\"\",\"orientation\":\"v\",\"showlegend\":false,\"text\":[4189.0,14.0,3.0,3.0,3.0,3.0],\"textposition\":\"outside\",\"x\":[\"normal\",\"major\",\"blocker\",\"critical\",\"minor\",\"trivial\"],\"xaxis\":\"x\",\"y\":[4189,14,3,3,3,3],\"yaxis\":\"y\",\"type\":\"bar\",\"textfont\":{\"size\":10},\"texttemplate\":\"%{text:.2f}\"}],                        {\"template\":{\"data\":{\"bar\":[{\"error_x\":{\"color\":\"#2a3f5f\"},\"error_y\":{\"color\":\"#2a3f5f\"},\"marker\":{\"line\":{\"color\":\"#E5ECF6\",\"width\":0.5},\"pattern\":{\"fillmode\":\"overlay\",\"size\":10,\"solidity\":0.2}},\"type\":\"bar\"}],\"barpolar\":[{\"marker\":{\"line\":{\"color\":\"#E5ECF6\",\"width\":0.5},\"pattern\":{\"fillmode\":\"overlay\",\"size\":10,\"solidity\":0.2}},\"type\":\"barpolar\"}],\"carpet\":[{\"aaxis\":{\"endlinecolor\":\"#2a3f5f\",\"gridcolor\":\"white\",\"linecolor\":\"white\",\"minorgridcolor\":\"white\",\"startlinecolor\":\"#2a3f5f\"},\"baxis\":{\"endlinecolor\":\"#2a3f5f\",\"gridcolor\":\"white\",\"linecolor\":\"white\",\"minorgridcolor\":\"white\",\"startlinecolor\":\"#2a3f5f\"},\"type\":\"carpet\"}],\"choropleth\":[{\"colorbar\":{\"outlinewidth\":0,\"ticks\":\"\"},\"type\":\"choropleth\"}],\"contour\":[{\"colorbar\":{\"outlinewidth\":0,\"ticks\":\"\"},\"colorscale\":[[0.0,\"#0d0887\"],[0.1111111111111111,\"#46039f\"],[0.2222222222222222,\"#7201a8\"],[0.3333333333333333,\"#9c179e\"],[0.4444444444444444,\"#bd3786\"],[0.5555555555555556,\"#d8576b\"],[0.6666666666666666,\"#ed7953\"],[0.7777777777777778,\"#fb9f3a\"],[0.8888888888888888,\"#fdca26\"],[1.0,\"#f0f921\"]],\"type\":\"contour\"}],\"contourcarpet\":[{\"colorbar\":{\"outlinewidth\":0,\"ticks\":\"\"},\"type\":\"contourcarpet\"}],\"heatmap\":[{\"colorbar\":{\"outlinewidth\":0,\"ticks\":\"\"},\"colorscale\":[[0.0,\"#0d0887\"],[0.1111111111111111,\"#46039f\"],[0.2222222222222222,\"#7201a8\"],[0.3333333333333333,\"#9c179e\"],[0.4444444444444444,\"#bd3786\"],[0.5555555555555556,\"#d8576b\"],[0.6666666666666666,\"#ed7953\"],[0.7777777777777778,\"#fb9f3a\"],[0.8888888888888888,\"#fdca26\"],[1.0,\"#f0f921\"]],\"type\":\"heatmap\"}],\"heatmapgl\":[{\"colorbar\":{\"outlinewidth\":0,\"ticks\":\"\"},\"colorscale\":[[0.0,\"#0d0887\"],[0.1111111111111111,\"#46039f\"],[0.2222222222222222,\"#7201a8\"],[0.3333333333333333,\"#9c179e\"],[0.4444444444444444,\"#bd3786\"],[0.5555555555555556,\"#d8576b\"],[0.6666666666666666,\"#ed7953\"],[0.7777777777777778,\"#fb9f3a\"],[0.8888888888888888,\"#fdca26\"],[1.0,\"#f0f921\"]],\"type\":\"heatmapgl\"}],\"histogram\":[{\"marker\":{\"pattern\":{\"fillmode\":\"overlay\",\"size\":10,\"solidity\":0.2}},\"type\":\"histogram\"}],\"histogram2d\":[{\"colorbar\":{\"outlinewidth\":0,\"ticks\":\"\"},\"colorscale\":[[0.0,\"#0d0887\"],[0.1111111111111111,\"#46039f\"],[0.2222222222222222,\"#7201a8\"],[0.3333333333333333,\"#9c179e\"],[0.4444444444444444,\"#bd3786\"],[0.5555555555555556,\"#d8576b\"],[0.6666666666666666,\"#ed7953\"],[0.7777777777777778,\"#fb9f3a\"],[0.8888888888888888,\"#fdca26\"],[1.0,\"#f0f921\"]],\"type\":\"histogram2d\"}],\"histogram2dcontour\":[{\"colorbar\":{\"outlinewidth\":0,\"ticks\":\"\"},\"colorscale\":[[0.0,\"#0d0887\"],[0.1111111111111111,\"#46039f\"],[0.2222222222222222,\"#7201a8\"],[0.3333333333333333,\"#9c179e\"],[0.4444444444444444,\"#bd3786\"],[0.5555555555555556,\"#d8576b\"],[0.6666666666666666,\"#ed7953\"],[0.7777777777777778,\"#fb9f3a\"],[0.8888888888888888,\"#fdca26\"],[1.0,\"#f0f921\"]],\"type\":\"histogram2dcontour\"}],\"mesh3d\":[{\"colorbar\":{\"outlinewidth\":0,\"ticks\":\"\"},\"type\":\"mesh3d\"}],\"parcoords\":[{\"line\":{\"colorbar\":{\"outlinewidth\":0,\"ticks\":\"\"}},\"type\":\"parcoords\"}],\"pie\":[{\"automargin\":true,\"type\":\"pie\"}],\"scatter\":[{\"marker\":{\"colorbar\":{\"outlinewidth\":0,\"ticks\":\"\"}},\"type\":\"scatter\"}],\"scatter3d\":[{\"line\":{\"colorbar\":{\"outlinewidth\":0,\"ticks\":\"\"}},\"marker\":{\"colorbar\":{\"outlinewidth\":0,\"ticks\":\"\"}},\"type\":\"scatter3d\"}],\"scattercarpet\":[{\"marker\":{\"colorbar\":{\"outlinewidth\":0,\"ticks\":\"\"}},\"type\":\"scattercarpet\"}],\"scattergeo\":[{\"marker\":{\"colorbar\":{\"outlinewidth\":0,\"ticks\":\"\"}},\"type\":\"scattergeo\"}],\"scattergl\":[{\"marker\":{\"colorbar\":{\"outlinewidth\":0,\"ticks\":\"\"}},\"type\":\"scattergl\"}],\"scattermapbox\":[{\"marker\":{\"colorbar\":{\"outlinewidth\":0,\"ticks\":\"\"}},\"type\":\"scattermapbox\"}],\"scatterpolar\":[{\"marker\":{\"colorbar\":{\"outlinewidth\":0,\"ticks\":\"\"}},\"type\":\"scatterpolar\"}],\"scatterpolargl\":[{\"marker\":{\"colorbar\":{\"outlinewidth\":0,\"ticks\":\"\"}},\"type\":\"scatterpolargl\"}],\"scatterternary\":[{\"marker\":{\"colorbar\":{\"outlinewidth\":0,\"ticks\":\"\"}},\"type\":\"scatterternary\"}],\"surface\":[{\"colorbar\":{\"outlinewidth\":0,\"ticks\":\"\"},\"colorscale\":[[0.0,\"#0d0887\"],[0.1111111111111111,\"#46039f\"],[0.2222222222222222,\"#7201a8\"],[0.3333333333333333,\"#9c179e\"],[0.4444444444444444,\"#bd3786\"],[0.5555555555555556,\"#d8576b\"],[0.6666666666666666,\"#ed7953\"],[0.7777777777777778,\"#fb9f3a\"],[0.8888888888888888,\"#fdca26\"],[1.0,\"#f0f921\"]],\"type\":\"surface\"}],\"table\":[{\"cells\":{\"fill\":{\"color\":\"#EBF0F8\"},\"line\":{\"color\":\"white\"}},\"header\":{\"fill\":{\"color\":\"#C8D4E3\"},\"line\":{\"color\":\"white\"}},\"type\":\"table\"}]},\"layout\":{\"annotationdefaults\":{\"arrowcolor\":\"#2a3f5f\",\"arrowhead\":0,\"arrowwidth\":1},\"autotypenumbers\":\"strict\",\"coloraxis\":{\"colorbar\":{\"outlinewidth\":0,\"ticks\":\"\"}},\"colorscale\":{\"diverging\":[[0,\"#8e0152\"],[0.1,\"#c51b7d\"],[0.2,\"#de77ae\"],[0.3,\"#f1b6da\"],[0.4,\"#fde0ef\"],[0.5,\"#f7f7f7\"],[0.6,\"#e6f5d0\"],[0.7,\"#b8e186\"],[0.8,\"#7fbc41\"],[0.9,\"#4d9221\"],[1,\"#276419\"]],\"sequential\":[[0.0,\"#0d0887\"],[0.1111111111111111,\"#46039f\"],[0.2222222222222222,\"#7201a8\"],[0.3333333333333333,\"#9c179e\"],[0.4444444444444444,\"#bd3786\"],[0.5555555555555556,\"#d8576b\"],[0.6666666666666666,\"#ed7953\"],[0.7777777777777778,\"#fb9f3a\"],[0.8888888888888888,\"#fdca26\"],[1.0,\"#f0f921\"]],\"sequentialminus\":[[0.0,\"#0d0887\"],[0.1111111111111111,\"#46039f\"],[0.2222222222222222,\"#7201a8\"],[0.3333333333333333,\"#9c179e\"],[0.4444444444444444,\"#bd3786\"],[0.5555555555555556,\"#d8576b\"],[0.6666666666666666,\"#ed7953\"],[0.7777777777777778,\"#fb9f3a\"],[0.8888888888888888,\"#fdca26\"],[1.0,\"#f0f921\"]]},\"colorway\":[\"#636efa\",\"#EF553B\",\"#00cc96\",\"#ab63fa\",\"#FFA15A\",\"#19d3f3\",\"#FF6692\",\"#B6E880\",\"#FF97FF\",\"#FECB52\"],\"font\":{\"color\":\"#2a3f5f\"},\"geo\":{\"bgcolor\":\"white\",\"lakecolor\":\"white\",\"landcolor\":\"#E5ECF6\",\"showlakes\":true,\"showland\":true,\"subunitcolor\":\"white\"},\"hoverlabel\":{\"align\":\"left\"},\"hovermode\":\"closest\",\"mapbox\":{\"style\":\"light\"},\"paper_bgcolor\":\"white\",\"plot_bgcolor\":\"#E5ECF6\",\"polar\":{\"angularaxis\":{\"gridcolor\":\"white\",\"linecolor\":\"white\",\"ticks\":\"\"},\"bgcolor\":\"#E5ECF6\",\"radialaxis\":{\"gridcolor\":\"white\",\"linecolor\":\"white\",\"ticks\":\"\"}},\"scene\":{\"xaxis\":{\"backgroundcolor\":\"#E5ECF6\",\"gridcolor\":\"white\",\"gridwidth\":2,\"linecolor\":\"white\",\"showbackground\":true,\"ticks\":\"\",\"zerolinecolor\":\"white\"},\"yaxis\":{\"backgroundcolor\":\"#E5ECF6\",\"gridcolor\":\"white\",\"gridwidth\":2,\"linecolor\":\"white\",\"showbackground\":true,\"ticks\":\"\",\"zerolinecolor\":\"white\"},\"zaxis\":{\"backgroundcolor\":\"#E5ECF6\",\"gridcolor\":\"white\",\"gridwidth\":2,\"linecolor\":\"white\",\"showbackground\":true,\"ticks\":\"\",\"zerolinecolor\":\"white\"}},\"shapedefaults\":{\"line\":{\"color\":\"#2a3f5f\"}},\"ternary\":{\"aaxis\":{\"gridcolor\":\"white\",\"linecolor\":\"white\",\"ticks\":\"\"},\"baxis\":{\"gridcolor\":\"white\",\"linecolor\":\"white\",\"ticks\":\"\"},\"bgcolor\":\"#E5ECF6\",\"caxis\":{\"gridcolor\":\"white\",\"linecolor\":\"white\",\"ticks\":\"\"}},\"title\":{\"x\":0.05},\"xaxis\":{\"automargin\":true,\"gridcolor\":\"white\",\"linecolor\":\"white\",\"ticks\":\"\",\"title\":{\"standoff\":15},\"zerolinecolor\":\"white\",\"zerolinewidth\":2},\"yaxis\":{\"automargin\":true,\"gridcolor\":\"white\",\"linecolor\":\"white\",\"ticks\":\"\",\"title\":{\"standoff\":15},\"zerolinecolor\":\"white\",\"zerolinewidth\":2}}},\"xaxis\":{\"anchor\":\"y\",\"domain\":[0.0,1.0],\"title\":{\"text\":\"severity\"}},\"yaxis\":{\"anchor\":\"x\",\"domain\":[0.0,1.0],\"title\":{\"text\":\"count\"}},\"coloraxis\":{\"colorbar\":{\"title\":{\"text\":\"count\"}},\"colorscale\":[[0.0,\"rgb(237, 217, 163)\"],[0.16666666666666666,\"rgb(246, 169, 122)\"],[0.3333333333333333,\"rgb(250, 120, 118)\"],[0.5,\"rgb(234, 79, 136)\"],[0.6666666666666666,\"rgb(192, 54, 157)\"],[0.8333333333333334,\"rgb(135, 44, 162)\"],[1.0,\"rgb(75, 41, 145)\"]]},\"legend\":{\"tracegroupgap\":0},\"margin\":{\"t\":60},\"barmode\":\"relative\",\"title\":{\"text\":\"Field severity types count\"}},                        {\"responsive\": true}                    ).then(function(){\n",
              "                            \n",
              "var gd = document.getElementById('9dc36eaa-96ae-4eeb-878c-ed2be9db8ffc');\n",
              "var x = new MutationObserver(function (mutations, observer) {{\n",
              "        var display = window.getComputedStyle(gd).display;\n",
              "        if (!display || display === 'none') {{\n",
              "            console.log([gd, 'removed!']);\n",
              "            Plotly.purge(gd);\n",
              "            observer.disconnect();\n",
              "        }}\n",
              "}});\n",
              "\n",
              "// Listen for the removal of the full notebook cells\n",
              "var notebookContainer = gd.closest('#notebook-container');\n",
              "if (notebookContainer) {{\n",
              "    x.observe(notebookContainer, {childList: true});\n",
              "}}\n",
              "\n",
              "// Listen for the clearing of the current output cell\n",
              "var outputEl = gd.closest('.output');\n",
              "if (outputEl) {{\n",
              "    x.observe(outputEl, {childList: true});\n",
              "}}\n",
              "\n",
              "                        })                };                            </script>        </div>\n",
              "</body>\n",
              "</html>"
            ]
          },
          "metadata": {}
        },
        {
          "output_type": "display_data",
          "data": {
            "text/html": [
              "<html>\n",
              "<head><meta charset=\"utf-8\" /></head>\n",
              "<body>\n",
              "    <div>            <script src=\"https://cdnjs.cloudflare.com/ajax/libs/mathjax/2.7.5/MathJax.js?config=TeX-AMS-MML_SVG\"></script><script type=\"text/javascript\">if (window.MathJax) {MathJax.Hub.Config({SVG: {font: \"STIX-Web\"}});}</script>                <script type=\"text/javascript\">window.PlotlyConfig = {MathJaxConfig: 'local'};</script>\n",
              "        <script src=\"https://cdn.plot.ly/plotly-2.8.3.min.js\"></script>                <div id=\"5cbd3507-cf90-41c6-809c-835e8d535d1e\" class=\"plotly-graph-div\" style=\"height:525px; width:100%;\"></div>            <script type=\"text/javascript\">                                    window.PLOTLYENV=window.PLOTLYENV || {};                                    if (document.getElementById(\"5cbd3507-cf90-41c6-809c-835e8d535d1e\")) {                    Plotly.newPlot(                        \"5cbd3507-cf90-41c6-809c-835e8d535d1e\",                        [{\"alignmentgroup\":\"True\",\"hovertemplate\":\"priority=%{x}<br>count=%{marker.color}<extra></extra>\",\"legendgroup\":\"\",\"marker\":{\"color\":[1610,1525,578,285,153,64],\"coloraxis\":\"coloraxis\",\"pattern\":{\"shape\":\"\"}},\"name\":\"\",\"offsetgroup\":\"\",\"orientation\":\"v\",\"showlegend\":false,\"text\":[1610.0,1525.0,578.0,285.0,153.0,64.0],\"textposition\":\"outside\",\"x\":[\"--\",\"P3\",\"P2\",\"P5\",\"P1\",\"P4\"],\"xaxis\":\"x\",\"y\":[1610,1525,578,285,153,64],\"yaxis\":\"y\",\"type\":\"bar\",\"textfont\":{\"size\":10},\"texttemplate\":\"%{text:.2f}\"}],                        {\"template\":{\"data\":{\"bar\":[{\"error_x\":{\"color\":\"#2a3f5f\"},\"error_y\":{\"color\":\"#2a3f5f\"},\"marker\":{\"line\":{\"color\":\"#E5ECF6\",\"width\":0.5},\"pattern\":{\"fillmode\":\"overlay\",\"size\":10,\"solidity\":0.2}},\"type\":\"bar\"}],\"barpolar\":[{\"marker\":{\"line\":{\"color\":\"#E5ECF6\",\"width\":0.5},\"pattern\":{\"fillmode\":\"overlay\",\"size\":10,\"solidity\":0.2}},\"type\":\"barpolar\"}],\"carpet\":[{\"aaxis\":{\"endlinecolor\":\"#2a3f5f\",\"gridcolor\":\"white\",\"linecolor\":\"white\",\"minorgridcolor\":\"white\",\"startlinecolor\":\"#2a3f5f\"},\"baxis\":{\"endlinecolor\":\"#2a3f5f\",\"gridcolor\":\"white\",\"linecolor\":\"white\",\"minorgridcolor\":\"white\",\"startlinecolor\":\"#2a3f5f\"},\"type\":\"carpet\"}],\"choropleth\":[{\"colorbar\":{\"outlinewidth\":0,\"ticks\":\"\"},\"type\":\"choropleth\"}],\"contour\":[{\"colorbar\":{\"outlinewidth\":0,\"ticks\":\"\"},\"colorscale\":[[0.0,\"#0d0887\"],[0.1111111111111111,\"#46039f\"],[0.2222222222222222,\"#7201a8\"],[0.3333333333333333,\"#9c179e\"],[0.4444444444444444,\"#bd3786\"],[0.5555555555555556,\"#d8576b\"],[0.6666666666666666,\"#ed7953\"],[0.7777777777777778,\"#fb9f3a\"],[0.8888888888888888,\"#fdca26\"],[1.0,\"#f0f921\"]],\"type\":\"contour\"}],\"contourcarpet\":[{\"colorbar\":{\"outlinewidth\":0,\"ticks\":\"\"},\"type\":\"contourcarpet\"}],\"heatmap\":[{\"colorbar\":{\"outlinewidth\":0,\"ticks\":\"\"},\"colorscale\":[[0.0,\"#0d0887\"],[0.1111111111111111,\"#46039f\"],[0.2222222222222222,\"#7201a8\"],[0.3333333333333333,\"#9c179e\"],[0.4444444444444444,\"#bd3786\"],[0.5555555555555556,\"#d8576b\"],[0.6666666666666666,\"#ed7953\"],[0.7777777777777778,\"#fb9f3a\"],[0.8888888888888888,\"#fdca26\"],[1.0,\"#f0f921\"]],\"type\":\"heatmap\"}],\"heatmapgl\":[{\"colorbar\":{\"outlinewidth\":0,\"ticks\":\"\"},\"colorscale\":[[0.0,\"#0d0887\"],[0.1111111111111111,\"#46039f\"],[0.2222222222222222,\"#7201a8\"],[0.3333333333333333,\"#9c179e\"],[0.4444444444444444,\"#bd3786\"],[0.5555555555555556,\"#d8576b\"],[0.6666666666666666,\"#ed7953\"],[0.7777777777777778,\"#fb9f3a\"],[0.8888888888888888,\"#fdca26\"],[1.0,\"#f0f921\"]],\"type\":\"heatmapgl\"}],\"histogram\":[{\"marker\":{\"pattern\":{\"fillmode\":\"overlay\",\"size\":10,\"solidity\":0.2}},\"type\":\"histogram\"}],\"histogram2d\":[{\"colorbar\":{\"outlinewidth\":0,\"ticks\":\"\"},\"colorscale\":[[0.0,\"#0d0887\"],[0.1111111111111111,\"#46039f\"],[0.2222222222222222,\"#7201a8\"],[0.3333333333333333,\"#9c179e\"],[0.4444444444444444,\"#bd3786\"],[0.5555555555555556,\"#d8576b\"],[0.6666666666666666,\"#ed7953\"],[0.7777777777777778,\"#fb9f3a\"],[0.8888888888888888,\"#fdca26\"],[1.0,\"#f0f921\"]],\"type\":\"histogram2d\"}],\"histogram2dcontour\":[{\"colorbar\":{\"outlinewidth\":0,\"ticks\":\"\"},\"colorscale\":[[0.0,\"#0d0887\"],[0.1111111111111111,\"#46039f\"],[0.2222222222222222,\"#7201a8\"],[0.3333333333333333,\"#9c179e\"],[0.4444444444444444,\"#bd3786\"],[0.5555555555555556,\"#d8576b\"],[0.6666666666666666,\"#ed7953\"],[0.7777777777777778,\"#fb9f3a\"],[0.8888888888888888,\"#fdca26\"],[1.0,\"#f0f921\"]],\"type\":\"histogram2dcontour\"}],\"mesh3d\":[{\"colorbar\":{\"outlinewidth\":0,\"ticks\":\"\"},\"type\":\"mesh3d\"}],\"parcoords\":[{\"line\":{\"colorbar\":{\"outlinewidth\":0,\"ticks\":\"\"}},\"type\":\"parcoords\"}],\"pie\":[{\"automargin\":true,\"type\":\"pie\"}],\"scatter\":[{\"marker\":{\"colorbar\":{\"outlinewidth\":0,\"ticks\":\"\"}},\"type\":\"scatter\"}],\"scatter3d\":[{\"line\":{\"colorbar\":{\"outlinewidth\":0,\"ticks\":\"\"}},\"marker\":{\"colorbar\":{\"outlinewidth\":0,\"ticks\":\"\"}},\"type\":\"scatter3d\"}],\"scattercarpet\":[{\"marker\":{\"colorbar\":{\"outlinewidth\":0,\"ticks\":\"\"}},\"type\":\"scattercarpet\"}],\"scattergeo\":[{\"marker\":{\"colorbar\":{\"outlinewidth\":0,\"ticks\":\"\"}},\"type\":\"scattergeo\"}],\"scattergl\":[{\"marker\":{\"colorbar\":{\"outlinewidth\":0,\"ticks\":\"\"}},\"type\":\"scattergl\"}],\"scattermapbox\":[{\"marker\":{\"colorbar\":{\"outlinewidth\":0,\"ticks\":\"\"}},\"type\":\"scattermapbox\"}],\"scatterpolar\":[{\"marker\":{\"colorbar\":{\"outlinewidth\":0,\"ticks\":\"\"}},\"type\":\"scatterpolar\"}],\"scatterpolargl\":[{\"marker\":{\"colorbar\":{\"outlinewidth\":0,\"ticks\":\"\"}},\"type\":\"scatterpolargl\"}],\"scatterternary\":[{\"marker\":{\"colorbar\":{\"outlinewidth\":0,\"ticks\":\"\"}},\"type\":\"scatterternary\"}],\"surface\":[{\"colorbar\":{\"outlinewidth\":0,\"ticks\":\"\"},\"colorscale\":[[0.0,\"#0d0887\"],[0.1111111111111111,\"#46039f\"],[0.2222222222222222,\"#7201a8\"],[0.3333333333333333,\"#9c179e\"],[0.4444444444444444,\"#bd3786\"],[0.5555555555555556,\"#d8576b\"],[0.6666666666666666,\"#ed7953\"],[0.7777777777777778,\"#fb9f3a\"],[0.8888888888888888,\"#fdca26\"],[1.0,\"#f0f921\"]],\"type\":\"surface\"}],\"table\":[{\"cells\":{\"fill\":{\"color\":\"#EBF0F8\"},\"line\":{\"color\":\"white\"}},\"header\":{\"fill\":{\"color\":\"#C8D4E3\"},\"line\":{\"color\":\"white\"}},\"type\":\"table\"}]},\"layout\":{\"annotationdefaults\":{\"arrowcolor\":\"#2a3f5f\",\"arrowhead\":0,\"arrowwidth\":1},\"autotypenumbers\":\"strict\",\"coloraxis\":{\"colorbar\":{\"outlinewidth\":0,\"ticks\":\"\"}},\"colorscale\":{\"diverging\":[[0,\"#8e0152\"],[0.1,\"#c51b7d\"],[0.2,\"#de77ae\"],[0.3,\"#f1b6da\"],[0.4,\"#fde0ef\"],[0.5,\"#f7f7f7\"],[0.6,\"#e6f5d0\"],[0.7,\"#b8e186\"],[0.8,\"#7fbc41\"],[0.9,\"#4d9221\"],[1,\"#276419\"]],\"sequential\":[[0.0,\"#0d0887\"],[0.1111111111111111,\"#46039f\"],[0.2222222222222222,\"#7201a8\"],[0.3333333333333333,\"#9c179e\"],[0.4444444444444444,\"#bd3786\"],[0.5555555555555556,\"#d8576b\"],[0.6666666666666666,\"#ed7953\"],[0.7777777777777778,\"#fb9f3a\"],[0.8888888888888888,\"#fdca26\"],[1.0,\"#f0f921\"]],\"sequentialminus\":[[0.0,\"#0d0887\"],[0.1111111111111111,\"#46039f\"],[0.2222222222222222,\"#7201a8\"],[0.3333333333333333,\"#9c179e\"],[0.4444444444444444,\"#bd3786\"],[0.5555555555555556,\"#d8576b\"],[0.6666666666666666,\"#ed7953\"],[0.7777777777777778,\"#fb9f3a\"],[0.8888888888888888,\"#fdca26\"],[1.0,\"#f0f921\"]]},\"colorway\":[\"#636efa\",\"#EF553B\",\"#00cc96\",\"#ab63fa\",\"#FFA15A\",\"#19d3f3\",\"#FF6692\",\"#B6E880\",\"#FF97FF\",\"#FECB52\"],\"font\":{\"color\":\"#2a3f5f\"},\"geo\":{\"bgcolor\":\"white\",\"lakecolor\":\"white\",\"landcolor\":\"#E5ECF6\",\"showlakes\":true,\"showland\":true,\"subunitcolor\":\"white\"},\"hoverlabel\":{\"align\":\"left\"},\"hovermode\":\"closest\",\"mapbox\":{\"style\":\"light\"},\"paper_bgcolor\":\"white\",\"plot_bgcolor\":\"#E5ECF6\",\"polar\":{\"angularaxis\":{\"gridcolor\":\"white\",\"linecolor\":\"white\",\"ticks\":\"\"},\"bgcolor\":\"#E5ECF6\",\"radialaxis\":{\"gridcolor\":\"white\",\"linecolor\":\"white\",\"ticks\":\"\"}},\"scene\":{\"xaxis\":{\"backgroundcolor\":\"#E5ECF6\",\"gridcolor\":\"white\",\"gridwidth\":2,\"linecolor\":\"white\",\"showbackground\":true,\"ticks\":\"\",\"zerolinecolor\":\"white\"},\"yaxis\":{\"backgroundcolor\":\"#E5ECF6\",\"gridcolor\":\"white\",\"gridwidth\":2,\"linecolor\":\"white\",\"showbackground\":true,\"ticks\":\"\",\"zerolinecolor\":\"white\"},\"zaxis\":{\"backgroundcolor\":\"#E5ECF6\",\"gridcolor\":\"white\",\"gridwidth\":2,\"linecolor\":\"white\",\"showbackground\":true,\"ticks\":\"\",\"zerolinecolor\":\"white\"}},\"shapedefaults\":{\"line\":{\"color\":\"#2a3f5f\"}},\"ternary\":{\"aaxis\":{\"gridcolor\":\"white\",\"linecolor\":\"white\",\"ticks\":\"\"},\"baxis\":{\"gridcolor\":\"white\",\"linecolor\":\"white\",\"ticks\":\"\"},\"bgcolor\":\"#E5ECF6\",\"caxis\":{\"gridcolor\":\"white\",\"linecolor\":\"white\",\"ticks\":\"\"}},\"title\":{\"x\":0.05},\"xaxis\":{\"automargin\":true,\"gridcolor\":\"white\",\"linecolor\":\"white\",\"ticks\":\"\",\"title\":{\"standoff\":15},\"zerolinecolor\":\"white\",\"zerolinewidth\":2},\"yaxis\":{\"automargin\":true,\"gridcolor\":\"white\",\"linecolor\":\"white\",\"ticks\":\"\",\"title\":{\"standoff\":15},\"zerolinecolor\":\"white\",\"zerolinewidth\":2}}},\"xaxis\":{\"anchor\":\"y\",\"domain\":[0.0,1.0],\"title\":{\"text\":\"priority\"}},\"yaxis\":{\"anchor\":\"x\",\"domain\":[0.0,1.0],\"title\":{\"text\":\"count\"}},\"coloraxis\":{\"colorbar\":{\"title\":{\"text\":\"count\"}},\"colorscale\":[[0.0,\"rgb(237, 217, 163)\"],[0.16666666666666666,\"rgb(246, 169, 122)\"],[0.3333333333333333,\"rgb(250, 120, 118)\"],[0.5,\"rgb(234, 79, 136)\"],[0.6666666666666666,\"rgb(192, 54, 157)\"],[0.8333333333333334,\"rgb(135, 44, 162)\"],[1.0,\"rgb(75, 41, 145)\"]]},\"legend\":{\"tracegroupgap\":0},\"margin\":{\"t\":60},\"barmode\":\"relative\",\"title\":{\"text\":\"Field priority types count\"}},                        {\"responsive\": true}                    ).then(function(){\n",
              "                            \n",
              "var gd = document.getElementById('5cbd3507-cf90-41c6-809c-835e8d535d1e');\n",
              "var x = new MutationObserver(function (mutations, observer) {{\n",
              "        var display = window.getComputedStyle(gd).display;\n",
              "        if (!display || display === 'none') {{\n",
              "            console.log([gd, 'removed!']);\n",
              "            Plotly.purge(gd);\n",
              "            observer.disconnect();\n",
              "        }}\n",
              "}});\n",
              "\n",
              "// Listen for the removal of the full notebook cells\n",
              "var notebookContainer = gd.closest('#notebook-container');\n",
              "if (notebookContainer) {{\n",
              "    x.observe(notebookContainer, {childList: true});\n",
              "}}\n",
              "\n",
              "// Listen for the clearing of the current output cell\n",
              "var outputEl = gd.closest('.output');\n",
              "if (outputEl) {{\n",
              "    x.observe(outputEl, {childList: true});\n",
              "}}\n",
              "\n",
              "                        })                };                            </script>        </div>\n",
              "</body>\n",
              "</html>"
            ]
          },
          "metadata": {}
        },
        {
          "output_type": "display_data",
          "data": {
            "text/html": [
              "<html>\n",
              "<head><meta charset=\"utf-8\" /></head>\n",
              "<body>\n",
              "    <div>            <script src=\"https://cdnjs.cloudflare.com/ajax/libs/mathjax/2.7.5/MathJax.js?config=TeX-AMS-MML_SVG\"></script><script type=\"text/javascript\">if (window.MathJax) {MathJax.Hub.Config({SVG: {font: \"STIX-Web\"}});}</script>                <script type=\"text/javascript\">window.PlotlyConfig = {MathJaxConfig: 'local'};</script>\n",
              "        <script src=\"https://cdn.plot.ly/plotly-2.8.3.min.js\"></script>                <div id=\"c80df9be-aa0d-4149-b909-148b575ac01d\" class=\"plotly-graph-div\" style=\"height:525px; width:100%;\"></div>            <script type=\"text/javascript\">                                    window.PLOTLYENV=window.PLOTLYENV || {};                                    if (document.getElementById(\"c80df9be-aa0d-4149-b909-148b575ac01d\")) {                    Plotly.newPlot(                        \"c80df9be-aa0d-4149-b909-148b575ac01d\",                        [{\"alignmentgroup\":\"True\",\"hovertemplate\":\"type=%{x}<br>count=%{marker.color}<extra></extra>\",\"legendgroup\":\"\",\"marker\":{\"color\":[3327,888],\"coloraxis\":\"coloraxis\",\"pattern\":{\"shape\":\"\"}},\"name\":\"\",\"offsetgroup\":\"\",\"orientation\":\"v\",\"showlegend\":false,\"text\":[3327.0,888.0],\"textposition\":\"outside\",\"x\":[\"enhancement\",\"task\"],\"xaxis\":\"x\",\"y\":[3327,888],\"yaxis\":\"y\",\"type\":\"bar\",\"textfont\":{\"size\":10},\"texttemplate\":\"%{text:.2f}\"}],                        {\"template\":{\"data\":{\"bar\":[{\"error_x\":{\"color\":\"#2a3f5f\"},\"error_y\":{\"color\":\"#2a3f5f\"},\"marker\":{\"line\":{\"color\":\"#E5ECF6\",\"width\":0.5},\"pattern\":{\"fillmode\":\"overlay\",\"size\":10,\"solidity\":0.2}},\"type\":\"bar\"}],\"barpolar\":[{\"marker\":{\"line\":{\"color\":\"#E5ECF6\",\"width\":0.5},\"pattern\":{\"fillmode\":\"overlay\",\"size\":10,\"solidity\":0.2}},\"type\":\"barpolar\"}],\"carpet\":[{\"aaxis\":{\"endlinecolor\":\"#2a3f5f\",\"gridcolor\":\"white\",\"linecolor\":\"white\",\"minorgridcolor\":\"white\",\"startlinecolor\":\"#2a3f5f\"},\"baxis\":{\"endlinecolor\":\"#2a3f5f\",\"gridcolor\":\"white\",\"linecolor\":\"white\",\"minorgridcolor\":\"white\",\"startlinecolor\":\"#2a3f5f\"},\"type\":\"carpet\"}],\"choropleth\":[{\"colorbar\":{\"outlinewidth\":0,\"ticks\":\"\"},\"type\":\"choropleth\"}],\"contour\":[{\"colorbar\":{\"outlinewidth\":0,\"ticks\":\"\"},\"colorscale\":[[0.0,\"#0d0887\"],[0.1111111111111111,\"#46039f\"],[0.2222222222222222,\"#7201a8\"],[0.3333333333333333,\"#9c179e\"],[0.4444444444444444,\"#bd3786\"],[0.5555555555555556,\"#d8576b\"],[0.6666666666666666,\"#ed7953\"],[0.7777777777777778,\"#fb9f3a\"],[0.8888888888888888,\"#fdca26\"],[1.0,\"#f0f921\"]],\"type\":\"contour\"}],\"contourcarpet\":[{\"colorbar\":{\"outlinewidth\":0,\"ticks\":\"\"},\"type\":\"contourcarpet\"}],\"heatmap\":[{\"colorbar\":{\"outlinewidth\":0,\"ticks\":\"\"},\"colorscale\":[[0.0,\"#0d0887\"],[0.1111111111111111,\"#46039f\"],[0.2222222222222222,\"#7201a8\"],[0.3333333333333333,\"#9c179e\"],[0.4444444444444444,\"#bd3786\"],[0.5555555555555556,\"#d8576b\"],[0.6666666666666666,\"#ed7953\"],[0.7777777777777778,\"#fb9f3a\"],[0.8888888888888888,\"#fdca26\"],[1.0,\"#f0f921\"]],\"type\":\"heatmap\"}],\"heatmapgl\":[{\"colorbar\":{\"outlinewidth\":0,\"ticks\":\"\"},\"colorscale\":[[0.0,\"#0d0887\"],[0.1111111111111111,\"#46039f\"],[0.2222222222222222,\"#7201a8\"],[0.3333333333333333,\"#9c179e\"],[0.4444444444444444,\"#bd3786\"],[0.5555555555555556,\"#d8576b\"],[0.6666666666666666,\"#ed7953\"],[0.7777777777777778,\"#fb9f3a\"],[0.8888888888888888,\"#fdca26\"],[1.0,\"#f0f921\"]],\"type\":\"heatmapgl\"}],\"histogram\":[{\"marker\":{\"pattern\":{\"fillmode\":\"overlay\",\"size\":10,\"solidity\":0.2}},\"type\":\"histogram\"}],\"histogram2d\":[{\"colorbar\":{\"outlinewidth\":0,\"ticks\":\"\"},\"colorscale\":[[0.0,\"#0d0887\"],[0.1111111111111111,\"#46039f\"],[0.2222222222222222,\"#7201a8\"],[0.3333333333333333,\"#9c179e\"],[0.4444444444444444,\"#bd3786\"],[0.5555555555555556,\"#d8576b\"],[0.6666666666666666,\"#ed7953\"],[0.7777777777777778,\"#fb9f3a\"],[0.8888888888888888,\"#fdca26\"],[1.0,\"#f0f921\"]],\"type\":\"histogram2d\"}],\"histogram2dcontour\":[{\"colorbar\":{\"outlinewidth\":0,\"ticks\":\"\"},\"colorscale\":[[0.0,\"#0d0887\"],[0.1111111111111111,\"#46039f\"],[0.2222222222222222,\"#7201a8\"],[0.3333333333333333,\"#9c179e\"],[0.4444444444444444,\"#bd3786\"],[0.5555555555555556,\"#d8576b\"],[0.6666666666666666,\"#ed7953\"],[0.7777777777777778,\"#fb9f3a\"],[0.8888888888888888,\"#fdca26\"],[1.0,\"#f0f921\"]],\"type\":\"histogram2dcontour\"}],\"mesh3d\":[{\"colorbar\":{\"outlinewidth\":0,\"ticks\":\"\"},\"type\":\"mesh3d\"}],\"parcoords\":[{\"line\":{\"colorbar\":{\"outlinewidth\":0,\"ticks\":\"\"}},\"type\":\"parcoords\"}],\"pie\":[{\"automargin\":true,\"type\":\"pie\"}],\"scatter\":[{\"marker\":{\"colorbar\":{\"outlinewidth\":0,\"ticks\":\"\"}},\"type\":\"scatter\"}],\"scatter3d\":[{\"line\":{\"colorbar\":{\"outlinewidth\":0,\"ticks\":\"\"}},\"marker\":{\"colorbar\":{\"outlinewidth\":0,\"ticks\":\"\"}},\"type\":\"scatter3d\"}],\"scattercarpet\":[{\"marker\":{\"colorbar\":{\"outlinewidth\":0,\"ticks\":\"\"}},\"type\":\"scattercarpet\"}],\"scattergeo\":[{\"marker\":{\"colorbar\":{\"outlinewidth\":0,\"ticks\":\"\"}},\"type\":\"scattergeo\"}],\"scattergl\":[{\"marker\":{\"colorbar\":{\"outlinewidth\":0,\"ticks\":\"\"}},\"type\":\"scattergl\"}],\"scattermapbox\":[{\"marker\":{\"colorbar\":{\"outlinewidth\":0,\"ticks\":\"\"}},\"type\":\"scattermapbox\"}],\"scatterpolar\":[{\"marker\":{\"colorbar\":{\"outlinewidth\":0,\"ticks\":\"\"}},\"type\":\"scatterpolar\"}],\"scatterpolargl\":[{\"marker\":{\"colorbar\":{\"outlinewidth\":0,\"ticks\":\"\"}},\"type\":\"scatterpolargl\"}],\"scatterternary\":[{\"marker\":{\"colorbar\":{\"outlinewidth\":0,\"ticks\":\"\"}},\"type\":\"scatterternary\"}],\"surface\":[{\"colorbar\":{\"outlinewidth\":0,\"ticks\":\"\"},\"colorscale\":[[0.0,\"#0d0887\"],[0.1111111111111111,\"#46039f\"],[0.2222222222222222,\"#7201a8\"],[0.3333333333333333,\"#9c179e\"],[0.4444444444444444,\"#bd3786\"],[0.5555555555555556,\"#d8576b\"],[0.6666666666666666,\"#ed7953\"],[0.7777777777777778,\"#fb9f3a\"],[0.8888888888888888,\"#fdca26\"],[1.0,\"#f0f921\"]],\"type\":\"surface\"}],\"table\":[{\"cells\":{\"fill\":{\"color\":\"#EBF0F8\"},\"line\":{\"color\":\"white\"}},\"header\":{\"fill\":{\"color\":\"#C8D4E3\"},\"line\":{\"color\":\"white\"}},\"type\":\"table\"}]},\"layout\":{\"annotationdefaults\":{\"arrowcolor\":\"#2a3f5f\",\"arrowhead\":0,\"arrowwidth\":1},\"autotypenumbers\":\"strict\",\"coloraxis\":{\"colorbar\":{\"outlinewidth\":0,\"ticks\":\"\"}},\"colorscale\":{\"diverging\":[[0,\"#8e0152\"],[0.1,\"#c51b7d\"],[0.2,\"#de77ae\"],[0.3,\"#f1b6da\"],[0.4,\"#fde0ef\"],[0.5,\"#f7f7f7\"],[0.6,\"#e6f5d0\"],[0.7,\"#b8e186\"],[0.8,\"#7fbc41\"],[0.9,\"#4d9221\"],[1,\"#276419\"]],\"sequential\":[[0.0,\"#0d0887\"],[0.1111111111111111,\"#46039f\"],[0.2222222222222222,\"#7201a8\"],[0.3333333333333333,\"#9c179e\"],[0.4444444444444444,\"#bd3786\"],[0.5555555555555556,\"#d8576b\"],[0.6666666666666666,\"#ed7953\"],[0.7777777777777778,\"#fb9f3a\"],[0.8888888888888888,\"#fdca26\"],[1.0,\"#f0f921\"]],\"sequentialminus\":[[0.0,\"#0d0887\"],[0.1111111111111111,\"#46039f\"],[0.2222222222222222,\"#7201a8\"],[0.3333333333333333,\"#9c179e\"],[0.4444444444444444,\"#bd3786\"],[0.5555555555555556,\"#d8576b\"],[0.6666666666666666,\"#ed7953\"],[0.7777777777777778,\"#fb9f3a\"],[0.8888888888888888,\"#fdca26\"],[1.0,\"#f0f921\"]]},\"colorway\":[\"#636efa\",\"#EF553B\",\"#00cc96\",\"#ab63fa\",\"#FFA15A\",\"#19d3f3\",\"#FF6692\",\"#B6E880\",\"#FF97FF\",\"#FECB52\"],\"font\":{\"color\":\"#2a3f5f\"},\"geo\":{\"bgcolor\":\"white\",\"lakecolor\":\"white\",\"landcolor\":\"#E5ECF6\",\"showlakes\":true,\"showland\":true,\"subunitcolor\":\"white\"},\"hoverlabel\":{\"align\":\"left\"},\"hovermode\":\"closest\",\"mapbox\":{\"style\":\"light\"},\"paper_bgcolor\":\"white\",\"plot_bgcolor\":\"#E5ECF6\",\"polar\":{\"angularaxis\":{\"gridcolor\":\"white\",\"linecolor\":\"white\",\"ticks\":\"\"},\"bgcolor\":\"#E5ECF6\",\"radialaxis\":{\"gridcolor\":\"white\",\"linecolor\":\"white\",\"ticks\":\"\"}},\"scene\":{\"xaxis\":{\"backgroundcolor\":\"#E5ECF6\",\"gridcolor\":\"white\",\"gridwidth\":2,\"linecolor\":\"white\",\"showbackground\":true,\"ticks\":\"\",\"zerolinecolor\":\"white\"},\"yaxis\":{\"backgroundcolor\":\"#E5ECF6\",\"gridcolor\":\"white\",\"gridwidth\":2,\"linecolor\":\"white\",\"showbackground\":true,\"ticks\":\"\",\"zerolinecolor\":\"white\"},\"zaxis\":{\"backgroundcolor\":\"#E5ECF6\",\"gridcolor\":\"white\",\"gridwidth\":2,\"linecolor\":\"white\",\"showbackground\":true,\"ticks\":\"\",\"zerolinecolor\":\"white\"}},\"shapedefaults\":{\"line\":{\"color\":\"#2a3f5f\"}},\"ternary\":{\"aaxis\":{\"gridcolor\":\"white\",\"linecolor\":\"white\",\"ticks\":\"\"},\"baxis\":{\"gridcolor\":\"white\",\"linecolor\":\"white\",\"ticks\":\"\"},\"bgcolor\":\"#E5ECF6\",\"caxis\":{\"gridcolor\":\"white\",\"linecolor\":\"white\",\"ticks\":\"\"}},\"title\":{\"x\":0.05},\"xaxis\":{\"automargin\":true,\"gridcolor\":\"white\",\"linecolor\":\"white\",\"ticks\":\"\",\"title\":{\"standoff\":15},\"zerolinecolor\":\"white\",\"zerolinewidth\":2},\"yaxis\":{\"automargin\":true,\"gridcolor\":\"white\",\"linecolor\":\"white\",\"ticks\":\"\",\"title\":{\"standoff\":15},\"zerolinecolor\":\"white\",\"zerolinewidth\":2}}},\"xaxis\":{\"anchor\":\"y\",\"domain\":[0.0,1.0],\"title\":{\"text\":\"type\"}},\"yaxis\":{\"anchor\":\"x\",\"domain\":[0.0,1.0],\"title\":{\"text\":\"count\"}},\"coloraxis\":{\"colorbar\":{\"title\":{\"text\":\"count\"}},\"colorscale\":[[0.0,\"rgb(237, 217, 163)\"],[0.16666666666666666,\"rgb(246, 169, 122)\"],[0.3333333333333333,\"rgb(250, 120, 118)\"],[0.5,\"rgb(234, 79, 136)\"],[0.6666666666666666,\"rgb(192, 54, 157)\"],[0.8333333333333334,\"rgb(135, 44, 162)\"],[1.0,\"rgb(75, 41, 145)\"]]},\"legend\":{\"tracegroupgap\":0},\"margin\":{\"t\":60},\"barmode\":\"relative\",\"title\":{\"text\":\"Field type types count\"}},                        {\"responsive\": true}                    ).then(function(){\n",
              "                            \n",
              "var gd = document.getElementById('c80df9be-aa0d-4149-b909-148b575ac01d');\n",
              "var x = new MutationObserver(function (mutations, observer) {{\n",
              "        var display = window.getComputedStyle(gd).display;\n",
              "        if (!display || display === 'none') {{\n",
              "            console.log([gd, 'removed!']);\n",
              "            Plotly.purge(gd);\n",
              "            observer.disconnect();\n",
              "        }}\n",
              "}});\n",
              "\n",
              "// Listen for the removal of the full notebook cells\n",
              "var notebookContainer = gd.closest('#notebook-container');\n",
              "if (notebookContainer) {{\n",
              "    x.observe(notebookContainer, {childList: true});\n",
              "}}\n",
              "\n",
              "// Listen for the clearing of the current output cell\n",
              "var outputEl = gd.closest('.output');\n",
              "if (outputEl) {{\n",
              "    x.observe(outputEl, {childList: true});\n",
              "}}\n",
              "\n",
              "                        })                };                            </script>        </div>\n",
              "</body>\n",
              "</html>"
            ]
          },
          "metadata": {}
        }
      ],
      "source": [
        "# loop over the columns and visualize them\n",
        "for col in visualization_cols:\n",
        "    create_plot(df, col=col)"
      ]
    },
    {
      "cell_type": "markdown",
      "metadata": {
        "id": "kC8ncLEgN0Bc"
      },
      "source": [
        "### Working with textual data\n",
        "![](https://github.com/mitramir55/REConference/blob/main/additional%20resources/Pages%20from%20Introduction%20to%20NLP-2.jpg?raw=true)\n",
        "* Tokenization\n",
        "* Taking a closer look at the summary data\n",
        "* Plotting the distribution of words with PlotlyExpress\n",
        "\n",
        "We'll start by looking at the summary column. As we discussed earlier, first, we'll tokenize the text for a more accurate cleaning, then, based on our task, we choose a couple of cleaning functions one after another.\n",
        "\n"
      ]
    },
    {
      "cell_type": "markdown",
      "metadata": {
        "id": "YmVcmV--N0Bd"
      },
      "source": [
        "### Tokenization"
      ]
    },
    {
      "cell_type": "markdown",
      "source": [
        "To see the data more clearly, we'll filter out the columns we want to use for model creation."
      ],
      "metadata": {
        "id": "oqR9hze6Qbfx"
      }
    },
    {
      "cell_type": "code",
      "source": [
        "# filter out summary and type\n",
        "df = ...\n",
        "df.head()"
      ],
      "metadata": {
        "id": "Tx1Z1IvfQtIy",
        "colab": {
          "base_uri": "https://localhost:8080/",
          "height": 206
        },
        "outputId": "b01209f9-b731-4f93-bbf4-6a7f53efcf48"
      },
      "execution_count": 38,
      "outputs": [
        {
          "output_type": "execute_result",
          "data": {
            "text/plain": [
              "                                             summary         type\n",
              "0  Proxy: map HTTP 500 errors to necko errors (so...  enhancement\n",
              "1  [LDAP] Access to a local LDAP server in Off-Li...  enhancement\n",
              "2  Warnings for USENET etiquette errors required ...  enhancement\n",
              "3  URL linkifying code should cross linebreaks [l...  enhancement\n",
              "4  Automatically update bookmarks when sites move...  enhancement"
            ],
            "text/html": [
              "\n",
              "  <div id=\"df-57245907-42d0-42ce-b5ca-9a48835005e4\">\n",
              "    <div class=\"colab-df-container\">\n",
              "      <div>\n",
              "<style scoped>\n",
              "    .dataframe tbody tr th:only-of-type {\n",
              "        vertical-align: middle;\n",
              "    }\n",
              "\n",
              "    .dataframe tbody tr th {\n",
              "        vertical-align: top;\n",
              "    }\n",
              "\n",
              "    .dataframe thead th {\n",
              "        text-align: right;\n",
              "    }\n",
              "</style>\n",
              "<table border=\"1\" class=\"dataframe\">\n",
              "  <thead>\n",
              "    <tr style=\"text-align: right;\">\n",
              "      <th></th>\n",
              "      <th>summary</th>\n",
              "      <th>type</th>\n",
              "    </tr>\n",
              "  </thead>\n",
              "  <tbody>\n",
              "    <tr>\n",
              "      <th>0</th>\n",
              "      <td>Proxy: map HTTP 500 errors to necko errors (so...</td>\n",
              "      <td>enhancement</td>\n",
              "    </tr>\n",
              "    <tr>\n",
              "      <th>1</th>\n",
              "      <td>[LDAP] Access to a local LDAP server in Off-Li...</td>\n",
              "      <td>enhancement</td>\n",
              "    </tr>\n",
              "    <tr>\n",
              "      <th>2</th>\n",
              "      <td>Warnings for USENET etiquette errors required ...</td>\n",
              "      <td>enhancement</td>\n",
              "    </tr>\n",
              "    <tr>\n",
              "      <th>3</th>\n",
              "      <td>URL linkifying code should cross linebreaks [l...</td>\n",
              "      <td>enhancement</td>\n",
              "    </tr>\n",
              "    <tr>\n",
              "      <th>4</th>\n",
              "      <td>Automatically update bookmarks when sites move...</td>\n",
              "      <td>enhancement</td>\n",
              "    </tr>\n",
              "  </tbody>\n",
              "</table>\n",
              "</div>\n",
              "      <button class=\"colab-df-convert\" onclick=\"convertToInteractive('df-57245907-42d0-42ce-b5ca-9a48835005e4')\"\n",
              "              title=\"Convert this dataframe to an interactive table.\"\n",
              "              style=\"display:none;\">\n",
              "        \n",
              "  <svg xmlns=\"http://www.w3.org/2000/svg\" height=\"24px\"viewBox=\"0 0 24 24\"\n",
              "       width=\"24px\">\n",
              "    <path d=\"M0 0h24v24H0V0z\" fill=\"none\"/>\n",
              "    <path d=\"M18.56 5.44l.94 2.06.94-2.06 2.06-.94-2.06-.94-.94-2.06-.94 2.06-2.06.94zm-11 1L8.5 8.5l.94-2.06 2.06-.94-2.06-.94L8.5 2.5l-.94 2.06-2.06.94zm10 10l.94 2.06.94-2.06 2.06-.94-2.06-.94-.94-2.06-.94 2.06-2.06.94z\"/><path d=\"M17.41 7.96l-1.37-1.37c-.4-.4-.92-.59-1.43-.59-.52 0-1.04.2-1.43.59L10.3 9.45l-7.72 7.72c-.78.78-.78 2.05 0 2.83L4 21.41c.39.39.9.59 1.41.59.51 0 1.02-.2 1.41-.59l7.78-7.78 2.81-2.81c.8-.78.8-2.07 0-2.86zM5.41 20L4 18.59l7.72-7.72 1.47 1.35L5.41 20z\"/>\n",
              "  </svg>\n",
              "      </button>\n",
              "      \n",
              "  <style>\n",
              "    .colab-df-container {\n",
              "      display:flex;\n",
              "      flex-wrap:wrap;\n",
              "      gap: 12px;\n",
              "    }\n",
              "\n",
              "    .colab-df-convert {\n",
              "      background-color: #E8F0FE;\n",
              "      border: none;\n",
              "      border-radius: 50%;\n",
              "      cursor: pointer;\n",
              "      display: none;\n",
              "      fill: #1967D2;\n",
              "      height: 32px;\n",
              "      padding: 0 0 0 0;\n",
              "      width: 32px;\n",
              "    }\n",
              "\n",
              "    .colab-df-convert:hover {\n",
              "      background-color: #E2EBFA;\n",
              "      box-shadow: 0px 1px 2px rgba(60, 64, 67, 0.3), 0px 1px 3px 1px rgba(60, 64, 67, 0.15);\n",
              "      fill: #174EA6;\n",
              "    }\n",
              "\n",
              "    [theme=dark] .colab-df-convert {\n",
              "      background-color: #3B4455;\n",
              "      fill: #D2E3FC;\n",
              "    }\n",
              "\n",
              "    [theme=dark] .colab-df-convert:hover {\n",
              "      background-color: #434B5C;\n",
              "      box-shadow: 0px 1px 3px 1px rgba(0, 0, 0, 0.15);\n",
              "      filter: drop-shadow(0px 1px 2px rgba(0, 0, 0, 0.3));\n",
              "      fill: #FFFFFF;\n",
              "    }\n",
              "  </style>\n",
              "\n",
              "      <script>\n",
              "        const buttonEl =\n",
              "          document.querySelector('#df-57245907-42d0-42ce-b5ca-9a48835005e4 button.colab-df-convert');\n",
              "        buttonEl.style.display =\n",
              "          google.colab.kernel.accessAllowed ? 'block' : 'none';\n",
              "\n",
              "        async function convertToInteractive(key) {\n",
              "          const element = document.querySelector('#df-57245907-42d0-42ce-b5ca-9a48835005e4');\n",
              "          const dataTable =\n",
              "            await google.colab.kernel.invokeFunction('convertToInteractive',\n",
              "                                                     [key], {});\n",
              "          if (!dataTable) return;\n",
              "\n",
              "          const docLinkHtml = 'Like what you see? Visit the ' +\n",
              "            '<a target=\"_blank\" href=https://colab.research.google.com/notebooks/data_table.ipynb>data table notebook</a>'\n",
              "            + ' to learn more about interactive tables.';\n",
              "          element.innerHTML = '';\n",
              "          dataTable['output_type'] = 'display_data';\n",
              "          await google.colab.output.renderOutput(dataTable, element);\n",
              "          const docLink = document.createElement('div');\n",
              "          docLink.innerHTML = docLinkHtml;\n",
              "          element.appendChild(docLink);\n",
              "        }\n",
              "      </script>\n",
              "    </div>\n",
              "  </div>\n",
              "  "
            ]
          },
          "metadata": {},
          "execution_count": 38
        }
      ]
    },
    {
      "cell_type": "code",
      "source": [
        "# for handling text\n",
        "import nltk\n",
        "nltk.download('stopwords')\n",
        "nltk.download('punkt')\n",
        "from nltk.corpus import stopwords\n",
        "from nltk.tokenize import word_tokenize\n",
        "\n",
        "import regex as re"
      ],
      "metadata": {
        "colab": {
          "base_uri": "https://localhost:8080/"
        },
        "id": "FlkRDgj0QWwY",
        "outputId": "02a69bd4-0926-44be-da0f-8bae5a047b3c"
      },
      "execution_count": 39,
      "outputs": [
        {
          "output_type": "stream",
          "name": "stderr",
          "text": [
            "[nltk_data] Downloading package stopwords to /root/nltk_data...\n",
            "[nltk_data]   Package stopwords is already up-to-date!\n",
            "[nltk_data] Downloading package punkt to /root/nltk_data...\n",
            "[nltk_data]   Package punkt is already up-to-date!\n"
          ]
        }
      ]
    },
    {
      "cell_type": "code",
      "execution_count": 41,
      "metadata": {
        "id": "A95d43TxN0Bd"
      },
      "outputs": [],
      "source": [
        "def tokenize_text(df, input_col='summary', output_col=\"summary_tokens_list\"):\n",
        "    \"\"\"\n",
        "    takes a dataset and name of a column\n",
        "    then tokenizes the text in the column of that dataset\n",
        "    \"\"\"\n",
        "    # create a series that is the tokenized version of the input_col\n",
        "    tokenized_series = ...\n",
        "    df.loc[:, output_col] = tokenized_series\n",
        "    return df\n",
        "    \n",
        "df = tokenize_text(df)"
      ]
    },
    {
      "cell_type": "code",
      "execution_count": 43,
      "metadata": {
        "colab": {
          "base_uri": "https://localhost:8080/",
          "height": 112
        },
        "id": "eyZh6aScN0Bd",
        "outputId": "8f06c9ff-dd8c-4840-c937-c6cfe2a9325b"
      },
      "outputs": [
        {
          "output_type": "execute_result",
          "data": {
            "text/plain": [
              "                                             summary         type  \\\n",
              "0  Proxy: map HTTP 500 errors to necko errors (so...  enhancement   \n",
              "1  [LDAP] Access to a local LDAP server in Off-Li...  enhancement   \n",
              "\n",
              "                                 summary_tokens_list  \n",
              "0  [Proxy, :, map, HTTP, 500, errors, to, necko, ...  \n",
              "1  [[, LDAP, ], Access, to, a, local, LDAP, serve...  "
            ],
            "text/html": [
              "\n",
              "  <div id=\"df-57f26f3c-f2fa-4b6b-ad39-703306fb298a\">\n",
              "    <div class=\"colab-df-container\">\n",
              "      <div>\n",
              "<style scoped>\n",
              "    .dataframe tbody tr th:only-of-type {\n",
              "        vertical-align: middle;\n",
              "    }\n",
              "\n",
              "    .dataframe tbody tr th {\n",
              "        vertical-align: top;\n",
              "    }\n",
              "\n",
              "    .dataframe thead th {\n",
              "        text-align: right;\n",
              "    }\n",
              "</style>\n",
              "<table border=\"1\" class=\"dataframe\">\n",
              "  <thead>\n",
              "    <tr style=\"text-align: right;\">\n",
              "      <th></th>\n",
              "      <th>summary</th>\n",
              "      <th>type</th>\n",
              "      <th>summary_tokens_list</th>\n",
              "    </tr>\n",
              "  </thead>\n",
              "  <tbody>\n",
              "    <tr>\n",
              "      <th>0</th>\n",
              "      <td>Proxy: map HTTP 500 errors to necko errors (so...</td>\n",
              "      <td>enhancement</td>\n",
              "      <td>[Proxy, :, map, HTTP, 500, errors, to, necko, ...</td>\n",
              "    </tr>\n",
              "    <tr>\n",
              "      <th>1</th>\n",
              "      <td>[LDAP] Access to a local LDAP server in Off-Li...</td>\n",
              "      <td>enhancement</td>\n",
              "      <td>[[, LDAP, ], Access, to, a, local, LDAP, serve...</td>\n",
              "    </tr>\n",
              "  </tbody>\n",
              "</table>\n",
              "</div>\n",
              "      <button class=\"colab-df-convert\" onclick=\"convertToInteractive('df-57f26f3c-f2fa-4b6b-ad39-703306fb298a')\"\n",
              "              title=\"Convert this dataframe to an interactive table.\"\n",
              "              style=\"display:none;\">\n",
              "        \n",
              "  <svg xmlns=\"http://www.w3.org/2000/svg\" height=\"24px\"viewBox=\"0 0 24 24\"\n",
              "       width=\"24px\">\n",
              "    <path d=\"M0 0h24v24H0V0z\" fill=\"none\"/>\n",
              "    <path d=\"M18.56 5.44l.94 2.06.94-2.06 2.06-.94-2.06-.94-.94-2.06-.94 2.06-2.06.94zm-11 1L8.5 8.5l.94-2.06 2.06-.94-2.06-.94L8.5 2.5l-.94 2.06-2.06.94zm10 10l.94 2.06.94-2.06 2.06-.94-2.06-.94-.94-2.06-.94 2.06-2.06.94z\"/><path d=\"M17.41 7.96l-1.37-1.37c-.4-.4-.92-.59-1.43-.59-.52 0-1.04.2-1.43.59L10.3 9.45l-7.72 7.72c-.78.78-.78 2.05 0 2.83L4 21.41c.39.39.9.59 1.41.59.51 0 1.02-.2 1.41-.59l7.78-7.78 2.81-2.81c.8-.78.8-2.07 0-2.86zM5.41 20L4 18.59l7.72-7.72 1.47 1.35L5.41 20z\"/>\n",
              "  </svg>\n",
              "      </button>\n",
              "      \n",
              "  <style>\n",
              "    .colab-df-container {\n",
              "      display:flex;\n",
              "      flex-wrap:wrap;\n",
              "      gap: 12px;\n",
              "    }\n",
              "\n",
              "    .colab-df-convert {\n",
              "      background-color: #E8F0FE;\n",
              "      border: none;\n",
              "      border-radius: 50%;\n",
              "      cursor: pointer;\n",
              "      display: none;\n",
              "      fill: #1967D2;\n",
              "      height: 32px;\n",
              "      padding: 0 0 0 0;\n",
              "      width: 32px;\n",
              "    }\n",
              "\n",
              "    .colab-df-convert:hover {\n",
              "      background-color: #E2EBFA;\n",
              "      box-shadow: 0px 1px 2px rgba(60, 64, 67, 0.3), 0px 1px 3px 1px rgba(60, 64, 67, 0.15);\n",
              "      fill: #174EA6;\n",
              "    }\n",
              "\n",
              "    [theme=dark] .colab-df-convert {\n",
              "      background-color: #3B4455;\n",
              "      fill: #D2E3FC;\n",
              "    }\n",
              "\n",
              "    [theme=dark] .colab-df-convert:hover {\n",
              "      background-color: #434B5C;\n",
              "      box-shadow: 0px 1px 3px 1px rgba(0, 0, 0, 0.15);\n",
              "      filter: drop-shadow(0px 1px 2px rgba(0, 0, 0, 0.3));\n",
              "      fill: #FFFFFF;\n",
              "    }\n",
              "  </style>\n",
              "\n",
              "      <script>\n",
              "        const buttonEl =\n",
              "          document.querySelector('#df-57f26f3c-f2fa-4b6b-ad39-703306fb298a button.colab-df-convert');\n",
              "        buttonEl.style.display =\n",
              "          google.colab.kernel.accessAllowed ? 'block' : 'none';\n",
              "\n",
              "        async function convertToInteractive(key) {\n",
              "          const element = document.querySelector('#df-57f26f3c-f2fa-4b6b-ad39-703306fb298a');\n",
              "          const dataTable =\n",
              "            await google.colab.kernel.invokeFunction('convertToInteractive',\n",
              "                                                     [key], {});\n",
              "          if (!dataTable) return;\n",
              "\n",
              "          const docLinkHtml = 'Like what you see? Visit the ' +\n",
              "            '<a target=\"_blank\" href=https://colab.research.google.com/notebooks/data_table.ipynb>data table notebook</a>'\n",
              "            + ' to learn more about interactive tables.';\n",
              "          element.innerHTML = '';\n",
              "          dataTable['output_type'] = 'display_data';\n",
              "          await google.colab.output.renderOutput(dataTable, element);\n",
              "          const docLink = document.createElement('div');\n",
              "          docLink.innerHTML = docLinkHtml;\n",
              "          element.appendChild(docLink);\n",
              "        }\n",
              "      </script>\n",
              "    </div>\n",
              "  </div>\n",
              "  "
            ]
          },
          "metadata": {},
          "execution_count": 43
        }
      ],
      "source": [
        "df.head(2)"
      ]
    },
    {
      "cell_type": "markdown",
      "metadata": {
        "id": "X0Pz8k8DN0Bh"
      },
      "source": [
        "### Data Cleaning\n",
        "\n",
        "These are the functions and the road map we follow for cleaning this dataset:\n",
        "\n",
        " 1. Lowercase the text\n",
        " 2. remove the numbers\n",
        " 3. Remove the stopwords\n",
        " 4. Remove the punctuation\n",
        "\n",
        "When we go over all the steps, we append the text to a new list and then attach it to the main dataset.\n"
      ]
    },
    {
      "cell_type": "code",
      "execution_count": null,
      "metadata": {
        "id": "m9uRD5RXN0Bh"
      },
      "outputs": [],
      "source": [
        "stop_words = set(stopwords.words('english'))\n",
        "\n",
        "def remove_stopwords(list_of_words):\n",
        "    filtered_list = [w for w in list_of_words if not w in stop_words]\n",
        "    return filtered_list\n",
        "\n",
        "def check_punct(list_of_words):\n",
        "    \"\"\"\n",
        "    look at the tokenized text. if the token was matched with ( or was only)\n",
        "    a puncutation, it is redundant and we remove it.\n",
        "    \"\"\"\n",
        "    filtered_list = []\n",
        "    for word in list_of_words:\n",
        "        if re.match(\"[()!><.,`?':\\-\\[\\]_@]\", word):\n",
        "            pass\n",
        "        else: filtered_list.append(word)\n",
        "        \n",
        "    return filtered_list\n",
        "\n",
        "def remove_numbers(list_of_words):\n",
        "\n",
        "    filtered_list = []\n",
        "    for word in list_of_words:\n",
        "        if re.findall(\"[0-9]\", word):\n",
        "            pass\n",
        "        else: filtered_list.append(word)\n",
        "        \n",
        "    return filtered_list\n",
        "\n",
        "\n",
        "def clean(df, input_col='summary_tokens_list', output_col=\"cleaned_word_list\"):\n",
        "    \n",
        "    \"\"\"\n",
        "    takes a column of textual data \n",
        "    outputs a df with cleaned text attached\n",
        "    \"\"\"\n",
        "    text_series = df.loc[:, input_col]\n",
        "    cleaned_text_series = []\n",
        "    \n",
        "    for text in text_series: \n",
        "        # go through every record of this dataset\n",
        "        # then append the cleaned text to a new list\n",
        "        cleaned_text = remove_numbers(text)\n",
        "        cleaned_text = remove_stopwords(cleaned_text)\n",
        "        cleaned_text = check_punct(cleaned_text)\n",
        "        cleaned_text = [t.lower() for t in cleaned_text]\n",
        "        \n",
        "        cleaned_text_series.append(cleaned_text)\n",
        "        \n",
        "    df.loc[:, output_col] = cleaned_text_series\n",
        "    \n",
        "    return df\n",
        "\n",
        "df = clean(df)"
      ]
    },
    {
      "cell_type": "code",
      "source": [
        ""
      ],
      "metadata": {
        "id": "rqpgqCV1zjJc"
      },
      "execution_count": 46,
      "outputs": []
    },
    {
      "cell_type": "code",
      "execution_count": 48,
      "metadata": {
        "id": "tDEKIiDiN0Bh",
        "colab": {
          "base_uri": "https://localhost:8080/",
          "height": 112
        },
        "outputId": "47844a9f-3c7a-4fe4-f16b-88a2249259e3"
      },
      "outputs": [
        {
          "output_type": "execute_result",
          "data": {
            "text/plain": [
              "                                             summary         type  \\\n",
              "0  Proxy: map HTTP 500 errors to necko errors (so...  enhancement   \n",
              "1  [LDAP] Access to a local LDAP server in Off-Li...  enhancement   \n",
              "\n",
              "                                 summary_tokens_list  \\\n",
              "0  [Proxy, :, map, HTTP, 500, errors, to, necko, ...   \n",
              "1  [[, LDAP, ], Access, to, a, local, LDAP, serve...   \n",
              "\n",
              "                                   cleaned_word_list  \n",
              "0  [proxy, map, http, errors, necko, errors, inte...  \n",
              "1  [ldap, access, local, ldap, server, off-line, ...  "
            ],
            "text/html": [
              "\n",
              "  <div id=\"df-79f8989d-1cf2-46b7-ad2b-39394de4dfa7\">\n",
              "    <div class=\"colab-df-container\">\n",
              "      <div>\n",
              "<style scoped>\n",
              "    .dataframe tbody tr th:only-of-type {\n",
              "        vertical-align: middle;\n",
              "    }\n",
              "\n",
              "    .dataframe tbody tr th {\n",
              "        vertical-align: top;\n",
              "    }\n",
              "\n",
              "    .dataframe thead th {\n",
              "        text-align: right;\n",
              "    }\n",
              "</style>\n",
              "<table border=\"1\" class=\"dataframe\">\n",
              "  <thead>\n",
              "    <tr style=\"text-align: right;\">\n",
              "      <th></th>\n",
              "      <th>summary</th>\n",
              "      <th>type</th>\n",
              "      <th>summary_tokens_list</th>\n",
              "      <th>cleaned_word_list</th>\n",
              "    </tr>\n",
              "  </thead>\n",
              "  <tbody>\n",
              "    <tr>\n",
              "      <th>0</th>\n",
              "      <td>Proxy: map HTTP 500 errors to necko errors (so...</td>\n",
              "      <td>enhancement</td>\n",
              "      <td>[Proxy, :, map, HTTP, 500, errors, to, necko, ...</td>\n",
              "      <td>[proxy, map, http, errors, necko, errors, inte...</td>\n",
              "    </tr>\n",
              "    <tr>\n",
              "      <th>1</th>\n",
              "      <td>[LDAP] Access to a local LDAP server in Off-Li...</td>\n",
              "      <td>enhancement</td>\n",
              "      <td>[[, LDAP, ], Access, to, a, local, LDAP, serve...</td>\n",
              "      <td>[ldap, access, local, ldap, server, off-line, ...</td>\n",
              "    </tr>\n",
              "  </tbody>\n",
              "</table>\n",
              "</div>\n",
              "      <button class=\"colab-df-convert\" onclick=\"convertToInteractive('df-79f8989d-1cf2-46b7-ad2b-39394de4dfa7')\"\n",
              "              title=\"Convert this dataframe to an interactive table.\"\n",
              "              style=\"display:none;\">\n",
              "        \n",
              "  <svg xmlns=\"http://www.w3.org/2000/svg\" height=\"24px\"viewBox=\"0 0 24 24\"\n",
              "       width=\"24px\">\n",
              "    <path d=\"M0 0h24v24H0V0z\" fill=\"none\"/>\n",
              "    <path d=\"M18.56 5.44l.94 2.06.94-2.06 2.06-.94-2.06-.94-.94-2.06-.94 2.06-2.06.94zm-11 1L8.5 8.5l.94-2.06 2.06-.94-2.06-.94L8.5 2.5l-.94 2.06-2.06.94zm10 10l.94 2.06.94-2.06 2.06-.94-2.06-.94-.94-2.06-.94 2.06-2.06.94z\"/><path d=\"M17.41 7.96l-1.37-1.37c-.4-.4-.92-.59-1.43-.59-.52 0-1.04.2-1.43.59L10.3 9.45l-7.72 7.72c-.78.78-.78 2.05 0 2.83L4 21.41c.39.39.9.59 1.41.59.51 0 1.02-.2 1.41-.59l7.78-7.78 2.81-2.81c.8-.78.8-2.07 0-2.86zM5.41 20L4 18.59l7.72-7.72 1.47 1.35L5.41 20z\"/>\n",
              "  </svg>\n",
              "      </button>\n",
              "      \n",
              "  <style>\n",
              "    .colab-df-container {\n",
              "      display:flex;\n",
              "      flex-wrap:wrap;\n",
              "      gap: 12px;\n",
              "    }\n",
              "\n",
              "    .colab-df-convert {\n",
              "      background-color: #E8F0FE;\n",
              "      border: none;\n",
              "      border-radius: 50%;\n",
              "      cursor: pointer;\n",
              "      display: none;\n",
              "      fill: #1967D2;\n",
              "      height: 32px;\n",
              "      padding: 0 0 0 0;\n",
              "      width: 32px;\n",
              "    }\n",
              "\n",
              "    .colab-df-convert:hover {\n",
              "      background-color: #E2EBFA;\n",
              "      box-shadow: 0px 1px 2px rgba(60, 64, 67, 0.3), 0px 1px 3px 1px rgba(60, 64, 67, 0.15);\n",
              "      fill: #174EA6;\n",
              "    }\n",
              "\n",
              "    [theme=dark] .colab-df-convert {\n",
              "      background-color: #3B4455;\n",
              "      fill: #D2E3FC;\n",
              "    }\n",
              "\n",
              "    [theme=dark] .colab-df-convert:hover {\n",
              "      background-color: #434B5C;\n",
              "      box-shadow: 0px 1px 3px 1px rgba(0, 0, 0, 0.15);\n",
              "      filter: drop-shadow(0px 1px 2px rgba(0, 0, 0, 0.3));\n",
              "      fill: #FFFFFF;\n",
              "    }\n",
              "  </style>\n",
              "\n",
              "      <script>\n",
              "        const buttonEl =\n",
              "          document.querySelector('#df-79f8989d-1cf2-46b7-ad2b-39394de4dfa7 button.colab-df-convert');\n",
              "        buttonEl.style.display =\n",
              "          google.colab.kernel.accessAllowed ? 'block' : 'none';\n",
              "\n",
              "        async function convertToInteractive(key) {\n",
              "          const element = document.querySelector('#df-79f8989d-1cf2-46b7-ad2b-39394de4dfa7');\n",
              "          const dataTable =\n",
              "            await google.colab.kernel.invokeFunction('convertToInteractive',\n",
              "                                                     [key], {});\n",
              "          if (!dataTable) return;\n",
              "\n",
              "          const docLinkHtml = 'Like what you see? Visit the ' +\n",
              "            '<a target=\"_blank\" href=https://colab.research.google.com/notebooks/data_table.ipynb>data table notebook</a>'\n",
              "            + ' to learn more about interactive tables.';\n",
              "          element.innerHTML = '';\n",
              "          dataTable['output_type'] = 'display_data';\n",
              "          await google.colab.output.renderOutput(dataTable, element);\n",
              "          const docLink = document.createElement('div');\n",
              "          docLink.innerHTML = docLinkHtml;\n",
              "          element.appendChild(docLink);\n",
              "        }\n",
              "      </script>\n",
              "    </div>\n",
              "  </div>\n",
              "  "
            ]
          },
          "metadata": {},
          "execution_count": 48
        }
      ],
      "source": [
        "df.head(2)"
      ]
    },
    {
      "cell_type": "markdown",
      "metadata": {
        "id": "2wik1zxrN0Be"
      },
      "source": [
        "Let's see how long each document tokens list is."
      ]
    },
    {
      "cell_type": "code",
      "execution_count": 52,
      "metadata": {
        "id": "RvtLae7kN0Be",
        "colab": {
          "base_uri": "https://localhost:8080/",
          "height": 112
        },
        "outputId": "26cdb9fd-2690-4616-a7a2-7762684532fb"
      },
      "outputs": [
        {
          "output_type": "execute_result",
          "data": {
            "text/plain": [
              "                                             summary         type  \\\n",
              "0  Proxy: map HTTP 500 errors to necko errors (so...  enhancement   \n",
              "1  [LDAP] Access to a local LDAP server in Off-Li...  enhancement   \n",
              "\n",
              "                                 summary_tokens_list  \\\n",
              "0  [Proxy, :, map, HTTP, 500, errors, to, necko, ...   \n",
              "1  [[, LDAP, ], Access, to, a, local, LDAP, serve...   \n",
              "\n",
              "                                   cleaned_word_list  tokens_list_length  \n",
              "0  [proxy, map, http, errors, necko, errors, inte...                  12  \n",
              "1  [ldap, access, local, ldap, server, off-line, ...                   7  "
            ],
            "text/html": [
              "\n",
              "  <div id=\"df-72050484-6a29-41cb-9c2c-1d9324ada3be\">\n",
              "    <div class=\"colab-df-container\">\n",
              "      <div>\n",
              "<style scoped>\n",
              "    .dataframe tbody tr th:only-of-type {\n",
              "        vertical-align: middle;\n",
              "    }\n",
              "\n",
              "    .dataframe tbody tr th {\n",
              "        vertical-align: top;\n",
              "    }\n",
              "\n",
              "    .dataframe thead th {\n",
              "        text-align: right;\n",
              "    }\n",
              "</style>\n",
              "<table border=\"1\" class=\"dataframe\">\n",
              "  <thead>\n",
              "    <tr style=\"text-align: right;\">\n",
              "      <th></th>\n",
              "      <th>summary</th>\n",
              "      <th>type</th>\n",
              "      <th>summary_tokens_list</th>\n",
              "      <th>cleaned_word_list</th>\n",
              "      <th>tokens_list_length</th>\n",
              "    </tr>\n",
              "  </thead>\n",
              "  <tbody>\n",
              "    <tr>\n",
              "      <th>0</th>\n",
              "      <td>Proxy: map HTTP 500 errors to necko errors (so...</td>\n",
              "      <td>enhancement</td>\n",
              "      <td>[Proxy, :, map, HTTP, 500, errors, to, necko, ...</td>\n",
              "      <td>[proxy, map, http, errors, necko, errors, inte...</td>\n",
              "      <td>12</td>\n",
              "    </tr>\n",
              "    <tr>\n",
              "      <th>1</th>\n",
              "      <td>[LDAP] Access to a local LDAP server in Off-Li...</td>\n",
              "      <td>enhancement</td>\n",
              "      <td>[[, LDAP, ], Access, to, a, local, LDAP, serve...</td>\n",
              "      <td>[ldap, access, local, ldap, server, off-line, ...</td>\n",
              "      <td>7</td>\n",
              "    </tr>\n",
              "  </tbody>\n",
              "</table>\n",
              "</div>\n",
              "      <button class=\"colab-df-convert\" onclick=\"convertToInteractive('df-72050484-6a29-41cb-9c2c-1d9324ada3be')\"\n",
              "              title=\"Convert this dataframe to an interactive table.\"\n",
              "              style=\"display:none;\">\n",
              "        \n",
              "  <svg xmlns=\"http://www.w3.org/2000/svg\" height=\"24px\"viewBox=\"0 0 24 24\"\n",
              "       width=\"24px\">\n",
              "    <path d=\"M0 0h24v24H0V0z\" fill=\"none\"/>\n",
              "    <path d=\"M18.56 5.44l.94 2.06.94-2.06 2.06-.94-2.06-.94-.94-2.06-.94 2.06-2.06.94zm-11 1L8.5 8.5l.94-2.06 2.06-.94-2.06-.94L8.5 2.5l-.94 2.06-2.06.94zm10 10l.94 2.06.94-2.06 2.06-.94-2.06-.94-.94-2.06-.94 2.06-2.06.94z\"/><path d=\"M17.41 7.96l-1.37-1.37c-.4-.4-.92-.59-1.43-.59-.52 0-1.04.2-1.43.59L10.3 9.45l-7.72 7.72c-.78.78-.78 2.05 0 2.83L4 21.41c.39.39.9.59 1.41.59.51 0 1.02-.2 1.41-.59l7.78-7.78 2.81-2.81c.8-.78.8-2.07 0-2.86zM5.41 20L4 18.59l7.72-7.72 1.47 1.35L5.41 20z\"/>\n",
              "  </svg>\n",
              "      </button>\n",
              "      \n",
              "  <style>\n",
              "    .colab-df-container {\n",
              "      display:flex;\n",
              "      flex-wrap:wrap;\n",
              "      gap: 12px;\n",
              "    }\n",
              "\n",
              "    .colab-df-convert {\n",
              "      background-color: #E8F0FE;\n",
              "      border: none;\n",
              "      border-radius: 50%;\n",
              "      cursor: pointer;\n",
              "      display: none;\n",
              "      fill: #1967D2;\n",
              "      height: 32px;\n",
              "      padding: 0 0 0 0;\n",
              "      width: 32px;\n",
              "    }\n",
              "\n",
              "    .colab-df-convert:hover {\n",
              "      background-color: #E2EBFA;\n",
              "      box-shadow: 0px 1px 2px rgba(60, 64, 67, 0.3), 0px 1px 3px 1px rgba(60, 64, 67, 0.15);\n",
              "      fill: #174EA6;\n",
              "    }\n",
              "\n",
              "    [theme=dark] .colab-df-convert {\n",
              "      background-color: #3B4455;\n",
              "      fill: #D2E3FC;\n",
              "    }\n",
              "\n",
              "    [theme=dark] .colab-df-convert:hover {\n",
              "      background-color: #434B5C;\n",
              "      box-shadow: 0px 1px 3px 1px rgba(0, 0, 0, 0.15);\n",
              "      filter: drop-shadow(0px 1px 2px rgba(0, 0, 0, 0.3));\n",
              "      fill: #FFFFFF;\n",
              "    }\n",
              "  </style>\n",
              "\n",
              "      <script>\n",
              "        const buttonEl =\n",
              "          document.querySelector('#df-72050484-6a29-41cb-9c2c-1d9324ada3be button.colab-df-convert');\n",
              "        buttonEl.style.display =\n",
              "          google.colab.kernel.accessAllowed ? 'block' : 'none';\n",
              "\n",
              "        async function convertToInteractive(key) {\n",
              "          const element = document.querySelector('#df-72050484-6a29-41cb-9c2c-1d9324ada3be');\n",
              "          const dataTable =\n",
              "            await google.colab.kernel.invokeFunction('convertToInteractive',\n",
              "                                                     [key], {});\n",
              "          if (!dataTable) return;\n",
              "\n",
              "          const docLinkHtml = 'Like what you see? Visit the ' +\n",
              "            '<a target=\"_blank\" href=https://colab.research.google.com/notebooks/data_table.ipynb>data table notebook</a>'\n",
              "            + ' to learn more about interactive tables.';\n",
              "          element.innerHTML = '';\n",
              "          dataTable['output_type'] = 'display_data';\n",
              "          await google.colab.output.renderOutput(dataTable, element);\n",
              "          const docLink = document.createElement('div');\n",
              "          docLink.innerHTML = docLinkHtml;\n",
              "          element.appendChild(docLink);\n",
              "        }\n",
              "      </script>\n",
              "    </div>\n",
              "  </div>\n",
              "  "
            ]
          },
          "metadata": {},
          "execution_count": 52
        }
      ],
      "source": [
        "def add_token_length_to_df(df, col='cleaned_word_list'):\n",
        "    \n",
        "    # calculate the length of each list \n",
        "    length_of_tokens = ...\n",
        "    df.loc[:, 'tokens_list_length'] = length_of_tokens\n",
        "    return df\n",
        "\n",
        "df = add_token_length_to_df(df)\n",
        "df.head(2)"
      ]
    },
    {
      "cell_type": "code",
      "execution_count": 56,
      "metadata": {
        "id": "tO0QX5LxN0Be",
        "colab": {
          "base_uri": "https://localhost:8080/",
          "height": 542
        },
        "outputId": "0cad74c5-a0a7-4836-d4b8-1f51aeea6062"
      },
      "outputs": [
        {
          "output_type": "display_data",
          "data": {
            "text/html": [
              "<html>\n",
              "<head><meta charset=\"utf-8\" /></head>\n",
              "<body>\n",
              "    <div>            <script src=\"https://cdnjs.cloudflare.com/ajax/libs/mathjax/2.7.5/MathJax.js?config=TeX-AMS-MML_SVG\"></script><script type=\"text/javascript\">if (window.MathJax) {MathJax.Hub.Config({SVG: {font: \"STIX-Web\"}});}</script>                <script type=\"text/javascript\">window.PlotlyConfig = {MathJaxConfig: 'local'};</script>\n",
              "        <script src=\"https://cdn.plot.ly/plotly-2.8.3.min.js\"></script>                <div id=\"82d97cbc-8b4c-445f-9757-9e4d603c1da4\" class=\"plotly-graph-div\" style=\"height:525px; width:100%;\"></div>            <script type=\"text/javascript\">                                    window.PLOTLYENV=window.PLOTLYENV || {};                                    if (document.getElementById(\"82d97cbc-8b4c-445f-9757-9e4d603c1da4\")) {                    Plotly.newPlot(                        \"82d97cbc-8b4c-445f-9757-9e4d603c1da4\",                        [{\"alignmentgroup\":\"True\",\"bingroup\":\"x\",\"hovertemplate\":\"type=enhancement<br>count of tokens list=%{x}<br>count=%{y}<extra></extra>\",\"legendgroup\":\"enhancement\",\"marker\":{\"color\":\"#636efa\",\"opacity\":0.8,\"pattern\":{\"shape\":\"\"}},\"name\":\"enhancement\",\"offsetgroup\":\"enhancement\",\"orientation\":\"v\",\"showlegend\":true,\"x\":[12,7,6,7,5,14,5,12,8,7,5,9,4,9,6,9,13,10,6,5,6,5,5,6,5,5,9,11,7,4,7,9,5,5,2,8,7,16,7,8,4,5,4,6,9,3,3,4,4,3,5,7,6,5,8,8,6,2,10,6,4,7,4,4,5,5,4,6,7,5,4,3,8,5,7,7,4,8,10,7,2,7,9,4,4,11,4,19,6,6,10,6,5,7,24,7,7,4,6,5,6,7,8,6,4,5,5,9,5,5,6,11,2,7,4,8,8,4,4,5,4,8,9,5,6,4,6,6,8,6,8,5,4,6,4,7,6,8,11,4,5,6,4,2,3,10,7,7,8,6,6,5,5,10,7,4,8,7,2,5,8,6,7,4,13,7,5,7,6,7,11,7,14,3,8,5,4,6,6,7,8,4,8,6,5,2,9,18,12,3,5,6,11,7,6,4,5,5,5,7,5,4,6,4,6,6,3,7,10,3,3,6,4,8,5,13,8,9,6,4,5,7,6,6,7,7,4,3,8,5,3,10,8,9,7,10,5,4,10,6,6,14,4,11,5,7,7,14,4,6,4,3,9,4,6,12,8,11,7,8,8,13,7,5,16,12,4,9,4,4,6,5,4,8,10,4,9,5,3,9,4,5,7,5,6,6,7,5,9,7,7,4,3,12,10,8,6,6,8,6,5,5,6,5,5,7,4,7,6,5,7,7,8,4,5,15,15,8,2,12,5,16,12,10,11,8,4,10,15,9,9,6,3,9,5,11,5,3,5,5,21,9,10,3,6,15,4,9,13,9,13,5,8,6,9,7,12,10,7,5,8,6,11,6,6,5,3,8,8,7,7,6,4,5,9,6,7,6,9,2,8,8,10,4,6,10,6,5,9,7,11,10,9,6,6,6,2,4,10,4,5,8,6,9,10,5,6,10,10,9,7,6,15,6,5,4,6,12,19,6,7,8,3,5,8,5,6,7,12,8,8,10,8,5,16,5,9,6,8,6,6,5,5,3,12,5,18,4,3,4,6,5,5,8,7,6,6,8,6,8,3,8,4,5,5,4,5,4,5,4,7,10,7,12,4,4,10,8,7,5,10,5,12,6,5,6,13,7,6,6,5,4,5,17,10,7,4,3,5,3,4,6,8,9,6,5,6,8,18,8,5,4,14,7,7,3,10,8,3,6,12,14,4,2,18,7,8,6,4,5,7,8,6,4,14,6,7,8,6,5,3,4,5,4,4,4,6,4,5,4,6,13,8,4,10,8,6,4,5,6,12,4,8,5,9,2,6,5,10,2,6,10,7,6,4,7,9,10,11,8,7,9,6,9,5,6,4,7,9,6,10,5,8,11,12,5,14,9,5,8,6,5,14,14,5,4,13,9,8,4,4,3,6,6,14,3,6,4,6,9,6,6,9,6,17,7,6,5,6,3,3,14,12,12,4,10,4,7,7,4,14,3,4,4,6,9,4,4,4,3,4,5,6,8,2,9,6,4,5,9,3,6,5,5,5,4,6,2,4,5,3,4,6,8,4,5,5,3,2,10,5,8,5,7,7,7,3,8,7,9,4,4,6,8,7,5,7,7,6,4,6,5,5,5,3,9,5,9,5,8,6,4,4,6,14,4,5,4,16,4,11,3,3,6,3,3,9,10,6,7,4,3,3,4,5,7,5,5,3,4,10,5,3,6,4,7,9,9,4,7,9,3,6,6,3,7,7,5,5,6,7,5,5,6,9,6,5,2,5,5,5,7,13,6,8,10,8,6,7,5,5,9,6,4,6,5,7,4,4,9,3,5,6,7,6,6,2,8,4,5,4,10,10,5,6,4,19,4,7,17,6,5,11,3,4,3,3,7,9,8,4,4,8,5,13,5,5,5,4,7,4,4,4,5,3,4,4,5,8,9,6,8,11,4,10,4,2,13,4,4,3,11,6,5,4,13,6,14,6,9,6,4,4,6,7,5,4,5,5,3,4,6,21,8,7,8,6,10,9,7,8,8,3,7,6,6,16,16,7,6,6,10,7,3,12,6,5,4,7,6,6,5,10,7,5,3,10,3,2,4,9,5,9,3,8,8,5,7,4,5,7,6,5,3,4,5,9,10,6,6,8,5,9,4,6,5,7,5,7,7,10,5,7,5,9,7,7,4,3,5,3,5,9,4,3,6,8,4,4,7,6,8,3,5,8,6,5,5,7,4,5,5,4,7,7,5,5,5,8,8,7,4,5,5,6,7,7,5,2,10,7,7,6,6,6,7,2,7,6,5,4,4,10,5,12,10,6,6,5,6,8,6,7,6,11,4,12,4,3,10,7,3,4,6,7,7,6,5,4,9,6,4,7,4,5,3,5,10,5,4,4,5,6,6,4,8,6,3,3,9,8,5,8,7,5,4,6,8,7,5,6,4,7,5,5,2,10,4,5,7,4,4,6,5,3,5,7,3,9,13,5,7,2,2,2,4,5,3,9,3,7,9,5,5,9,5,6,7,6,6,5,7,5,5,3,3,8,5,5,8,5,5,7,3,8,4,9,9,10,11,5,4,7,5,6,4,4,6,8,7,8,9,4,11,6,6,6,9,9,5,5,15,4,7,11,6,4,3,8,7,8,5,7,6,6,6,5,7,6,9,7,5,5,10,5,4,10,5,4,6,7,9,7,9,10,4,7,5,7,7,8,7,7,5,13,8,8,10,7,5,5,9,8,7,5,9,7,12,5,8,5,4,6,7,6,9,3,11,5,6,6,4,7,4,3,3,4,6,10,7,4,5,8,3,7,6,4,7,4,3,4,8,7,6,7,4,4,7,4,3,4,3,8,5,9,2,6,5,6,7,4,5,6,4,4,2,4,8,6,5,5,8,3,6,7,5,6,5,10,12,7,5,7,4,7,4,6,15,8,7,5,6,6,5,7,4,5,2,6,7,6,5,2,7,4,7,6,8,8,8,7,3,6,4,11,9,4,7,6,4,5,6,5,4,8,6,6,9,11,7,4,6,4,10,6,6,6,5,3,4,4,6,4,8,7,6,8,12,8,4,6,7,4,5,8,5,4,4,12,12,6,9,5,4,6,6,6,9,5,4,3,6,4,7,10,6,5,6,8,3,7,2,5,13,4,5,5,8,7,6,5,6,2,4,7,6,8,6,3,6,11,4,5,5,6,6,4,4,8,9,5,6,6,6,6,6,6,4,8,3,3,4,7,8,5,5,6,6,6,6,3,8,4,7,11,5,5,6,9,4,8,5,4,11,4,5,6,4,4,5,4,5,5,5,5,6,4,8,10,7,11,6,5,6,3,4,10,6,3,5,9,5,8,10,10,8,7,7,9,6,5,5,6,9,6,10,6,6,5,3,10,5,6,2,10,9,5,6,5,10,6,8,5,8,6,5,5,7,5,6,3,4,5,8,9,6,4,5,5,10,7,6,7,10,3,6,10,6,3,2,5,10,3,7,5,5,7,4,7,6,6,7,3,6,5,6,7,8,4,5,6,6,4,4,5,5,5,6,4,5,8,7,8,5,4,4,10,6,4,8,10,6,3,6,6,4,6,7,6,10,8,6,4,6,7,7,7,3,5,6,9,5,4,4,9,6,7,6,5,5,7,6,6,5,5,8,3,6,7,4,7,5,8,9,6,8,5,8,7,12,6,5,7,5,4,6,2,5,6,4,7,4,7,2,6,3,6,6,7,5,4,10,7,5,5,5,4,5,8,12,7,6,4,7,8,5,7,4,3,3,6,8,4,8,10,6,2,2,2,2,2,2,6,7,3,4,6,4,4,6,4,8,6,4,6,8,7,6,5,8,3,8,4,7,4,6,2,10,8,8,4,9,6,7,7,7,2,4,9,6,5,6,4,5,2,7,4,7,5,3,12,7,3,8,4,10,6,9,6,5,9,3,6,9,6,6,4,7,9,8,7,6,4,5,10,6,6,7,5,5,10,5,4,4,6,7,5,8,6,6,8,8,4,5,5,3,5,5,5,7,7,7,6,7,5,5,6,6,8,7,6,6,4,8,5,10,6,5,6,4,4,7,4,6,3,6,5,5,14,5,7,8,4,12,6,7,7,8,6,7,8,7,4,10,8,7,8,8,4,3,8,8,2,10,5,7,6,4,6,4,4,3,8,9,5,3,4,6,10,6,6,7,4,5,13,7,6,12,6,20,9,12,3,8,5,4,4,4,4,4,11,8,5,8,7,4,6,3,5,7,9,3,6,4,6,6,4,5,4,10,2,2,8,3,6,8,5,4,4,4,5,4,6,6,3,4,5,3,3,3,2,4,8,7,4,4,7,6,4,2,4,7,5,2,2,12,8,8,6,5,3,14,6,6,6,3,9,5,6,4,6,6,4,4,4,7,4,9,7,3,5,4,4,6,5,4,3,6,7,4,6,5,5,6,8,3,4,5,5,7,5,8,5,5,5,6,8,4,3,4,5,10,7,10,7,9,5,4,4,4,3,7,4,3,3,3,3,6,4,9,5,3,9,4,7,6,6,9,4,5,7,7,4,6,7,3,6,5,5,2,5,2,2,6,3,5,5,6,3,7,11,10,3,4,5,6,10,10,5,4,4,5,5,6,10,4,10,5,5,2,7,8,4,9,4,2,6,11,4,4,4,8,4,4,5,6,5,7,5,4,8,3,3,2,9,6,6,9,6,4,5,7,6,3,6,6,5,6,5,3,4,4,8,3,5,6,5,5,6,9,2,6,4,3,11,7,9,8,4,2,5,5,4,4,4,12,4,3,7,3,3,7,4,5,6,8,1,4,7,5,15,7,6,2,7,7,4,6,5,5,5,5,9,6,9,12,12,4,5,3,3,7,6,5,7,7,5,3,3,3,6,6,11,5,7,5,8,9,4,6,4,5,5,7,16,7,5,6,3,7,7,5,4,4,4,6,5,10,5,7,5,7,3,1,2,7,6,6,7,7,7,7,5,4,7,4,4,3,4,6,5,5,8,7,5,5,8,7,6,4,6,6,9,5,8,5,4,4,8,5,10,5,6,6,4,4,4,5,5,6,6,4,5,5,5,9,13,3,3,5,4,4,5,5,4,5,7,3,5,6,6,7,5,3,8,4,7,4,4,12,3,7,3,5,5,5,7,6,6,6,6,5,5,7,6,4,7,2,7,4,3,10,6,8,4,5,8,7,4,3,7,6,12,5,6,5,4,4,6,6,6,11,8,4,3,5,7,9,6,6,6,6,8,2,4,8,12,6,5,5,3,3,7,8,5,7,10,5,7,6,6,4,4,6,3,3,7,7,7,7,7,3,9,7,5,10,7,6,7,4,3,5,9,3,8,7,8,9,10,4,5,5,5,8,6,5,5,3,4,3,5,8,3,3,6,6,5,8,6,6,4,4,4,4,4,4,5,4,5,5,6,3,4,8,5,2,6,6,4,4,5,9,7,13,3,15,4,6,6,5,9,8,9,7,8,4,5,5,7,11,8,4,4,5,4,6,5,2,4,8,5,5,4,5,3,6,6,6,8,3,5,8,8,6,5,5,7,7,7,4,6,5,3,6,4,3,9,6,4,7,3,6,6,5,5,4,5,8,7,6,2,6,3,8,7,7,6,8,6,9,3,4,5,7,6,7,9,9,2,6,14,14,2,5,8,12,3,7,4,5,6,6,9,6,5,6,3,5,7,5,6,3,5,6,4,3,3,2,2,3,8,4,5,7,6,7,10,8,1,6,8,4,5,3,6,4,10,9,4,7,9,2,5,4,5,6,8,8,4,6,14,5,2,5,6,6,4,5,3,10,5,6,8,7,8,7,4,7,6,6,5,6,4,5,11,7,7,5,12,8,7,5,5,3,7,4,2,5,2,8,11,3,9,4,4,4,4,5,5,9,8,5,3,7,13,5,5,4,7,3,3,5,3,2,7,6,7,4,4,4,6,9,7,6,8,2,8,3,7,5,7,7,4,6,2,5,6,10,8,2,8,6,9,3,8,3,5,9,5,8,5,6,10,7,6,12,7,6,4,6,4,3,6,1,6,3,6,8,6,8,8,8,5,4,7,3,2,3,6,3,3,5,2,8,5,5,6,6,5,4,7,4,4,6,8,6,5,6,6,5,5,6,4,4,6,4,8,5,5,6,6,5,5,5,5,6,5,8,5,6,7,5,7,8,5,6,3,8,9,11,4,2,4,2,8,6,12,6,7,8,6,8,7,3,9,7,3,5,3,9,6,6,12,8,5,3,5,5,8,4,4,6,11,2,6,6,6,8,7,6,7,15,9,6,5,3,4,3,3,4,5,8,7,9,9,7,7,9,13,8,8,6,8,8,3,5,6,5,7,4,8,6,6,6,9,7,5,6,4,6,3,5,4,6,2,4,5,3,9,7,5,7,8,2,3,5,4,3,8,14,5,10,5,5,6,6,3,8,8,11,5,5,4,5,7,6,4,6,6,6,6,7,6,5,6,6,4,6,8,3,6,8,8,6,9,9,6,8,8,5,8,3,5,6,4,6,6,6,6,4,9,5,8,5,7,6,7,11,8,8,6,6,7,2,6,3,4,5,6,6,7,10,5,3,2,4,6,4,6,6,7,4,8,11,6,5,8,7,3,3,9,4,5,9,10,4,7,6,4,6,4,7,5,7,5,6,5,7,3,4,6,7,7,4,4,6,7,3,7,7,2,4,5,5,5,7,7,3,6,6,5,4,6,7,8,4,6,5,8,6,2,11,7,8,4,4,7,9,9,3,14,10,8,8,9,6,4,5,11,6,3,5,4,6,6,7,7,7,7,7,8,3,5,6,7,7,6,8,7,12,4,3,5,7,3,7,6,7,4,3,4,2,9,2,4,4,8,7,4,6,5,5,6,6,4,4,3,3,8,9,3,7,11,4,7,6,4,5,10,9,5,7,9,2,2,6,3,4,3,5,4,6,8,6,5,6,3,5,9,11,5,7,5,6,5,8,5,6,7,8,5,8,6,5,7,6,8,5,3,5,5,5,4,6,4,5,7,7,8,6,5,10,7,4,11,8,4,4,8,6,3,5,8,4,2,5,8,8,4,4,4,6,8,12,4,4,6,4,3,7,5,6,7,4,5,2,7,4,4,2,6,2,7,8,10,5,8,3,4,6,5,5,5,8,6,5,8,5,12,5,9,5,10,5,2,6,8,4,6,7,6,4,6,3,5,6,5,4,5,9,5,4,5,5,5,9,4,9,5,7,5,9,7,6,4,5,6,5,6,8,5,6,3,8,7,8,9,15,5,5,5,5,2,2,6,12,3,6,4,4,13,8,5,6,9,4,9,4,5,12,5,4,5,5,4,6,6,8,5,6,7,8,8,4,4,12,4,7,8,7,5,3,4,8,10,5,6,2,14,13,5,12,8,6,8,12,11,11,14,13,4,7,6,4,6,5,8,5,3,8,9,6,9,10,11,5,5,7,11,5,5,3,7,7,4,6,6,8,6,7,6,4,4,4,7,6,4,5,6,3,4,6,6,4,6,4,7,18,6,3,4,7,5,8,5,9,3,5,15,8,5,9,6,7,5,8,8],\"xaxis\":\"x\",\"yaxis\":\"y\",\"type\":\"histogram\"},{\"alignmentgroup\":\"True\",\"hovertemplate\":\"type=enhancement<br>count of tokens list=%{x}<extra></extra>\",\"legendgroup\":\"enhancement\",\"marker\":{\"color\":\"#636efa\"},\"name\":\"enhancement\",\"notched\":true,\"offsetgroup\":\"enhancement\",\"showlegend\":false,\"x\":[12,7,6,7,5,14,5,12,8,7,5,9,4,9,6,9,13,10,6,5,6,5,5,6,5,5,9,11,7,4,7,9,5,5,2,8,7,16,7,8,4,5,4,6,9,3,3,4,4,3,5,7,6,5,8,8,6,2,10,6,4,7,4,4,5,5,4,6,7,5,4,3,8,5,7,7,4,8,10,7,2,7,9,4,4,11,4,19,6,6,10,6,5,7,24,7,7,4,6,5,6,7,8,6,4,5,5,9,5,5,6,11,2,7,4,8,8,4,4,5,4,8,9,5,6,4,6,6,8,6,8,5,4,6,4,7,6,8,11,4,5,6,4,2,3,10,7,7,8,6,6,5,5,10,7,4,8,7,2,5,8,6,7,4,13,7,5,7,6,7,11,7,14,3,8,5,4,6,6,7,8,4,8,6,5,2,9,18,12,3,5,6,11,7,6,4,5,5,5,7,5,4,6,4,6,6,3,7,10,3,3,6,4,8,5,13,8,9,6,4,5,7,6,6,7,7,4,3,8,5,3,10,8,9,7,10,5,4,10,6,6,14,4,11,5,7,7,14,4,6,4,3,9,4,6,12,8,11,7,8,8,13,7,5,16,12,4,9,4,4,6,5,4,8,10,4,9,5,3,9,4,5,7,5,6,6,7,5,9,7,7,4,3,12,10,8,6,6,8,6,5,5,6,5,5,7,4,7,6,5,7,7,8,4,5,15,15,8,2,12,5,16,12,10,11,8,4,10,15,9,9,6,3,9,5,11,5,3,5,5,21,9,10,3,6,15,4,9,13,9,13,5,8,6,9,7,12,10,7,5,8,6,11,6,6,5,3,8,8,7,7,6,4,5,9,6,7,6,9,2,8,8,10,4,6,10,6,5,9,7,11,10,9,6,6,6,2,4,10,4,5,8,6,9,10,5,6,10,10,9,7,6,15,6,5,4,6,12,19,6,7,8,3,5,8,5,6,7,12,8,8,10,8,5,16,5,9,6,8,6,6,5,5,3,12,5,18,4,3,4,6,5,5,8,7,6,6,8,6,8,3,8,4,5,5,4,5,4,5,4,7,10,7,12,4,4,10,8,7,5,10,5,12,6,5,6,13,7,6,6,5,4,5,17,10,7,4,3,5,3,4,6,8,9,6,5,6,8,18,8,5,4,14,7,7,3,10,8,3,6,12,14,4,2,18,7,8,6,4,5,7,8,6,4,14,6,7,8,6,5,3,4,5,4,4,4,6,4,5,4,6,13,8,4,10,8,6,4,5,6,12,4,8,5,9,2,6,5,10,2,6,10,7,6,4,7,9,10,11,8,7,9,6,9,5,6,4,7,9,6,10,5,8,11,12,5,14,9,5,8,6,5,14,14,5,4,13,9,8,4,4,3,6,6,14,3,6,4,6,9,6,6,9,6,17,7,6,5,6,3,3,14,12,12,4,10,4,7,7,4,14,3,4,4,6,9,4,4,4,3,4,5,6,8,2,9,6,4,5,9,3,6,5,5,5,4,6,2,4,5,3,4,6,8,4,5,5,3,2,10,5,8,5,7,7,7,3,8,7,9,4,4,6,8,7,5,7,7,6,4,6,5,5,5,3,9,5,9,5,8,6,4,4,6,14,4,5,4,16,4,11,3,3,6,3,3,9,10,6,7,4,3,3,4,5,7,5,5,3,4,10,5,3,6,4,7,9,9,4,7,9,3,6,6,3,7,7,5,5,6,7,5,5,6,9,6,5,2,5,5,5,7,13,6,8,10,8,6,7,5,5,9,6,4,6,5,7,4,4,9,3,5,6,7,6,6,2,8,4,5,4,10,10,5,6,4,19,4,7,17,6,5,11,3,4,3,3,7,9,8,4,4,8,5,13,5,5,5,4,7,4,4,4,5,3,4,4,5,8,9,6,8,11,4,10,4,2,13,4,4,3,11,6,5,4,13,6,14,6,9,6,4,4,6,7,5,4,5,5,3,4,6,21,8,7,8,6,10,9,7,8,8,3,7,6,6,16,16,7,6,6,10,7,3,12,6,5,4,7,6,6,5,10,7,5,3,10,3,2,4,9,5,9,3,8,8,5,7,4,5,7,6,5,3,4,5,9,10,6,6,8,5,9,4,6,5,7,5,7,7,10,5,7,5,9,7,7,4,3,5,3,5,9,4,3,6,8,4,4,7,6,8,3,5,8,6,5,5,7,4,5,5,4,7,7,5,5,5,8,8,7,4,5,5,6,7,7,5,2,10,7,7,6,6,6,7,2,7,6,5,4,4,10,5,12,10,6,6,5,6,8,6,7,6,11,4,12,4,3,10,7,3,4,6,7,7,6,5,4,9,6,4,7,4,5,3,5,10,5,4,4,5,6,6,4,8,6,3,3,9,8,5,8,7,5,4,6,8,7,5,6,4,7,5,5,2,10,4,5,7,4,4,6,5,3,5,7,3,9,13,5,7,2,2,2,4,5,3,9,3,7,9,5,5,9,5,6,7,6,6,5,7,5,5,3,3,8,5,5,8,5,5,7,3,8,4,9,9,10,11,5,4,7,5,6,4,4,6,8,7,8,9,4,11,6,6,6,9,9,5,5,15,4,7,11,6,4,3,8,7,8,5,7,6,6,6,5,7,6,9,7,5,5,10,5,4,10,5,4,6,7,9,7,9,10,4,7,5,7,7,8,7,7,5,13,8,8,10,7,5,5,9,8,7,5,9,7,12,5,8,5,4,6,7,6,9,3,11,5,6,6,4,7,4,3,3,4,6,10,7,4,5,8,3,7,6,4,7,4,3,4,8,7,6,7,4,4,7,4,3,4,3,8,5,9,2,6,5,6,7,4,5,6,4,4,2,4,8,6,5,5,8,3,6,7,5,6,5,10,12,7,5,7,4,7,4,6,15,8,7,5,6,6,5,7,4,5,2,6,7,6,5,2,7,4,7,6,8,8,8,7,3,6,4,11,9,4,7,6,4,5,6,5,4,8,6,6,9,11,7,4,6,4,10,6,6,6,5,3,4,4,6,4,8,7,6,8,12,8,4,6,7,4,5,8,5,4,4,12,12,6,9,5,4,6,6,6,9,5,4,3,6,4,7,10,6,5,6,8,3,7,2,5,13,4,5,5,8,7,6,5,6,2,4,7,6,8,6,3,6,11,4,5,5,6,6,4,4,8,9,5,6,6,6,6,6,6,4,8,3,3,4,7,8,5,5,6,6,6,6,3,8,4,7,11,5,5,6,9,4,8,5,4,11,4,5,6,4,4,5,4,5,5,5,5,6,4,8,10,7,11,6,5,6,3,4,10,6,3,5,9,5,8,10,10,8,7,7,9,6,5,5,6,9,6,10,6,6,5,3,10,5,6,2,10,9,5,6,5,10,6,8,5,8,6,5,5,7,5,6,3,4,5,8,9,6,4,5,5,10,7,6,7,10,3,6,10,6,3,2,5,10,3,7,5,5,7,4,7,6,6,7,3,6,5,6,7,8,4,5,6,6,4,4,5,5,5,6,4,5,8,7,8,5,4,4,10,6,4,8,10,6,3,6,6,4,6,7,6,10,8,6,4,6,7,7,7,3,5,6,9,5,4,4,9,6,7,6,5,5,7,6,6,5,5,8,3,6,7,4,7,5,8,9,6,8,5,8,7,12,6,5,7,5,4,6,2,5,6,4,7,4,7,2,6,3,6,6,7,5,4,10,7,5,5,5,4,5,8,12,7,6,4,7,8,5,7,4,3,3,6,8,4,8,10,6,2,2,2,2,2,2,6,7,3,4,6,4,4,6,4,8,6,4,6,8,7,6,5,8,3,8,4,7,4,6,2,10,8,8,4,9,6,7,7,7,2,4,9,6,5,6,4,5,2,7,4,7,5,3,12,7,3,8,4,10,6,9,6,5,9,3,6,9,6,6,4,7,9,8,7,6,4,5,10,6,6,7,5,5,10,5,4,4,6,7,5,8,6,6,8,8,4,5,5,3,5,5,5,7,7,7,6,7,5,5,6,6,8,7,6,6,4,8,5,10,6,5,6,4,4,7,4,6,3,6,5,5,14,5,7,8,4,12,6,7,7,8,6,7,8,7,4,10,8,7,8,8,4,3,8,8,2,10,5,7,6,4,6,4,4,3,8,9,5,3,4,6,10,6,6,7,4,5,13,7,6,12,6,20,9,12,3,8,5,4,4,4,4,4,11,8,5,8,7,4,6,3,5,7,9,3,6,4,6,6,4,5,4,10,2,2,8,3,6,8,5,4,4,4,5,4,6,6,3,4,5,3,3,3,2,4,8,7,4,4,7,6,4,2,4,7,5,2,2,12,8,8,6,5,3,14,6,6,6,3,9,5,6,4,6,6,4,4,4,7,4,9,7,3,5,4,4,6,5,4,3,6,7,4,6,5,5,6,8,3,4,5,5,7,5,8,5,5,5,6,8,4,3,4,5,10,7,10,7,9,5,4,4,4,3,7,4,3,3,3,3,6,4,9,5,3,9,4,7,6,6,9,4,5,7,7,4,6,7,3,6,5,5,2,5,2,2,6,3,5,5,6,3,7,11,10,3,4,5,6,10,10,5,4,4,5,5,6,10,4,10,5,5,2,7,8,4,9,4,2,6,11,4,4,4,8,4,4,5,6,5,7,5,4,8,3,3,2,9,6,6,9,6,4,5,7,6,3,6,6,5,6,5,3,4,4,8,3,5,6,5,5,6,9,2,6,4,3,11,7,9,8,4,2,5,5,4,4,4,12,4,3,7,3,3,7,4,5,6,8,1,4,7,5,15,7,6,2,7,7,4,6,5,5,5,5,9,6,9,12,12,4,5,3,3,7,6,5,7,7,5,3,3,3,6,6,11,5,7,5,8,9,4,6,4,5,5,7,16,7,5,6,3,7,7,5,4,4,4,6,5,10,5,7,5,7,3,1,2,7,6,6,7,7,7,7,5,4,7,4,4,3,4,6,5,5,8,7,5,5,8,7,6,4,6,6,9,5,8,5,4,4,8,5,10,5,6,6,4,4,4,5,5,6,6,4,5,5,5,9,13,3,3,5,4,4,5,5,4,5,7,3,5,6,6,7,5,3,8,4,7,4,4,12,3,7,3,5,5,5,7,6,6,6,6,5,5,7,6,4,7,2,7,4,3,10,6,8,4,5,8,7,4,3,7,6,12,5,6,5,4,4,6,6,6,11,8,4,3,5,7,9,6,6,6,6,8,2,4,8,12,6,5,5,3,3,7,8,5,7,10,5,7,6,6,4,4,6,3,3,7,7,7,7,7,3,9,7,5,10,7,6,7,4,3,5,9,3,8,7,8,9,10,4,5,5,5,8,6,5,5,3,4,3,5,8,3,3,6,6,5,8,6,6,4,4,4,4,4,4,5,4,5,5,6,3,4,8,5,2,6,6,4,4,5,9,7,13,3,15,4,6,6,5,9,8,9,7,8,4,5,5,7,11,8,4,4,5,4,6,5,2,4,8,5,5,4,5,3,6,6,6,8,3,5,8,8,6,5,5,7,7,7,4,6,5,3,6,4,3,9,6,4,7,3,6,6,5,5,4,5,8,7,6,2,6,3,8,7,7,6,8,6,9,3,4,5,7,6,7,9,9,2,6,14,14,2,5,8,12,3,7,4,5,6,6,9,6,5,6,3,5,7,5,6,3,5,6,4,3,3,2,2,3,8,4,5,7,6,7,10,8,1,6,8,4,5,3,6,4,10,9,4,7,9,2,5,4,5,6,8,8,4,6,14,5,2,5,6,6,4,5,3,10,5,6,8,7,8,7,4,7,6,6,5,6,4,5,11,7,7,5,12,8,7,5,5,3,7,4,2,5,2,8,11,3,9,4,4,4,4,5,5,9,8,5,3,7,13,5,5,4,7,3,3,5,3,2,7,6,7,4,4,4,6,9,7,6,8,2,8,3,7,5,7,7,4,6,2,5,6,10,8,2,8,6,9,3,8,3,5,9,5,8,5,6,10,7,6,12,7,6,4,6,4,3,6,1,6,3,6,8,6,8,8,8,5,4,7,3,2,3,6,3,3,5,2,8,5,5,6,6,5,4,7,4,4,6,8,6,5,6,6,5,5,6,4,4,6,4,8,5,5,6,6,5,5,5,5,6,5,8,5,6,7,5,7,8,5,6,3,8,9,11,4,2,4,2,8,6,12,6,7,8,6,8,7,3,9,7,3,5,3,9,6,6,12,8,5,3,5,5,8,4,4,6,11,2,6,6,6,8,7,6,7,15,9,6,5,3,4,3,3,4,5,8,7,9,9,7,7,9,13,8,8,6,8,8,3,5,6,5,7,4,8,6,6,6,9,7,5,6,4,6,3,5,4,6,2,4,5,3,9,7,5,7,8,2,3,5,4,3,8,14,5,10,5,5,6,6,3,8,8,11,5,5,4,5,7,6,4,6,6,6,6,7,6,5,6,6,4,6,8,3,6,8,8,6,9,9,6,8,8,5,8,3,5,6,4,6,6,6,6,4,9,5,8,5,7,6,7,11,8,8,6,6,7,2,6,3,4,5,6,6,7,10,5,3,2,4,6,4,6,6,7,4,8,11,6,5,8,7,3,3,9,4,5,9,10,4,7,6,4,6,4,7,5,7,5,6,5,7,3,4,6,7,7,4,4,6,7,3,7,7,2,4,5,5,5,7,7,3,6,6,5,4,6,7,8,4,6,5,8,6,2,11,7,8,4,4,7,9,9,3,14,10,8,8,9,6,4,5,11,6,3,5,4,6,6,7,7,7,7,7,8,3,5,6,7,7,6,8,7,12,4,3,5,7,3,7,6,7,4,3,4,2,9,2,4,4,8,7,4,6,5,5,6,6,4,4,3,3,8,9,3,7,11,4,7,6,4,5,10,9,5,7,9,2,2,6,3,4,3,5,4,6,8,6,5,6,3,5,9,11,5,7,5,6,5,8,5,6,7,8,5,8,6,5,7,6,8,5,3,5,5,5,4,6,4,5,7,7,8,6,5,10,7,4,11,8,4,4,8,6,3,5,8,4,2,5,8,8,4,4,4,6,8,12,4,4,6,4,3,7,5,6,7,4,5,2,7,4,4,2,6,2,7,8,10,5,8,3,4,6,5,5,5,8,6,5,8,5,12,5,9,5,10,5,2,6,8,4,6,7,6,4,6,3,5,6,5,4,5,9,5,4,5,5,5,9,4,9,5,7,5,9,7,6,4,5,6,5,6,8,5,6,3,8,7,8,9,15,5,5,5,5,2,2,6,12,3,6,4,4,13,8,5,6,9,4,9,4,5,12,5,4,5,5,4,6,6,8,5,6,7,8,8,4,4,12,4,7,8,7,5,3,4,8,10,5,6,2,14,13,5,12,8,6,8,12,11,11,14,13,4,7,6,4,6,5,8,5,3,8,9,6,9,10,11,5,5,7,11,5,5,3,7,7,4,6,6,8,6,7,6,4,4,4,7,6,4,5,6,3,4,6,6,4,6,4,7,18,6,3,4,7,5,8,5,9,3,5,15,8,5,9,6,7,5,8,8],\"xaxis\":\"x2\",\"yaxis\":\"y2\",\"type\":\"box\"},{\"alignmentgroup\":\"True\",\"bingroup\":\"x\",\"hovertemplate\":\"type=task<br>count of tokens list=%{x}<br>count=%{y}<extra></extra>\",\"legendgroup\":\"task\",\"marker\":{\"color\":\"#EF553B\",\"opacity\":0.8,\"pattern\":{\"shape\":\"\"}},\"name\":\"task\",\"offsetgroup\":\"task\",\"orientation\":\"v\",\"showlegend\":true,\"x\":[8,4,6,5,4,3,10,2,4,7,3,5,8,4,18,5,4,5,8,8,5,6,7,6,7,7,5,4,5,6,4,3,3,4,3,3,4,4,5,5,8,5,10,5,5,7,3,5,4,5,3,5,7,7,2,8,4,8,5,7,4,6,4,4,4,4,2,6,3,5,3,3,3,4,3,3,3,3,3,3,4,4,5,4,4,4,4,5,4,3,2,5,4,12,6,6,4,10,5,4,6,4,4,3,3,3,4,6,7,6,5,5,9,6,6,3,7,11,4,3,4,3,4,4,3,4,4,3,3,3,3,3,4,4,3,3,3,3,3,3,4,4,3,3,3,4,3,3,3,3,3,3,3,3,3,3,3,4,4,4,3,4,3,4,3,3,3,3,3,3,3,3,3,7,3,4,5,2,4,5,5,6,4,4,7,10,6,3,3,4,5,8,5,8,8,8,5,6,5,7,3,3,5,6,6,7,5,4,5,3,5,5,4,6,5,6,3,8,6,5,6,4,9,9,5,6,4,4,5,4,6,7,5,5,4,5,4,7,9,7,3,3,8,6,5,11,6,7,10,8,2,6,9,4,6,4,3,4,8,10,4,8,3,8,8,7,5,9,5,4,8,8,5,6,10,7,8,7,6,8,7,5,4,4,5,5,4,7,3,6,6,5,5,8,7,7,9,6,4,7,6,2,7,5,7,4,5,6,6,7,7,5,6,5,6,2,6,5,9,7,6,8,9,4,5,9,9,5,5,5,5,4,5,6,4,7,8,9,7,3,7,6,7,5,4,4,5,8,9,5,5,6,3,4,4,7,4,4,5,4,3,2,8,2,2,5,7,11,5,5,5,7,2,3,7,3,12,5,6,4,14,9,4,7,3,5,7,1,3,5,9,5,6,8,4,5,5,3,3,3,5,5,5,8,6,6,4,12,11,5,5,3,5,6,8,5,7,3,4,5,8,4,7,5,5,8,4,8,3,4,4,6,6,5,6,6,5,5,5,7,7,6,7,6,3,6,6,8,5,4,5,7,6,6,5,5,6,6,4,4,4,5,7,4,6,6,7,6,6,6,4,7,4,6,7,6,3,4,7,4,5,7,7,8,7,6,10,7,4,4,6,4,11,3,7,6,5,8,6,4,5,5,10,14,8,4,9,4,3,6,7,4,4,7,8,2,9,8,6,9,8,8,4,7,7,7,6,7,4,3,9,5,7,5,7,6,8,8,6,4,5,3,2,2,2,2,2,2,2,2,5,5,5,2,2,2,2,2,2,2,2,2,2,5,2,2,2,2,2,2,2,2,2,2,2,2,2,2,2,2,2,2,2,2,2,2,2,2,4,7,3,6,7,4,4,6,6,4,6,8,4,3,5,7,3,10,6,6,5,6,6,5,10,5,7,6,4,5,10,14,6,8,8,2,4,3,6,6,8,5,5,5,9,10,6,6,5,3,5,5,7,10,9,5,6,6,4,5,7,8,7,5,6,6,6,6,5,6,5,3,6,6,3,6,7,5,5,3,4,9,7,5,3,5,3,7,5,4,6,7,5,6,3,7,4,5,6,5,4,3,7,8,8,9,8,6,5,7,6,4,9,5,5,5,7,3,6,4,5,6,6,6,4,6,4,8,7,10,5,7,4,4,5,7,6,8,8,5,6,4,6,9,3,6,4,4,4,4,5,7,9,4,7,4,4,7,5,9,4,6,6,5,5,5,5,6,5,6,10,8,4,3,4,4,4,4,4,4,4,7,2,4,4,7,5,4,5,3,5,6,5,8,10,10,7,4,4,3,3,4,4,5,4,6,6,7,4,4,4,4,8,5,6,7,4,6,2,6,6,7,6,3,3,6,3,5,5,6,3,4,7,5,5,6,4,5,11,7,5,6,8,6,10,5,7,8,4,5,4,5,8,9,7,6,3,7,3,4,5,10,3,5,4,2,4,6,4,5,5,5,5,7,2,2,6,7,2,9,5,7,5,3,4,4,6,10,5,5,6,6,4,6,8,5,12,4,4,6],\"xaxis\":\"x\",\"yaxis\":\"y\",\"type\":\"histogram\"},{\"alignmentgroup\":\"True\",\"hovertemplate\":\"type=task<br>count of tokens list=%{x}<extra></extra>\",\"legendgroup\":\"task\",\"marker\":{\"color\":\"#EF553B\"},\"name\":\"task\",\"notched\":true,\"offsetgroup\":\"task\",\"showlegend\":false,\"x\":[8,4,6,5,4,3,10,2,4,7,3,5,8,4,18,5,4,5,8,8,5,6,7,6,7,7,5,4,5,6,4,3,3,4,3,3,4,4,5,5,8,5,10,5,5,7,3,5,4,5,3,5,7,7,2,8,4,8,5,7,4,6,4,4,4,4,2,6,3,5,3,3,3,4,3,3,3,3,3,3,4,4,5,4,4,4,4,5,4,3,2,5,4,12,6,6,4,10,5,4,6,4,4,3,3,3,4,6,7,6,5,5,9,6,6,3,7,11,4,3,4,3,4,4,3,4,4,3,3,3,3,3,4,4,3,3,3,3,3,3,4,4,3,3,3,4,3,3,3,3,3,3,3,3,3,3,3,4,4,4,3,4,3,4,3,3,3,3,3,3,3,3,3,7,3,4,5,2,4,5,5,6,4,4,7,10,6,3,3,4,5,8,5,8,8,8,5,6,5,7,3,3,5,6,6,7,5,4,5,3,5,5,4,6,5,6,3,8,6,5,6,4,9,9,5,6,4,4,5,4,6,7,5,5,4,5,4,7,9,7,3,3,8,6,5,11,6,7,10,8,2,6,9,4,6,4,3,4,8,10,4,8,3,8,8,7,5,9,5,4,8,8,5,6,10,7,8,7,6,8,7,5,4,4,5,5,4,7,3,6,6,5,5,8,7,7,9,6,4,7,6,2,7,5,7,4,5,6,6,7,7,5,6,5,6,2,6,5,9,7,6,8,9,4,5,9,9,5,5,5,5,4,5,6,4,7,8,9,7,3,7,6,7,5,4,4,5,8,9,5,5,6,3,4,4,7,4,4,5,4,3,2,8,2,2,5,7,11,5,5,5,7,2,3,7,3,12,5,6,4,14,9,4,7,3,5,7,1,3,5,9,5,6,8,4,5,5,3,3,3,5,5,5,8,6,6,4,12,11,5,5,3,5,6,8,5,7,3,4,5,8,4,7,5,5,8,4,8,3,4,4,6,6,5,6,6,5,5,5,7,7,6,7,6,3,6,6,8,5,4,5,7,6,6,5,5,6,6,4,4,4,5,7,4,6,6,7,6,6,6,4,7,4,6,7,6,3,4,7,4,5,7,7,8,7,6,10,7,4,4,6,4,11,3,7,6,5,8,6,4,5,5,10,14,8,4,9,4,3,6,7,4,4,7,8,2,9,8,6,9,8,8,4,7,7,7,6,7,4,3,9,5,7,5,7,6,8,8,6,4,5,3,2,2,2,2,2,2,2,2,5,5,5,2,2,2,2,2,2,2,2,2,2,5,2,2,2,2,2,2,2,2,2,2,2,2,2,2,2,2,2,2,2,2,2,2,2,2,4,7,3,6,7,4,4,6,6,4,6,8,4,3,5,7,3,10,6,6,5,6,6,5,10,5,7,6,4,5,10,14,6,8,8,2,4,3,6,6,8,5,5,5,9,10,6,6,5,3,5,5,7,10,9,5,6,6,4,5,7,8,7,5,6,6,6,6,5,6,5,3,6,6,3,6,7,5,5,3,4,9,7,5,3,5,3,7,5,4,6,7,5,6,3,7,4,5,6,5,4,3,7,8,8,9,8,6,5,7,6,4,9,5,5,5,7,3,6,4,5,6,6,6,4,6,4,8,7,10,5,7,4,4,5,7,6,8,8,5,6,4,6,9,3,6,4,4,4,4,5,7,9,4,7,4,4,7,5,9,4,6,6,5,5,5,5,6,5,6,10,8,4,3,4,4,4,4,4,4,4,7,2,4,4,7,5,4,5,3,5,6,5,8,10,10,7,4,4,3,3,4,4,5,4,6,6,7,4,4,4,4,8,5,6,7,4,6,2,6,6,7,6,3,3,6,3,5,5,6,3,4,7,5,5,6,4,5,11,7,5,6,8,6,10,5,7,8,4,5,4,5,8,9,7,6,3,7,3,4,5,10,3,5,4,2,4,6,4,5,5,5,5,7,2,2,6,7,2,9,5,7,5,3,4,4,6,10,5,5,6,6,4,6,8,5,12,4,4,6],\"xaxis\":\"x2\",\"yaxis\":\"y2\",\"type\":\"box\"}],                        {\"template\":{\"data\":{\"bar\":[{\"error_x\":{\"color\":\"#2a3f5f\"},\"error_y\":{\"color\":\"#2a3f5f\"},\"marker\":{\"line\":{\"color\":\"#E5ECF6\",\"width\":0.5},\"pattern\":{\"fillmode\":\"overlay\",\"size\":10,\"solidity\":0.2}},\"type\":\"bar\"}],\"barpolar\":[{\"marker\":{\"line\":{\"color\":\"#E5ECF6\",\"width\":0.5},\"pattern\":{\"fillmode\":\"overlay\",\"size\":10,\"solidity\":0.2}},\"type\":\"barpolar\"}],\"carpet\":[{\"aaxis\":{\"endlinecolor\":\"#2a3f5f\",\"gridcolor\":\"white\",\"linecolor\":\"white\",\"minorgridcolor\":\"white\",\"startlinecolor\":\"#2a3f5f\"},\"baxis\":{\"endlinecolor\":\"#2a3f5f\",\"gridcolor\":\"white\",\"linecolor\":\"white\",\"minorgridcolor\":\"white\",\"startlinecolor\":\"#2a3f5f\"},\"type\":\"carpet\"}],\"choropleth\":[{\"colorbar\":{\"outlinewidth\":0,\"ticks\":\"\"},\"type\":\"choropleth\"}],\"contour\":[{\"colorbar\":{\"outlinewidth\":0,\"ticks\":\"\"},\"colorscale\":[[0.0,\"#0d0887\"],[0.1111111111111111,\"#46039f\"],[0.2222222222222222,\"#7201a8\"],[0.3333333333333333,\"#9c179e\"],[0.4444444444444444,\"#bd3786\"],[0.5555555555555556,\"#d8576b\"],[0.6666666666666666,\"#ed7953\"],[0.7777777777777778,\"#fb9f3a\"],[0.8888888888888888,\"#fdca26\"],[1.0,\"#f0f921\"]],\"type\":\"contour\"}],\"contourcarpet\":[{\"colorbar\":{\"outlinewidth\":0,\"ticks\":\"\"},\"type\":\"contourcarpet\"}],\"heatmap\":[{\"colorbar\":{\"outlinewidth\":0,\"ticks\":\"\"},\"colorscale\":[[0.0,\"#0d0887\"],[0.1111111111111111,\"#46039f\"],[0.2222222222222222,\"#7201a8\"],[0.3333333333333333,\"#9c179e\"],[0.4444444444444444,\"#bd3786\"],[0.5555555555555556,\"#d8576b\"],[0.6666666666666666,\"#ed7953\"],[0.7777777777777778,\"#fb9f3a\"],[0.8888888888888888,\"#fdca26\"],[1.0,\"#f0f921\"]],\"type\":\"heatmap\"}],\"heatmapgl\":[{\"colorbar\":{\"outlinewidth\":0,\"ticks\":\"\"},\"colorscale\":[[0.0,\"#0d0887\"],[0.1111111111111111,\"#46039f\"],[0.2222222222222222,\"#7201a8\"],[0.3333333333333333,\"#9c179e\"],[0.4444444444444444,\"#bd3786\"],[0.5555555555555556,\"#d8576b\"],[0.6666666666666666,\"#ed7953\"],[0.7777777777777778,\"#fb9f3a\"],[0.8888888888888888,\"#fdca26\"],[1.0,\"#f0f921\"]],\"type\":\"heatmapgl\"}],\"histogram\":[{\"marker\":{\"pattern\":{\"fillmode\":\"overlay\",\"size\":10,\"solidity\":0.2}},\"type\":\"histogram\"}],\"histogram2d\":[{\"colorbar\":{\"outlinewidth\":0,\"ticks\":\"\"},\"colorscale\":[[0.0,\"#0d0887\"],[0.1111111111111111,\"#46039f\"],[0.2222222222222222,\"#7201a8\"],[0.3333333333333333,\"#9c179e\"],[0.4444444444444444,\"#bd3786\"],[0.5555555555555556,\"#d8576b\"],[0.6666666666666666,\"#ed7953\"],[0.7777777777777778,\"#fb9f3a\"],[0.8888888888888888,\"#fdca26\"],[1.0,\"#f0f921\"]],\"type\":\"histogram2d\"}],\"histogram2dcontour\":[{\"colorbar\":{\"outlinewidth\":0,\"ticks\":\"\"},\"colorscale\":[[0.0,\"#0d0887\"],[0.1111111111111111,\"#46039f\"],[0.2222222222222222,\"#7201a8\"],[0.3333333333333333,\"#9c179e\"],[0.4444444444444444,\"#bd3786\"],[0.5555555555555556,\"#d8576b\"],[0.6666666666666666,\"#ed7953\"],[0.7777777777777778,\"#fb9f3a\"],[0.8888888888888888,\"#fdca26\"],[1.0,\"#f0f921\"]],\"type\":\"histogram2dcontour\"}],\"mesh3d\":[{\"colorbar\":{\"outlinewidth\":0,\"ticks\":\"\"},\"type\":\"mesh3d\"}],\"parcoords\":[{\"line\":{\"colorbar\":{\"outlinewidth\":0,\"ticks\":\"\"}},\"type\":\"parcoords\"}],\"pie\":[{\"automargin\":true,\"type\":\"pie\"}],\"scatter\":[{\"marker\":{\"colorbar\":{\"outlinewidth\":0,\"ticks\":\"\"}},\"type\":\"scatter\"}],\"scatter3d\":[{\"line\":{\"colorbar\":{\"outlinewidth\":0,\"ticks\":\"\"}},\"marker\":{\"colorbar\":{\"outlinewidth\":0,\"ticks\":\"\"}},\"type\":\"scatter3d\"}],\"scattercarpet\":[{\"marker\":{\"colorbar\":{\"outlinewidth\":0,\"ticks\":\"\"}},\"type\":\"scattercarpet\"}],\"scattergeo\":[{\"marker\":{\"colorbar\":{\"outlinewidth\":0,\"ticks\":\"\"}},\"type\":\"scattergeo\"}],\"scattergl\":[{\"marker\":{\"colorbar\":{\"outlinewidth\":0,\"ticks\":\"\"}},\"type\":\"scattergl\"}],\"scattermapbox\":[{\"marker\":{\"colorbar\":{\"outlinewidth\":0,\"ticks\":\"\"}},\"type\":\"scattermapbox\"}],\"scatterpolar\":[{\"marker\":{\"colorbar\":{\"outlinewidth\":0,\"ticks\":\"\"}},\"type\":\"scatterpolar\"}],\"scatterpolargl\":[{\"marker\":{\"colorbar\":{\"outlinewidth\":0,\"ticks\":\"\"}},\"type\":\"scatterpolargl\"}],\"scatterternary\":[{\"marker\":{\"colorbar\":{\"outlinewidth\":0,\"ticks\":\"\"}},\"type\":\"scatterternary\"}],\"surface\":[{\"colorbar\":{\"outlinewidth\":0,\"ticks\":\"\"},\"colorscale\":[[0.0,\"#0d0887\"],[0.1111111111111111,\"#46039f\"],[0.2222222222222222,\"#7201a8\"],[0.3333333333333333,\"#9c179e\"],[0.4444444444444444,\"#bd3786\"],[0.5555555555555556,\"#d8576b\"],[0.6666666666666666,\"#ed7953\"],[0.7777777777777778,\"#fb9f3a\"],[0.8888888888888888,\"#fdca26\"],[1.0,\"#f0f921\"]],\"type\":\"surface\"}],\"table\":[{\"cells\":{\"fill\":{\"color\":\"#EBF0F8\"},\"line\":{\"color\":\"white\"}},\"header\":{\"fill\":{\"color\":\"#C8D4E3\"},\"line\":{\"color\":\"white\"}},\"type\":\"table\"}]},\"layout\":{\"annotationdefaults\":{\"arrowcolor\":\"#2a3f5f\",\"arrowhead\":0,\"arrowwidth\":1},\"autotypenumbers\":\"strict\",\"coloraxis\":{\"colorbar\":{\"outlinewidth\":0,\"ticks\":\"\"}},\"colorscale\":{\"diverging\":[[0,\"#8e0152\"],[0.1,\"#c51b7d\"],[0.2,\"#de77ae\"],[0.3,\"#f1b6da\"],[0.4,\"#fde0ef\"],[0.5,\"#f7f7f7\"],[0.6,\"#e6f5d0\"],[0.7,\"#b8e186\"],[0.8,\"#7fbc41\"],[0.9,\"#4d9221\"],[1,\"#276419\"]],\"sequential\":[[0.0,\"#0d0887\"],[0.1111111111111111,\"#46039f\"],[0.2222222222222222,\"#7201a8\"],[0.3333333333333333,\"#9c179e\"],[0.4444444444444444,\"#bd3786\"],[0.5555555555555556,\"#d8576b\"],[0.6666666666666666,\"#ed7953\"],[0.7777777777777778,\"#fb9f3a\"],[0.8888888888888888,\"#fdca26\"],[1.0,\"#f0f921\"]],\"sequentialminus\":[[0.0,\"#0d0887\"],[0.1111111111111111,\"#46039f\"],[0.2222222222222222,\"#7201a8\"],[0.3333333333333333,\"#9c179e\"],[0.4444444444444444,\"#bd3786\"],[0.5555555555555556,\"#d8576b\"],[0.6666666666666666,\"#ed7953\"],[0.7777777777777778,\"#fb9f3a\"],[0.8888888888888888,\"#fdca26\"],[1.0,\"#f0f921\"]]},\"colorway\":[\"#636efa\",\"#EF553B\",\"#00cc96\",\"#ab63fa\",\"#FFA15A\",\"#19d3f3\",\"#FF6692\",\"#B6E880\",\"#FF97FF\",\"#FECB52\"],\"font\":{\"color\":\"#2a3f5f\"},\"geo\":{\"bgcolor\":\"white\",\"lakecolor\":\"white\",\"landcolor\":\"#E5ECF6\",\"showlakes\":true,\"showland\":true,\"subunitcolor\":\"white\"},\"hoverlabel\":{\"align\":\"left\"},\"hovermode\":\"closest\",\"mapbox\":{\"style\":\"light\"},\"paper_bgcolor\":\"white\",\"plot_bgcolor\":\"#E5ECF6\",\"polar\":{\"angularaxis\":{\"gridcolor\":\"white\",\"linecolor\":\"white\",\"ticks\":\"\"},\"bgcolor\":\"#E5ECF6\",\"radialaxis\":{\"gridcolor\":\"white\",\"linecolor\":\"white\",\"ticks\":\"\"}},\"scene\":{\"xaxis\":{\"backgroundcolor\":\"#E5ECF6\",\"gridcolor\":\"white\",\"gridwidth\":2,\"linecolor\":\"white\",\"showbackground\":true,\"ticks\":\"\",\"zerolinecolor\":\"white\"},\"yaxis\":{\"backgroundcolor\":\"#E5ECF6\",\"gridcolor\":\"white\",\"gridwidth\":2,\"linecolor\":\"white\",\"showbackground\":true,\"ticks\":\"\",\"zerolinecolor\":\"white\"},\"zaxis\":{\"backgroundcolor\":\"#E5ECF6\",\"gridcolor\":\"white\",\"gridwidth\":2,\"linecolor\":\"white\",\"showbackground\":true,\"ticks\":\"\",\"zerolinecolor\":\"white\"}},\"shapedefaults\":{\"line\":{\"color\":\"#2a3f5f\"}},\"ternary\":{\"aaxis\":{\"gridcolor\":\"white\",\"linecolor\":\"white\",\"ticks\":\"\"},\"baxis\":{\"gridcolor\":\"white\",\"linecolor\":\"white\",\"ticks\":\"\"},\"bgcolor\":\"#E5ECF6\",\"caxis\":{\"gridcolor\":\"white\",\"linecolor\":\"white\",\"ticks\":\"\"}},\"title\":{\"x\":0.05},\"xaxis\":{\"automargin\":true,\"gridcolor\":\"white\",\"linecolor\":\"white\",\"ticks\":\"\",\"title\":{\"standoff\":15},\"zerolinecolor\":\"white\",\"zerolinewidth\":2},\"yaxis\":{\"automargin\":true,\"gridcolor\":\"white\",\"linecolor\":\"white\",\"ticks\":\"\",\"title\":{\"standoff\":15},\"zerolinecolor\":\"white\",\"zerolinewidth\":2}}},\"xaxis\":{\"anchor\":\"y\",\"domain\":[0.0,1.0],\"title\":{\"text\":\"count of tokens list\"}},\"yaxis\":{\"anchor\":\"x\",\"domain\":[0.0,0.7326],\"title\":{\"text\":\"count\"}},\"xaxis2\":{\"anchor\":\"y2\",\"domain\":[0.0,1.0],\"matches\":\"x\",\"showticklabels\":false,\"showgrid\":true},\"yaxis2\":{\"anchor\":\"x2\",\"domain\":[0.7426,1.0],\"matches\":\"y2\",\"showticklabels\":false,\"showline\":false,\"ticks\":\"\",\"showgrid\":false},\"legend\":{\"title\":{\"text\":\"type\"},\"tracegroupgap\":0},\"title\":{\"text\":\"Histogram of summary tokens count\"},\"barmode\":\"relative\"},                        {\"responsive\": true}                    ).then(function(){\n",
              "                            \n",
              "var gd = document.getElementById('82d97cbc-8b4c-445f-9757-9e4d603c1da4');\n",
              "var x = new MutationObserver(function (mutations, observer) {{\n",
              "        var display = window.getComputedStyle(gd).display;\n",
              "        if (!display || display === 'none') {{\n",
              "            console.log([gd, 'removed!']);\n",
              "            Plotly.purge(gd);\n",
              "            observer.disconnect();\n",
              "        }}\n",
              "}});\n",
              "\n",
              "// Listen for the removal of the full notebook cells\n",
              "var notebookContainer = gd.closest('#notebook-container');\n",
              "if (notebookContainer) {{\n",
              "    x.observe(notebookContainer, {childList: true});\n",
              "}}\n",
              "\n",
              "// Listen for the clearing of the current output cell\n",
              "var outputEl = gd.closest('.output');\n",
              "if (outputEl) {{\n",
              "    x.observe(outputEl, {childList: true});\n",
              "}}\n",
              "\n",
              "                        })                };                            </script>        </div>\n",
              "</body>\n",
              "</html>"
            ]
          },
          "metadata": {}
        }
      ],
      "source": [
        "fig = px.histogram(df, x=\"tokens_list_length\", color=\"type\",\n",
        "                    marginal=\"box\",\n",
        "                   title='Histogram of summary tokens count',\n",
        "                   labels={'tokens_list_length':'count of tokens list'}, # can specify one label per df column\n",
        "                   opacity=0.8,)\n",
        "fig.show(renderer=\"colab\")"
      ]
    },
    {
      "cell_type": "markdown",
      "metadata": {
        "id": "ik83wz4aN0Be"
      },
      "source": [
        "The goal of the following cell is to create a dataset of all the words in our dataset and count them as they appear in the records."
      ]
    },
    {
      "cell_type": "code",
      "execution_count": 57,
      "metadata": {
        "id": "MQkJBTBoN0Bf"
      },
      "outputs": [],
      "source": [
        "def count_words(tokens_column_series):\n",
        "    \"\"\"\n",
        "    gets a series of tokens lists and counts the tokens\n",
        "    output: a sorted dict\n",
        "    {\"word1\": 105, \"word2\": 67, ...}\n",
        "    note: you can also use a bag of words package to do this\n",
        "    \"\"\"\n",
        "    count_dict = {}\n",
        "    for tokens_list in tokens_column_series:\n",
        "        for word in tokens_list:\n",
        "            try: count_dict[word] +=1\n",
        "            except: count_dict[word] = 1\n",
        "\n",
        "    # sort \n",
        "    sorted_count_dict = {k:v for k,v in sorted(count_dict.items(), key=lambda item: item[1], reverse=True)}\n",
        "    \n",
        "    return sorted_count_dict \n",
        "\n",
        "def get_n_key_and_value(n, dict_):\n",
        "\n",
        "    \"\"\"\n",
        "    get the first - most frequent and important -\n",
        "    words of dictionary \n",
        "    \"\"\"\n",
        "    keys = [k for (k, v) in dict_.items()][:n]\n",
        "    values = [v for (k, v) in dict_.items()][:n]\n",
        "\n",
        "    return keys, values\n",
        "\n",
        "def convert_tokens_list_to_freq_df(tokens_arrays, n=-1):\n",
        "    \"\"\"\n",
        "    gets the array of tokenized sentences\n",
        "    output: a sorted data frame with two cols\n",
        "    the words and their frequency\n",
        "    \"\"\"\n",
        "\n",
        "    sorted_count_dict = count_words(tokens_arrays)\n",
        "    keys, values = get_n_key_and_value(n, sorted_count_dict)\n",
        "\n",
        "    df = pd.DataFrame({'words': keys, 'freq': values})\n",
        "\n",
        "    return df\n",
        "\n",
        "    \n",
        "df_words_freq_task = convert_tokens_list_to_freq_df(df[df.type=='task'].cleaned_word_list, n=-1)\n",
        "df_words_freq_enh = convert_tokens_list_to_freq_df(df[df.type=='enhancement'].cleaned_word_list, n=-1)\n"
      ]
    },
    {
      "cell_type": "code",
      "source": [
        "df_words_freq_enh"
      ],
      "metadata": {
        "colab": {
          "base_uri": "https://localhost:8080/",
          "height": 424
        },
        "id": "xJIXdhhq5td6",
        "outputId": "9bde6f41-0c88-4274-9004-ad0b53c00822"
      },
      "execution_count": 59,
      "outputs": [
        {
          "output_type": "execute_result",
          "data": {
            "text/plain": [
              "            words  freq\n",
              "0            meta   704\n",
              "1       implement   283\n",
              "2             add   278\n",
              "3         support   236\n",
              "4             use   154\n",
              "...           ...   ...\n",
              "5274  distinguish     1\n",
              "5275         hacl     1\n",
              "5276     manager|     1\n",
              "5277          pad     1\n",
              "5278      megabar     1\n",
              "\n",
              "[5279 rows x 2 columns]"
            ],
            "text/html": [
              "\n",
              "  <div id=\"df-ebb9ce88-9482-4803-aee4-298139f49ea5\">\n",
              "    <div class=\"colab-df-container\">\n",
              "      <div>\n",
              "<style scoped>\n",
              "    .dataframe tbody tr th:only-of-type {\n",
              "        vertical-align: middle;\n",
              "    }\n",
              "\n",
              "    .dataframe tbody tr th {\n",
              "        vertical-align: top;\n",
              "    }\n",
              "\n",
              "    .dataframe thead th {\n",
              "        text-align: right;\n",
              "    }\n",
              "</style>\n",
              "<table border=\"1\" class=\"dataframe\">\n",
              "  <thead>\n",
              "    <tr style=\"text-align: right;\">\n",
              "      <th></th>\n",
              "      <th>words</th>\n",
              "      <th>freq</th>\n",
              "    </tr>\n",
              "  </thead>\n",
              "  <tbody>\n",
              "    <tr>\n",
              "      <th>0</th>\n",
              "      <td>meta</td>\n",
              "      <td>704</td>\n",
              "    </tr>\n",
              "    <tr>\n",
              "      <th>1</th>\n",
              "      <td>implement</td>\n",
              "      <td>283</td>\n",
              "    </tr>\n",
              "    <tr>\n",
              "      <th>2</th>\n",
              "      <td>add</td>\n",
              "      <td>278</td>\n",
              "    </tr>\n",
              "    <tr>\n",
              "      <th>3</th>\n",
              "      <td>support</td>\n",
              "      <td>236</td>\n",
              "    </tr>\n",
              "    <tr>\n",
              "      <th>4</th>\n",
              "      <td>use</td>\n",
              "      <td>154</td>\n",
              "    </tr>\n",
              "    <tr>\n",
              "      <th>...</th>\n",
              "      <td>...</td>\n",
              "      <td>...</td>\n",
              "    </tr>\n",
              "    <tr>\n",
              "      <th>5274</th>\n",
              "      <td>distinguish</td>\n",
              "      <td>1</td>\n",
              "    </tr>\n",
              "    <tr>\n",
              "      <th>5275</th>\n",
              "      <td>hacl</td>\n",
              "      <td>1</td>\n",
              "    </tr>\n",
              "    <tr>\n",
              "      <th>5276</th>\n",
              "      <td>manager|</td>\n",
              "      <td>1</td>\n",
              "    </tr>\n",
              "    <tr>\n",
              "      <th>5277</th>\n",
              "      <td>pad</td>\n",
              "      <td>1</td>\n",
              "    </tr>\n",
              "    <tr>\n",
              "      <th>5278</th>\n",
              "      <td>megabar</td>\n",
              "      <td>1</td>\n",
              "    </tr>\n",
              "  </tbody>\n",
              "</table>\n",
              "<p>5279 rows × 2 columns</p>\n",
              "</div>\n",
              "      <button class=\"colab-df-convert\" onclick=\"convertToInteractive('df-ebb9ce88-9482-4803-aee4-298139f49ea5')\"\n",
              "              title=\"Convert this dataframe to an interactive table.\"\n",
              "              style=\"display:none;\">\n",
              "        \n",
              "  <svg xmlns=\"http://www.w3.org/2000/svg\" height=\"24px\"viewBox=\"0 0 24 24\"\n",
              "       width=\"24px\">\n",
              "    <path d=\"M0 0h24v24H0V0z\" fill=\"none\"/>\n",
              "    <path d=\"M18.56 5.44l.94 2.06.94-2.06 2.06-.94-2.06-.94-.94-2.06-.94 2.06-2.06.94zm-11 1L8.5 8.5l.94-2.06 2.06-.94-2.06-.94L8.5 2.5l-.94 2.06-2.06.94zm10 10l.94 2.06.94-2.06 2.06-.94-2.06-.94-.94-2.06-.94 2.06-2.06.94z\"/><path d=\"M17.41 7.96l-1.37-1.37c-.4-.4-.92-.59-1.43-.59-.52 0-1.04.2-1.43.59L10.3 9.45l-7.72 7.72c-.78.78-.78 2.05 0 2.83L4 21.41c.39.39.9.59 1.41.59.51 0 1.02-.2 1.41-.59l7.78-7.78 2.81-2.81c.8-.78.8-2.07 0-2.86zM5.41 20L4 18.59l7.72-7.72 1.47 1.35L5.41 20z\"/>\n",
              "  </svg>\n",
              "      </button>\n",
              "      \n",
              "  <style>\n",
              "    .colab-df-container {\n",
              "      display:flex;\n",
              "      flex-wrap:wrap;\n",
              "      gap: 12px;\n",
              "    }\n",
              "\n",
              "    .colab-df-convert {\n",
              "      background-color: #E8F0FE;\n",
              "      border: none;\n",
              "      border-radius: 50%;\n",
              "      cursor: pointer;\n",
              "      display: none;\n",
              "      fill: #1967D2;\n",
              "      height: 32px;\n",
              "      padding: 0 0 0 0;\n",
              "      width: 32px;\n",
              "    }\n",
              "\n",
              "    .colab-df-convert:hover {\n",
              "      background-color: #E2EBFA;\n",
              "      box-shadow: 0px 1px 2px rgba(60, 64, 67, 0.3), 0px 1px 3px 1px rgba(60, 64, 67, 0.15);\n",
              "      fill: #174EA6;\n",
              "    }\n",
              "\n",
              "    [theme=dark] .colab-df-convert {\n",
              "      background-color: #3B4455;\n",
              "      fill: #D2E3FC;\n",
              "    }\n",
              "\n",
              "    [theme=dark] .colab-df-convert:hover {\n",
              "      background-color: #434B5C;\n",
              "      box-shadow: 0px 1px 3px 1px rgba(0, 0, 0, 0.15);\n",
              "      filter: drop-shadow(0px 1px 2px rgba(0, 0, 0, 0.3));\n",
              "      fill: #FFFFFF;\n",
              "    }\n",
              "  </style>\n",
              "\n",
              "      <script>\n",
              "        const buttonEl =\n",
              "          document.querySelector('#df-ebb9ce88-9482-4803-aee4-298139f49ea5 button.colab-df-convert');\n",
              "        buttonEl.style.display =\n",
              "          google.colab.kernel.accessAllowed ? 'block' : 'none';\n",
              "\n",
              "        async function convertToInteractive(key) {\n",
              "          const element = document.querySelector('#df-ebb9ce88-9482-4803-aee4-298139f49ea5');\n",
              "          const dataTable =\n",
              "            await google.colab.kernel.invokeFunction('convertToInteractive',\n",
              "                                                     [key], {});\n",
              "          if (!dataTable) return;\n",
              "\n",
              "          const docLinkHtml = 'Like what you see? Visit the ' +\n",
              "            '<a target=\"_blank\" href=https://colab.research.google.com/notebooks/data_table.ipynb>data table notebook</a>'\n",
              "            + ' to learn more about interactive tables.';\n",
              "          element.innerHTML = '';\n",
              "          dataTable['output_type'] = 'display_data';\n",
              "          await google.colab.output.renderOutput(dataTable, element);\n",
              "          const docLink = document.createElement('div');\n",
              "          docLink.innerHTML = docLinkHtml;\n",
              "          element.appendChild(docLink);\n",
              "        }\n",
              "      </script>\n",
              "    </div>\n",
              "  </div>\n",
              "  "
            ]
          },
          "metadata": {},
          "execution_count": 59
        }
      ]
    },
    {
      "cell_type": "code",
      "source": [
        "# take a look at what the data frames look like\n",
        "df_words_freq_task"
      ],
      "metadata": {
        "id": "lAKR4fD2MSiI",
        "colab": {
          "base_uri": "https://localhost:8080/",
          "height": 424
        },
        "outputId": "aa8ca5bf-d005-49ca-8da0-4400bd545084"
      },
      "execution_count": 58,
      "outputs": [
        {
          "output_type": "execute_result",
          "data": {
            "text/plain": [
              "               words  freq\n",
              "0               meta   245\n",
              "1            history   105\n",
              "2               room    98\n",
              "3                add    58\n",
              "4             remove    54\n",
              "...              ...   ...\n",
              "2038     non-mozglue     1\n",
              "2039              de     1\n",
              "2040  serializations     1\n",
              "2041        plawless     1\n",
              "2042     mozilla.com     1\n",
              "\n",
              "[2043 rows x 2 columns]"
            ],
            "text/html": [
              "\n",
              "  <div id=\"df-23dd1ad7-ec9f-4b71-88af-69b65aebb439\">\n",
              "    <div class=\"colab-df-container\">\n",
              "      <div>\n",
              "<style scoped>\n",
              "    .dataframe tbody tr th:only-of-type {\n",
              "        vertical-align: middle;\n",
              "    }\n",
              "\n",
              "    .dataframe tbody tr th {\n",
              "        vertical-align: top;\n",
              "    }\n",
              "\n",
              "    .dataframe thead th {\n",
              "        text-align: right;\n",
              "    }\n",
              "</style>\n",
              "<table border=\"1\" class=\"dataframe\">\n",
              "  <thead>\n",
              "    <tr style=\"text-align: right;\">\n",
              "      <th></th>\n",
              "      <th>words</th>\n",
              "      <th>freq</th>\n",
              "    </tr>\n",
              "  </thead>\n",
              "  <tbody>\n",
              "    <tr>\n",
              "      <th>0</th>\n",
              "      <td>meta</td>\n",
              "      <td>245</td>\n",
              "    </tr>\n",
              "    <tr>\n",
              "      <th>1</th>\n",
              "      <td>history</td>\n",
              "      <td>105</td>\n",
              "    </tr>\n",
              "    <tr>\n",
              "      <th>2</th>\n",
              "      <td>room</td>\n",
              "      <td>98</td>\n",
              "    </tr>\n",
              "    <tr>\n",
              "      <th>3</th>\n",
              "      <td>add</td>\n",
              "      <td>58</td>\n",
              "    </tr>\n",
              "    <tr>\n",
              "      <th>4</th>\n",
              "      <td>remove</td>\n",
              "      <td>54</td>\n",
              "    </tr>\n",
              "    <tr>\n",
              "      <th>...</th>\n",
              "      <td>...</td>\n",
              "      <td>...</td>\n",
              "    </tr>\n",
              "    <tr>\n",
              "      <th>2038</th>\n",
              "      <td>non-mozglue</td>\n",
              "      <td>1</td>\n",
              "    </tr>\n",
              "    <tr>\n",
              "      <th>2039</th>\n",
              "      <td>de</td>\n",
              "      <td>1</td>\n",
              "    </tr>\n",
              "    <tr>\n",
              "      <th>2040</th>\n",
              "      <td>serializations</td>\n",
              "      <td>1</td>\n",
              "    </tr>\n",
              "    <tr>\n",
              "      <th>2041</th>\n",
              "      <td>plawless</td>\n",
              "      <td>1</td>\n",
              "    </tr>\n",
              "    <tr>\n",
              "      <th>2042</th>\n",
              "      <td>mozilla.com</td>\n",
              "      <td>1</td>\n",
              "    </tr>\n",
              "  </tbody>\n",
              "</table>\n",
              "<p>2043 rows × 2 columns</p>\n",
              "</div>\n",
              "      <button class=\"colab-df-convert\" onclick=\"convertToInteractive('df-23dd1ad7-ec9f-4b71-88af-69b65aebb439')\"\n",
              "              title=\"Convert this dataframe to an interactive table.\"\n",
              "              style=\"display:none;\">\n",
              "        \n",
              "  <svg xmlns=\"http://www.w3.org/2000/svg\" height=\"24px\"viewBox=\"0 0 24 24\"\n",
              "       width=\"24px\">\n",
              "    <path d=\"M0 0h24v24H0V0z\" fill=\"none\"/>\n",
              "    <path d=\"M18.56 5.44l.94 2.06.94-2.06 2.06-.94-2.06-.94-.94-2.06-.94 2.06-2.06.94zm-11 1L8.5 8.5l.94-2.06 2.06-.94-2.06-.94L8.5 2.5l-.94 2.06-2.06.94zm10 10l.94 2.06.94-2.06 2.06-.94-2.06-.94-.94-2.06-.94 2.06-2.06.94z\"/><path d=\"M17.41 7.96l-1.37-1.37c-.4-.4-.92-.59-1.43-.59-.52 0-1.04.2-1.43.59L10.3 9.45l-7.72 7.72c-.78.78-.78 2.05 0 2.83L4 21.41c.39.39.9.59 1.41.59.51 0 1.02-.2 1.41-.59l7.78-7.78 2.81-2.81c.8-.78.8-2.07 0-2.86zM5.41 20L4 18.59l7.72-7.72 1.47 1.35L5.41 20z\"/>\n",
              "  </svg>\n",
              "      </button>\n",
              "      \n",
              "  <style>\n",
              "    .colab-df-container {\n",
              "      display:flex;\n",
              "      flex-wrap:wrap;\n",
              "      gap: 12px;\n",
              "    }\n",
              "\n",
              "    .colab-df-convert {\n",
              "      background-color: #E8F0FE;\n",
              "      border: none;\n",
              "      border-radius: 50%;\n",
              "      cursor: pointer;\n",
              "      display: none;\n",
              "      fill: #1967D2;\n",
              "      height: 32px;\n",
              "      padding: 0 0 0 0;\n",
              "      width: 32px;\n",
              "    }\n",
              "\n",
              "    .colab-df-convert:hover {\n",
              "      background-color: #E2EBFA;\n",
              "      box-shadow: 0px 1px 2px rgba(60, 64, 67, 0.3), 0px 1px 3px 1px rgba(60, 64, 67, 0.15);\n",
              "      fill: #174EA6;\n",
              "    }\n",
              "\n",
              "    [theme=dark] .colab-df-convert {\n",
              "      background-color: #3B4455;\n",
              "      fill: #D2E3FC;\n",
              "    }\n",
              "\n",
              "    [theme=dark] .colab-df-convert:hover {\n",
              "      background-color: #434B5C;\n",
              "      box-shadow: 0px 1px 3px 1px rgba(0, 0, 0, 0.15);\n",
              "      filter: drop-shadow(0px 1px 2px rgba(0, 0, 0, 0.3));\n",
              "      fill: #FFFFFF;\n",
              "    }\n",
              "  </style>\n",
              "\n",
              "      <script>\n",
              "        const buttonEl =\n",
              "          document.querySelector('#df-23dd1ad7-ec9f-4b71-88af-69b65aebb439 button.colab-df-convert');\n",
              "        buttonEl.style.display =\n",
              "          google.colab.kernel.accessAllowed ? 'block' : 'none';\n",
              "\n",
              "        async function convertToInteractive(key) {\n",
              "          const element = document.querySelector('#df-23dd1ad7-ec9f-4b71-88af-69b65aebb439');\n",
              "          const dataTable =\n",
              "            await google.colab.kernel.invokeFunction('convertToInteractive',\n",
              "                                                     [key], {});\n",
              "          if (!dataTable) return;\n",
              "\n",
              "          const docLinkHtml = 'Like what you see? Visit the ' +\n",
              "            '<a target=\"_blank\" href=https://colab.research.google.com/notebooks/data_table.ipynb>data table notebook</a>'\n",
              "            + ' to learn more about interactive tables.';\n",
              "          element.innerHTML = '';\n",
              "          dataTable['output_type'] = 'display_data';\n",
              "          await google.colab.output.renderOutput(dataTable, element);\n",
              "          const docLink = document.createElement('div');\n",
              "          docLink.innerHTML = docLinkHtml;\n",
              "          element.appendChild(docLink);\n",
              "        }\n",
              "      </script>\n",
              "    </div>\n",
              "  </div>\n",
              "  "
            ]
          },
          "metadata": {},
          "execution_count": 58
        }
      ]
    },
    {
      "cell_type": "markdown",
      "metadata": {
        "id": "lBmYKC_3N0Bf"
      },
      "source": [
        "Because they have different number of records, and to have a fair comparison, we use percentage as a way of measurement"
      ]
    },
    {
      "cell_type": "code",
      "execution_count": 60,
      "metadata": {
        "id": "_HLGmM4hN0Bf"
      },
      "outputs": [],
      "source": [
        "def take_percentage(df, col='freq'):\n",
        "\n",
        "    sum = df.loc[:, 'freq'].sum()\n",
        "    df.loc[:, 'freq'] = df.loc[:, 'freq'].apply(lambda x: x/sum)\n",
        "    df.rename(columns={'freq': 'freq_ratio'}, inplace=True)\n",
        "    return df\n",
        "\n",
        "df_words_freq_enh = take_percentage(df_words_freq_enh)\n",
        "df_words_freq_task = take_percentage(df_words_freq_task)"
      ]
    },
    {
      "cell_type": "code",
      "execution_count": 61,
      "metadata": {
        "id": "5NZa0uWIN0Bf",
        "colab": {
          "base_uri": "https://localhost:8080/",
          "height": 206
        },
        "outputId": "2ed27627-6e96-4ae4-9746-fc582c5b47e8"
      },
      "outputs": [
        {
          "output_type": "execute_result",
          "data": {
            "text/plain": [
              "       words  freq_ratio\n",
              "0       meta    0.034417\n",
              "1  implement    0.013835\n",
              "2        add    0.013591\n",
              "3    support    0.011538\n",
              "4        use    0.007529"
            ],
            "text/html": [
              "\n",
              "  <div id=\"df-64bf6743-28dc-456c-8561-f8c369a841de\">\n",
              "    <div class=\"colab-df-container\">\n",
              "      <div>\n",
              "<style scoped>\n",
              "    .dataframe tbody tr th:only-of-type {\n",
              "        vertical-align: middle;\n",
              "    }\n",
              "\n",
              "    .dataframe tbody tr th {\n",
              "        vertical-align: top;\n",
              "    }\n",
              "\n",
              "    .dataframe thead th {\n",
              "        text-align: right;\n",
              "    }\n",
              "</style>\n",
              "<table border=\"1\" class=\"dataframe\">\n",
              "  <thead>\n",
              "    <tr style=\"text-align: right;\">\n",
              "      <th></th>\n",
              "      <th>words</th>\n",
              "      <th>freq_ratio</th>\n",
              "    </tr>\n",
              "  </thead>\n",
              "  <tbody>\n",
              "    <tr>\n",
              "      <th>0</th>\n",
              "      <td>meta</td>\n",
              "      <td>0.034417</td>\n",
              "    </tr>\n",
              "    <tr>\n",
              "      <th>1</th>\n",
              "      <td>implement</td>\n",
              "      <td>0.013835</td>\n",
              "    </tr>\n",
              "    <tr>\n",
              "      <th>2</th>\n",
              "      <td>add</td>\n",
              "      <td>0.013591</td>\n",
              "    </tr>\n",
              "    <tr>\n",
              "      <th>3</th>\n",
              "      <td>support</td>\n",
              "      <td>0.011538</td>\n",
              "    </tr>\n",
              "    <tr>\n",
              "      <th>4</th>\n",
              "      <td>use</td>\n",
              "      <td>0.007529</td>\n",
              "    </tr>\n",
              "  </tbody>\n",
              "</table>\n",
              "</div>\n",
              "      <button class=\"colab-df-convert\" onclick=\"convertToInteractive('df-64bf6743-28dc-456c-8561-f8c369a841de')\"\n",
              "              title=\"Convert this dataframe to an interactive table.\"\n",
              "              style=\"display:none;\">\n",
              "        \n",
              "  <svg xmlns=\"http://www.w3.org/2000/svg\" height=\"24px\"viewBox=\"0 0 24 24\"\n",
              "       width=\"24px\">\n",
              "    <path d=\"M0 0h24v24H0V0z\" fill=\"none\"/>\n",
              "    <path d=\"M18.56 5.44l.94 2.06.94-2.06 2.06-.94-2.06-.94-.94-2.06-.94 2.06-2.06.94zm-11 1L8.5 8.5l.94-2.06 2.06-.94-2.06-.94L8.5 2.5l-.94 2.06-2.06.94zm10 10l.94 2.06.94-2.06 2.06-.94-2.06-.94-.94-2.06-.94 2.06-2.06.94z\"/><path d=\"M17.41 7.96l-1.37-1.37c-.4-.4-.92-.59-1.43-.59-.52 0-1.04.2-1.43.59L10.3 9.45l-7.72 7.72c-.78.78-.78 2.05 0 2.83L4 21.41c.39.39.9.59 1.41.59.51 0 1.02-.2 1.41-.59l7.78-7.78 2.81-2.81c.8-.78.8-2.07 0-2.86zM5.41 20L4 18.59l7.72-7.72 1.47 1.35L5.41 20z\"/>\n",
              "  </svg>\n",
              "      </button>\n",
              "      \n",
              "  <style>\n",
              "    .colab-df-container {\n",
              "      display:flex;\n",
              "      flex-wrap:wrap;\n",
              "      gap: 12px;\n",
              "    }\n",
              "\n",
              "    .colab-df-convert {\n",
              "      background-color: #E8F0FE;\n",
              "      border: none;\n",
              "      border-radius: 50%;\n",
              "      cursor: pointer;\n",
              "      display: none;\n",
              "      fill: #1967D2;\n",
              "      height: 32px;\n",
              "      padding: 0 0 0 0;\n",
              "      width: 32px;\n",
              "    }\n",
              "\n",
              "    .colab-df-convert:hover {\n",
              "      background-color: #E2EBFA;\n",
              "      box-shadow: 0px 1px 2px rgba(60, 64, 67, 0.3), 0px 1px 3px 1px rgba(60, 64, 67, 0.15);\n",
              "      fill: #174EA6;\n",
              "    }\n",
              "\n",
              "    [theme=dark] .colab-df-convert {\n",
              "      background-color: #3B4455;\n",
              "      fill: #D2E3FC;\n",
              "    }\n",
              "\n",
              "    [theme=dark] .colab-df-convert:hover {\n",
              "      background-color: #434B5C;\n",
              "      box-shadow: 0px 1px 3px 1px rgba(0, 0, 0, 0.15);\n",
              "      filter: drop-shadow(0px 1px 2px rgba(0, 0, 0, 0.3));\n",
              "      fill: #FFFFFF;\n",
              "    }\n",
              "  </style>\n",
              "\n",
              "      <script>\n",
              "        const buttonEl =\n",
              "          document.querySelector('#df-64bf6743-28dc-456c-8561-f8c369a841de button.colab-df-convert');\n",
              "        buttonEl.style.display =\n",
              "          google.colab.kernel.accessAllowed ? 'block' : 'none';\n",
              "\n",
              "        async function convertToInteractive(key) {\n",
              "          const element = document.querySelector('#df-64bf6743-28dc-456c-8561-f8c369a841de');\n",
              "          const dataTable =\n",
              "            await google.colab.kernel.invokeFunction('convertToInteractive',\n",
              "                                                     [key], {});\n",
              "          if (!dataTable) return;\n",
              "\n",
              "          const docLinkHtml = 'Like what you see? Visit the ' +\n",
              "            '<a target=\"_blank\" href=https://colab.research.google.com/notebooks/data_table.ipynb>data table notebook</a>'\n",
              "            + ' to learn more about interactive tables.';\n",
              "          element.innerHTML = '';\n",
              "          dataTable['output_type'] = 'display_data';\n",
              "          await google.colab.output.renderOutput(dataTable, element);\n",
              "          const docLink = document.createElement('div');\n",
              "          docLink.innerHTML = docLinkHtml;\n",
              "          element.appendChild(docLink);\n",
              "        }\n",
              "      </script>\n",
              "    </div>\n",
              "  </div>\n",
              "  "
            ]
          },
          "metadata": {},
          "execution_count": 61
        }
      ],
      "source": [
        "df_words_freq_enh.head()"
      ]
    },
    {
      "cell_type": "markdown",
      "metadata": {
        "id": "XG-nQJvKN0Bg"
      },
      "source": [
        "We merge the datasets for overall analysis and visualization. For this, we rename columns to distinguish each set when merging, but we need to keep the words field the same because we want them to be merged on it."
      ]
    },
    {
      "cell_type": "code",
      "execution_count": 62,
      "metadata": {
        "id": "gHuMBifzN0Bg"
      },
      "outputs": [],
      "source": [
        "\n",
        "task_word_freq_df = df_words_freq_enh.add_suffix('_enh')\n",
        "task_word_freq_df.rename(columns={'words_enh': 'words'}, inplace=True)\n",
        "\n",
        "enh_word_freq_df = df_words_freq_task.add_suffix('_task')\n",
        "enh_word_freq_df.rename(columns={'words_task': 'words'}, inplace=True)\n",
        "\n",
        "merged_df = pd.merge(enh_word_freq_df, task_word_freq_df)"
      ]
    },
    {
      "cell_type": "code",
      "execution_count": null,
      "metadata": {
        "id": "oImA_pJnN0Bg"
      },
      "outputs": [],
      "source": [
        ""
      ]
    },
    {
      "cell_type": "code",
      "execution_count": 63,
      "metadata": {
        "id": "l3M7IDj5N0Bg",
        "colab": {
          "base_uri": "https://localhost:8080/",
          "height": 424
        },
        "outputId": "caf39a05-0bd7-4d79-f23b-5bb8b88f114d"
      },
      "outputs": [
        {
          "output_type": "execute_result",
          "data": {
            "text/plain": [
              "         words  freq_ratio_task  freq_ratio_enh\n",
              "0         meta         0.052261        0.034417\n",
              "1      history         0.022398        0.000782\n",
              "2         room         0.020904        0.000098\n",
              "3          add         0.012372        0.013591\n",
              "4       remove         0.011519        0.006062\n",
              "...        ...              ...             ...\n",
              "1153  embedded         0.000213        0.000244\n",
              "1154     reset         0.000213        0.000293\n",
              "1155  proposed         0.000213        0.000049\n",
              "1156  property         0.000213        0.000733\n",
              "1157        de         0.000213        0.000049\n",
              "\n",
              "[1158 rows x 3 columns]"
            ],
            "text/html": [
              "\n",
              "  <div id=\"df-31a9c6b6-7c4b-40ce-81c2-f2d7a22770c9\">\n",
              "    <div class=\"colab-df-container\">\n",
              "      <div>\n",
              "<style scoped>\n",
              "    .dataframe tbody tr th:only-of-type {\n",
              "        vertical-align: middle;\n",
              "    }\n",
              "\n",
              "    .dataframe tbody tr th {\n",
              "        vertical-align: top;\n",
              "    }\n",
              "\n",
              "    .dataframe thead th {\n",
              "        text-align: right;\n",
              "    }\n",
              "</style>\n",
              "<table border=\"1\" class=\"dataframe\">\n",
              "  <thead>\n",
              "    <tr style=\"text-align: right;\">\n",
              "      <th></th>\n",
              "      <th>words</th>\n",
              "      <th>freq_ratio_task</th>\n",
              "      <th>freq_ratio_enh</th>\n",
              "    </tr>\n",
              "  </thead>\n",
              "  <tbody>\n",
              "    <tr>\n",
              "      <th>0</th>\n",
              "      <td>meta</td>\n",
              "      <td>0.052261</td>\n",
              "      <td>0.034417</td>\n",
              "    </tr>\n",
              "    <tr>\n",
              "      <th>1</th>\n",
              "      <td>history</td>\n",
              "      <td>0.022398</td>\n",
              "      <td>0.000782</td>\n",
              "    </tr>\n",
              "    <tr>\n",
              "      <th>2</th>\n",
              "      <td>room</td>\n",
              "      <td>0.020904</td>\n",
              "      <td>0.000098</td>\n",
              "    </tr>\n",
              "    <tr>\n",
              "      <th>3</th>\n",
              "      <td>add</td>\n",
              "      <td>0.012372</td>\n",
              "      <td>0.013591</td>\n",
              "    </tr>\n",
              "    <tr>\n",
              "      <th>4</th>\n",
              "      <td>remove</td>\n",
              "      <td>0.011519</td>\n",
              "      <td>0.006062</td>\n",
              "    </tr>\n",
              "    <tr>\n",
              "      <th>...</th>\n",
              "      <td>...</td>\n",
              "      <td>...</td>\n",
              "      <td>...</td>\n",
              "    </tr>\n",
              "    <tr>\n",
              "      <th>1153</th>\n",
              "      <td>embedded</td>\n",
              "      <td>0.000213</td>\n",
              "      <td>0.000244</td>\n",
              "    </tr>\n",
              "    <tr>\n",
              "      <th>1154</th>\n",
              "      <td>reset</td>\n",
              "      <td>0.000213</td>\n",
              "      <td>0.000293</td>\n",
              "    </tr>\n",
              "    <tr>\n",
              "      <th>1155</th>\n",
              "      <td>proposed</td>\n",
              "      <td>0.000213</td>\n",
              "      <td>0.000049</td>\n",
              "    </tr>\n",
              "    <tr>\n",
              "      <th>1156</th>\n",
              "      <td>property</td>\n",
              "      <td>0.000213</td>\n",
              "      <td>0.000733</td>\n",
              "    </tr>\n",
              "    <tr>\n",
              "      <th>1157</th>\n",
              "      <td>de</td>\n",
              "      <td>0.000213</td>\n",
              "      <td>0.000049</td>\n",
              "    </tr>\n",
              "  </tbody>\n",
              "</table>\n",
              "<p>1158 rows × 3 columns</p>\n",
              "</div>\n",
              "      <button class=\"colab-df-convert\" onclick=\"convertToInteractive('df-31a9c6b6-7c4b-40ce-81c2-f2d7a22770c9')\"\n",
              "              title=\"Convert this dataframe to an interactive table.\"\n",
              "              style=\"display:none;\">\n",
              "        \n",
              "  <svg xmlns=\"http://www.w3.org/2000/svg\" height=\"24px\"viewBox=\"0 0 24 24\"\n",
              "       width=\"24px\">\n",
              "    <path d=\"M0 0h24v24H0V0z\" fill=\"none\"/>\n",
              "    <path d=\"M18.56 5.44l.94 2.06.94-2.06 2.06-.94-2.06-.94-.94-2.06-.94 2.06-2.06.94zm-11 1L8.5 8.5l.94-2.06 2.06-.94-2.06-.94L8.5 2.5l-.94 2.06-2.06.94zm10 10l.94 2.06.94-2.06 2.06-.94-2.06-.94-.94-2.06-.94 2.06-2.06.94z\"/><path d=\"M17.41 7.96l-1.37-1.37c-.4-.4-.92-.59-1.43-.59-.52 0-1.04.2-1.43.59L10.3 9.45l-7.72 7.72c-.78.78-.78 2.05 0 2.83L4 21.41c.39.39.9.59 1.41.59.51 0 1.02-.2 1.41-.59l7.78-7.78 2.81-2.81c.8-.78.8-2.07 0-2.86zM5.41 20L4 18.59l7.72-7.72 1.47 1.35L5.41 20z\"/>\n",
              "  </svg>\n",
              "      </button>\n",
              "      \n",
              "  <style>\n",
              "    .colab-df-container {\n",
              "      display:flex;\n",
              "      flex-wrap:wrap;\n",
              "      gap: 12px;\n",
              "    }\n",
              "\n",
              "    .colab-df-convert {\n",
              "      background-color: #E8F0FE;\n",
              "      border: none;\n",
              "      border-radius: 50%;\n",
              "      cursor: pointer;\n",
              "      display: none;\n",
              "      fill: #1967D2;\n",
              "      height: 32px;\n",
              "      padding: 0 0 0 0;\n",
              "      width: 32px;\n",
              "    }\n",
              "\n",
              "    .colab-df-convert:hover {\n",
              "      background-color: #E2EBFA;\n",
              "      box-shadow: 0px 1px 2px rgba(60, 64, 67, 0.3), 0px 1px 3px 1px rgba(60, 64, 67, 0.15);\n",
              "      fill: #174EA6;\n",
              "    }\n",
              "\n",
              "    [theme=dark] .colab-df-convert {\n",
              "      background-color: #3B4455;\n",
              "      fill: #D2E3FC;\n",
              "    }\n",
              "\n",
              "    [theme=dark] .colab-df-convert:hover {\n",
              "      background-color: #434B5C;\n",
              "      box-shadow: 0px 1px 3px 1px rgba(0, 0, 0, 0.15);\n",
              "      filter: drop-shadow(0px 1px 2px rgba(0, 0, 0, 0.3));\n",
              "      fill: #FFFFFF;\n",
              "    }\n",
              "  </style>\n",
              "\n",
              "      <script>\n",
              "        const buttonEl =\n",
              "          document.querySelector('#df-31a9c6b6-7c4b-40ce-81c2-f2d7a22770c9 button.colab-df-convert');\n",
              "        buttonEl.style.display =\n",
              "          google.colab.kernel.accessAllowed ? 'block' : 'none';\n",
              "\n",
              "        async function convertToInteractive(key) {\n",
              "          const element = document.querySelector('#df-31a9c6b6-7c4b-40ce-81c2-f2d7a22770c9');\n",
              "          const dataTable =\n",
              "            await google.colab.kernel.invokeFunction('convertToInteractive',\n",
              "                                                     [key], {});\n",
              "          if (!dataTable) return;\n",
              "\n",
              "          const docLinkHtml = 'Like what you see? Visit the ' +\n",
              "            '<a target=\"_blank\" href=https://colab.research.google.com/notebooks/data_table.ipynb>data table notebook</a>'\n",
              "            + ' to learn more about interactive tables.';\n",
              "          element.innerHTML = '';\n",
              "          dataTable['output_type'] = 'display_data';\n",
              "          await google.colab.output.renderOutput(dataTable, element);\n",
              "          const docLink = document.createElement('div');\n",
              "          docLink.innerHTML = docLinkHtml;\n",
              "          element.appendChild(docLink);\n",
              "        }\n",
              "      </script>\n",
              "    </div>\n",
              "  </div>\n",
              "  "
            ]
          },
          "metadata": {},
          "execution_count": 63
        }
      ],
      "source": [
        "merged_df"
      ]
    },
    {
      "cell_type": "code",
      "execution_count": 64,
      "metadata": {
        "id": "B97Bdas9N0Bg",
        "colab": {
          "base_uri": "https://localhost:8080/",
          "height": 542
        },
        "outputId": "f7c6ddcd-cc46-4e00-b07d-7457aed2b44b"
      },
      "outputs": [
        {
          "output_type": "display_data",
          "data": {
            "text/html": [
              "<html>\n",
              "<head><meta charset=\"utf-8\" /></head>\n",
              "<body>\n",
              "    <div>            <script src=\"https://cdnjs.cloudflare.com/ajax/libs/mathjax/2.7.5/MathJax.js?config=TeX-AMS-MML_SVG\"></script><script type=\"text/javascript\">if (window.MathJax) {MathJax.Hub.Config({SVG: {font: \"STIX-Web\"}});}</script>                <script type=\"text/javascript\">window.PlotlyConfig = {MathJaxConfig: 'local'};</script>\n",
              "        <script src=\"https://cdn.plot.ly/plotly-2.8.3.min.js\"></script>                <div id=\"5ee64637-3eb2-4305-ad8b-0c35d8cbf7b8\" class=\"plotly-graph-div\" style=\"height:525px; width:100%;\"></div>            <script type=\"text/javascript\">                                    window.PLOTLYENV=window.PLOTLYENV || {};                                    if (document.getElementById(\"5ee64637-3eb2-4305-ad8b-0c35d8cbf7b8\")) {                    Plotly.newPlot(                        \"5ee64637-3eb2-4305-ad8b-0c35d8cbf7b8\",                        [{\"marker\":{\"color\":\"#BA0F30\"},\"name\":\"Enhancement\",\"text\":[0.03441701295526766,0.0007822048398924468,9.777560498655585e-05,0.013590809093131264,0.006062087509166463,0.0037643607919824002,0.011537521388413591,0.004351014421901735,0.013835248105597654,0.005230994866780738,0.0016621852847714495,0.0075287215839648005,0.0030310437545832316,0.005817648496700073,0.003519921779516011,0.0012710828648252262,0.0036176973845025665,0.004155463211928624,0.0036665851869958446,0.0016132974822781717,0.0023955023221706186,0.005133219261794182,0.0034221461745294547,0.003519921779516011,0.0010755316548521144,0.002004399902224395,0.0011733072598386703,0.002737716939623564,0.0016132974822781717,0.0031288193595697873],\"x\":[\"meta\",\"history\",\"room\",\"add\",\"remove\",\"tests\",\"support\",\"firefox\",\"implement\",\"new\",\"convert\",\"use\",\"code\",\"make\",\"bug\",\"debugger\",\"test\",\"process\",\"enable\",\"move\",\"update\",\"api\",\"windows\",\"tracking\",\"migrate\",\"build\",\"fission\",\"page\",\"create\",\"search\"],\"y\":[0.03441701295526766,0.0007822048398924468,9.777560498655585e-05,0.013590809093131264,0.006062087509166463,0.0037643607919824002,0.011537521388413591,0.004351014421901735,0.013835248105597654,0.005230994866780738,0.0016621852847714495,0.0075287215839648005,0.0030310437545832316,0.005817648496700073,0.003519921779516011,0.0012710828648252262,0.0036176973845025665,0.004155463211928624,0.0036665851869958446,0.0016132974822781717,0.0023955023221706186,0.005133219261794182,0.0034221461745294547,0.003519921779516011,0.0010755316548521144,0.002004399902224395,0.0011733072598386703,0.002737716939623564,0.0016132974822781717,0.0031288193595697873],\"type\":\"bar\",\"textfont\":{\"size\":8},\"textposition\":\"outside\",\"texttemplate\":\"%{text:.2f}\"},{\"marker\":{\"color\":\"#98D7C2\"},\"name\":\"Task\",\"text\":[0.05226109215017065,0.022397610921501707,0.020904436860068258,0.012372013651877133,0.01151877133105802,0.008532423208191127,0.008319112627986349,0.006825938566552901,0.0063993174061433445,0.0063993174061433445,0.006186006825938567,0.00575938566552901,0.00575938566552901,0.005119453924914676,0.004906143344709898,0.004266211604095563,0.004266211604095563,0.0040529010238907846,0.0040529010238907846,0.0038395904436860067,0.0038395904436860067,0.0038395904436860067,0.0031996587030716723,0.0029863481228668944,0.0029863481228668944,0.0029863481228668944,0.0029863481228668944,0.002773037542662116,0.002773037542662116,0.002773037542662116],\"x\":[\"meta\",\"history\",\"room\",\"add\",\"remove\",\"tests\",\"support\",\"firefox\",\"implement\",\"new\",\"convert\",\"use\",\"code\",\"make\",\"bug\",\"debugger\",\"test\",\"process\",\"enable\",\"move\",\"update\",\"api\",\"windows\",\"tracking\",\"migrate\",\"build\",\"fission\",\"page\",\"create\",\"search\"],\"y\":[0.05226109215017065,0.022397610921501707,0.020904436860068258,0.012372013651877133,0.01151877133105802,0.008532423208191127,0.008319112627986349,0.006825938566552901,0.0063993174061433445,0.0063993174061433445,0.006186006825938567,0.00575938566552901,0.00575938566552901,0.005119453924914676,0.004906143344709898,0.004266211604095563,0.004266211604095563,0.0040529010238907846,0.0040529010238907846,0.0038395904436860067,0.0038395904436860067,0.0038395904436860067,0.0031996587030716723,0.0029863481228668944,0.0029863481228668944,0.0029863481228668944,0.0029863481228668944,0.002773037542662116,0.002773037542662116,0.002773037542662116],\"type\":\"bar\",\"textfont\":{\"size\":8},\"textposition\":\"outside\",\"texttemplate\":\"%{text:.2f}\"}],                        {\"template\":{\"data\":{\"bar\":[{\"error_x\":{\"color\":\"#2a3f5f\"},\"error_y\":{\"color\":\"#2a3f5f\"},\"marker\":{\"line\":{\"color\":\"#E5ECF6\",\"width\":0.5},\"pattern\":{\"fillmode\":\"overlay\",\"size\":10,\"solidity\":0.2}},\"type\":\"bar\"}],\"barpolar\":[{\"marker\":{\"line\":{\"color\":\"#E5ECF6\",\"width\":0.5},\"pattern\":{\"fillmode\":\"overlay\",\"size\":10,\"solidity\":0.2}},\"type\":\"barpolar\"}],\"carpet\":[{\"aaxis\":{\"endlinecolor\":\"#2a3f5f\",\"gridcolor\":\"white\",\"linecolor\":\"white\",\"minorgridcolor\":\"white\",\"startlinecolor\":\"#2a3f5f\"},\"baxis\":{\"endlinecolor\":\"#2a3f5f\",\"gridcolor\":\"white\",\"linecolor\":\"white\",\"minorgridcolor\":\"white\",\"startlinecolor\":\"#2a3f5f\"},\"type\":\"carpet\"}],\"choropleth\":[{\"colorbar\":{\"outlinewidth\":0,\"ticks\":\"\"},\"type\":\"choropleth\"}],\"contour\":[{\"colorbar\":{\"outlinewidth\":0,\"ticks\":\"\"},\"colorscale\":[[0.0,\"#0d0887\"],[0.1111111111111111,\"#46039f\"],[0.2222222222222222,\"#7201a8\"],[0.3333333333333333,\"#9c179e\"],[0.4444444444444444,\"#bd3786\"],[0.5555555555555556,\"#d8576b\"],[0.6666666666666666,\"#ed7953\"],[0.7777777777777778,\"#fb9f3a\"],[0.8888888888888888,\"#fdca26\"],[1.0,\"#f0f921\"]],\"type\":\"contour\"}],\"contourcarpet\":[{\"colorbar\":{\"outlinewidth\":0,\"ticks\":\"\"},\"type\":\"contourcarpet\"}],\"heatmap\":[{\"colorbar\":{\"outlinewidth\":0,\"ticks\":\"\"},\"colorscale\":[[0.0,\"#0d0887\"],[0.1111111111111111,\"#46039f\"],[0.2222222222222222,\"#7201a8\"],[0.3333333333333333,\"#9c179e\"],[0.4444444444444444,\"#bd3786\"],[0.5555555555555556,\"#d8576b\"],[0.6666666666666666,\"#ed7953\"],[0.7777777777777778,\"#fb9f3a\"],[0.8888888888888888,\"#fdca26\"],[1.0,\"#f0f921\"]],\"type\":\"heatmap\"}],\"heatmapgl\":[{\"colorbar\":{\"outlinewidth\":0,\"ticks\":\"\"},\"colorscale\":[[0.0,\"#0d0887\"],[0.1111111111111111,\"#46039f\"],[0.2222222222222222,\"#7201a8\"],[0.3333333333333333,\"#9c179e\"],[0.4444444444444444,\"#bd3786\"],[0.5555555555555556,\"#d8576b\"],[0.6666666666666666,\"#ed7953\"],[0.7777777777777778,\"#fb9f3a\"],[0.8888888888888888,\"#fdca26\"],[1.0,\"#f0f921\"]],\"type\":\"heatmapgl\"}],\"histogram\":[{\"marker\":{\"pattern\":{\"fillmode\":\"overlay\",\"size\":10,\"solidity\":0.2}},\"type\":\"histogram\"}],\"histogram2d\":[{\"colorbar\":{\"outlinewidth\":0,\"ticks\":\"\"},\"colorscale\":[[0.0,\"#0d0887\"],[0.1111111111111111,\"#46039f\"],[0.2222222222222222,\"#7201a8\"],[0.3333333333333333,\"#9c179e\"],[0.4444444444444444,\"#bd3786\"],[0.5555555555555556,\"#d8576b\"],[0.6666666666666666,\"#ed7953\"],[0.7777777777777778,\"#fb9f3a\"],[0.8888888888888888,\"#fdca26\"],[1.0,\"#f0f921\"]],\"type\":\"histogram2d\"}],\"histogram2dcontour\":[{\"colorbar\":{\"outlinewidth\":0,\"ticks\":\"\"},\"colorscale\":[[0.0,\"#0d0887\"],[0.1111111111111111,\"#46039f\"],[0.2222222222222222,\"#7201a8\"],[0.3333333333333333,\"#9c179e\"],[0.4444444444444444,\"#bd3786\"],[0.5555555555555556,\"#d8576b\"],[0.6666666666666666,\"#ed7953\"],[0.7777777777777778,\"#fb9f3a\"],[0.8888888888888888,\"#fdca26\"],[1.0,\"#f0f921\"]],\"type\":\"histogram2dcontour\"}],\"mesh3d\":[{\"colorbar\":{\"outlinewidth\":0,\"ticks\":\"\"},\"type\":\"mesh3d\"}],\"parcoords\":[{\"line\":{\"colorbar\":{\"outlinewidth\":0,\"ticks\":\"\"}},\"type\":\"parcoords\"}],\"pie\":[{\"automargin\":true,\"type\":\"pie\"}],\"scatter\":[{\"marker\":{\"colorbar\":{\"outlinewidth\":0,\"ticks\":\"\"}},\"type\":\"scatter\"}],\"scatter3d\":[{\"line\":{\"colorbar\":{\"outlinewidth\":0,\"ticks\":\"\"}},\"marker\":{\"colorbar\":{\"outlinewidth\":0,\"ticks\":\"\"}},\"type\":\"scatter3d\"}],\"scattercarpet\":[{\"marker\":{\"colorbar\":{\"outlinewidth\":0,\"ticks\":\"\"}},\"type\":\"scattercarpet\"}],\"scattergeo\":[{\"marker\":{\"colorbar\":{\"outlinewidth\":0,\"ticks\":\"\"}},\"type\":\"scattergeo\"}],\"scattergl\":[{\"marker\":{\"colorbar\":{\"outlinewidth\":0,\"ticks\":\"\"}},\"type\":\"scattergl\"}],\"scattermapbox\":[{\"marker\":{\"colorbar\":{\"outlinewidth\":0,\"ticks\":\"\"}},\"type\":\"scattermapbox\"}],\"scatterpolar\":[{\"marker\":{\"colorbar\":{\"outlinewidth\":0,\"ticks\":\"\"}},\"type\":\"scatterpolar\"}],\"scatterpolargl\":[{\"marker\":{\"colorbar\":{\"outlinewidth\":0,\"ticks\":\"\"}},\"type\":\"scatterpolargl\"}],\"scatterternary\":[{\"marker\":{\"colorbar\":{\"outlinewidth\":0,\"ticks\":\"\"}},\"type\":\"scatterternary\"}],\"surface\":[{\"colorbar\":{\"outlinewidth\":0,\"ticks\":\"\"},\"colorscale\":[[0.0,\"#0d0887\"],[0.1111111111111111,\"#46039f\"],[0.2222222222222222,\"#7201a8\"],[0.3333333333333333,\"#9c179e\"],[0.4444444444444444,\"#bd3786\"],[0.5555555555555556,\"#d8576b\"],[0.6666666666666666,\"#ed7953\"],[0.7777777777777778,\"#fb9f3a\"],[0.8888888888888888,\"#fdca26\"],[1.0,\"#f0f921\"]],\"type\":\"surface\"}],\"table\":[{\"cells\":{\"fill\":{\"color\":\"#EBF0F8\"},\"line\":{\"color\":\"white\"}},\"header\":{\"fill\":{\"color\":\"#C8D4E3\"},\"line\":{\"color\":\"white\"}},\"type\":\"table\"}]},\"layout\":{\"annotationdefaults\":{\"arrowcolor\":\"#2a3f5f\",\"arrowhead\":0,\"arrowwidth\":1},\"autotypenumbers\":\"strict\",\"coloraxis\":{\"colorbar\":{\"outlinewidth\":0,\"ticks\":\"\"}},\"colorscale\":{\"diverging\":[[0,\"#8e0152\"],[0.1,\"#c51b7d\"],[0.2,\"#de77ae\"],[0.3,\"#f1b6da\"],[0.4,\"#fde0ef\"],[0.5,\"#f7f7f7\"],[0.6,\"#e6f5d0\"],[0.7,\"#b8e186\"],[0.8,\"#7fbc41\"],[0.9,\"#4d9221\"],[1,\"#276419\"]],\"sequential\":[[0.0,\"#0d0887\"],[0.1111111111111111,\"#46039f\"],[0.2222222222222222,\"#7201a8\"],[0.3333333333333333,\"#9c179e\"],[0.4444444444444444,\"#bd3786\"],[0.5555555555555556,\"#d8576b\"],[0.6666666666666666,\"#ed7953\"],[0.7777777777777778,\"#fb9f3a\"],[0.8888888888888888,\"#fdca26\"],[1.0,\"#f0f921\"]],\"sequentialminus\":[[0.0,\"#0d0887\"],[0.1111111111111111,\"#46039f\"],[0.2222222222222222,\"#7201a8\"],[0.3333333333333333,\"#9c179e\"],[0.4444444444444444,\"#bd3786\"],[0.5555555555555556,\"#d8576b\"],[0.6666666666666666,\"#ed7953\"],[0.7777777777777778,\"#fb9f3a\"],[0.8888888888888888,\"#fdca26\"],[1.0,\"#f0f921\"]]},\"colorway\":[\"#636efa\",\"#EF553B\",\"#00cc96\",\"#ab63fa\",\"#FFA15A\",\"#19d3f3\",\"#FF6692\",\"#B6E880\",\"#FF97FF\",\"#FECB52\"],\"font\":{\"color\":\"#2a3f5f\"},\"geo\":{\"bgcolor\":\"white\",\"lakecolor\":\"white\",\"landcolor\":\"#E5ECF6\",\"showlakes\":true,\"showland\":true,\"subunitcolor\":\"white\"},\"hoverlabel\":{\"align\":\"left\"},\"hovermode\":\"closest\",\"mapbox\":{\"style\":\"light\"},\"paper_bgcolor\":\"white\",\"plot_bgcolor\":\"#E5ECF6\",\"polar\":{\"angularaxis\":{\"gridcolor\":\"white\",\"linecolor\":\"white\",\"ticks\":\"\"},\"bgcolor\":\"#E5ECF6\",\"radialaxis\":{\"gridcolor\":\"white\",\"linecolor\":\"white\",\"ticks\":\"\"}},\"scene\":{\"xaxis\":{\"backgroundcolor\":\"#E5ECF6\",\"gridcolor\":\"white\",\"gridwidth\":2,\"linecolor\":\"white\",\"showbackground\":true,\"ticks\":\"\",\"zerolinecolor\":\"white\"},\"yaxis\":{\"backgroundcolor\":\"#E5ECF6\",\"gridcolor\":\"white\",\"gridwidth\":2,\"linecolor\":\"white\",\"showbackground\":true,\"ticks\":\"\",\"zerolinecolor\":\"white\"},\"zaxis\":{\"backgroundcolor\":\"#E5ECF6\",\"gridcolor\":\"white\",\"gridwidth\":2,\"linecolor\":\"white\",\"showbackground\":true,\"ticks\":\"\",\"zerolinecolor\":\"white\"}},\"shapedefaults\":{\"line\":{\"color\":\"#2a3f5f\"}},\"ternary\":{\"aaxis\":{\"gridcolor\":\"white\",\"linecolor\":\"white\",\"ticks\":\"\"},\"baxis\":{\"gridcolor\":\"white\",\"linecolor\":\"white\",\"ticks\":\"\"},\"bgcolor\":\"#E5ECF6\",\"caxis\":{\"gridcolor\":\"white\",\"linecolor\":\"white\",\"ticks\":\"\"}},\"title\":{\"x\":0.05},\"xaxis\":{\"automargin\":true,\"gridcolor\":\"white\",\"linecolor\":\"white\",\"ticks\":\"\",\"title\":{\"standoff\":15},\"zerolinecolor\":\"white\",\"zerolinewidth\":2},\"yaxis\":{\"automargin\":true,\"gridcolor\":\"white\",\"linecolor\":\"white\",\"ticks\":\"\",\"title\":{\"standoff\":15},\"zerolinecolor\":\"white\",\"zerolinewidth\":2}}},\"xaxis\":{\"tickangle\":-45},\"title\":{\"text\":\"Comparing the the most frequent words in enhancement and task types\"},\"barmode\":\"group\"},                        {\"responsive\": true}                    ).then(function(){\n",
              "                            \n",
              "var gd = document.getElementById('5ee64637-3eb2-4305-ad8b-0c35d8cbf7b8');\n",
              "var x = new MutationObserver(function (mutations, observer) {{\n",
              "        var display = window.getComputedStyle(gd).display;\n",
              "        if (!display || display === 'none') {{\n",
              "            console.log([gd, 'removed!']);\n",
              "            Plotly.purge(gd);\n",
              "            observer.disconnect();\n",
              "        }}\n",
              "}});\n",
              "\n",
              "// Listen for the removal of the full notebook cells\n",
              "var notebookContainer = gd.closest('#notebook-container');\n",
              "if (notebookContainer) {{\n",
              "    x.observe(notebookContainer, {childList: true});\n",
              "}}\n",
              "\n",
              "// Listen for the clearing of the current output cell\n",
              "var outputEl = gd.closest('.output');\n",
              "if (outputEl) {{\n",
              "    x.observe(outputEl, {childList: true});\n",
              "}}\n",
              "\n",
              "                        })                };                            </script>        </div>\n",
              "</body>\n",
              "</html>"
            ]
          },
          "metadata": {}
        }
      ],
      "source": [
        "# a function to see the difference in words in tasks and enhancement\n",
        "\n",
        "n = 30\n",
        "merged_df_sample = merged_df[:n]\n",
        "fig = go.Figure(data=[\n",
        "    go.Bar(name='Enhancement', x=merged_df_sample.words, y=merged_df_sample.freq_ratio_enh, text=merged_df_sample.freq_ratio_enh, marker_color='#BA0F30'),\n",
        "    go.Bar(name='Task', x=merged_df_sample.words, y=merged_df_sample.freq_ratio_task, text=merged_df_sample.freq_ratio_task, marker_color='#98D7C2')\n",
        "])\n",
        "\n",
        "\n",
        "fig.update_xaxes(tickangle= -45)  \n",
        "fig.update_traces(\n",
        "    texttemplate='%{text:.2f}', textposition='outside',\n",
        "     textfont_size=8)\n",
        "\n",
        "# Change the bar mode\n",
        "fig.update_layout(barmode='group', title_text='Comparing the the most frequent words in enhancement and task types')\n",
        "fig.show(renderer=\"colab\")"
      ]
    },
    {
      "cell_type": "markdown",
      "metadata": {
        "id": "7CI5CxV-N0Bi"
      },
      "source": [
        "### Classification\n",
        "\n",
        "Step .1 Preparing the input\n",
        "\n",
        "\"Term Frequency — Inverse Document Frequency\" is referred to as \"TF-IDF\". This method first, counts the number of words in a collection of documents. Then, count the number of documents that contain this word. Each word is typically given a score to indicate how important it is to the document and corpus. We frequently use TFIDF vectors to classify, rank, or cluster documents or evaluate words and topics.\n",
        "\n",
        "\n",
        "\n",
        "* t — term (word)\n",
        "* d — document (set of words)\n",
        "* N — count of corpus\n",
        "* corpus — the total document set\n",
        "\n",
        "`TF-IDF = Term Frequency (TF) * Inverse Document Frequency (IDF)`\n",
        "\n",
        "`tf(t,d) = count of t in d / number of words in d`\n",
        "\n",
        "`df(t) = occurrence of t in N documents`\n",
        "\n",
        "For instance, a word like \"is,\" which is quite common, may appear several times in a document. So, to prevent words such as stop words have high scores and determinant factors, we perform normalization on the frequency value. We divide the frequency with the total number of words in the document. For more explanation you can see [this blog](https://towardsdatascience.com/tf-idf-a-visual-explainer-and-python-implementation-on-presidential-inauguration-speeches-2a7671168550).\n",
        "\n",
        "For starting, we first, join all the cleaned tokens in each record and feed it as a span of text to TFIDF vectorizer."
      ]
    },
    {
      "cell_type": "code",
      "source": [
        "import sklearn\n",
        "from sklearn.feature_extraction.text import TfidfVectorizer\n",
        "from sklearn.model_selection import cross_val_score"
      ],
      "metadata": {
        "id": "m0kAV3wLRUTg"
      },
      "execution_count": null,
      "outputs": []
    },
    {
      "cell_type": "code",
      "execution_count": null,
      "metadata": {
        "id": "LD469VHEN0Bi"
      },
      "outputs": [],
      "source": [
        "# we join the cleaned tokens to feed the tfidf algorithm\n",
        "\n",
        "def join_tokens(df, tokens_arrays_col):\n",
        "    return [\" \".join(df.loc[i, tokens_arrays_col]) for i in range(len(df))]\n",
        "\n",
        "cleaned_tokens_series = join_tokens(df, 'cleaned_word_list')\n",
        "df.loc[:, 'cleaned_text'] = cleaned_tokens_series"
      ]
    },
    {
      "cell_type": "code",
      "execution_count": null,
      "metadata": {
        "id": "H3vRy2W6N0Bj"
      },
      "outputs": [],
      "source": [
        "tf_idf = ...\n",
        "\n",
        "#applying tf idf to training data\n",
        "X = ..."
      ]
    },
    {
      "cell_type": "code",
      "source": [
        "X_tfidf_df = pd.DataFrame(X)\n",
        "X_tfidf_df.columns = tf_idf.get_feature_names_out()\n",
        "\n",
        "# we have to change None to a small number to see a concatenated version of the matrix\n",
        "pd.set_option('display.max_columns', 20)\n",
        "\n",
        "\n",
        "X_tfidf_df"
      ],
      "metadata": {
        "id": "N476l0HMEvG-"
      },
      "execution_count": null,
      "outputs": []
    },
    {
      "cell_type": "markdown",
      "metadata": {
        "id": "AntYmkb2N0Bj"
      },
      "source": [
        "The above dataset shows you how we create TFIDF vectors, but to see which words are given a high score (and are deemed more important), run the following cell and take a look at the output."
      ]
    },
    {
      "cell_type": "code",
      "execution_count": null,
      "metadata": {
        "id": "I2YvH-HvN0Bj"
      },
      "outputs": [],
      "source": [
        "# visualize and list the most important words from TFIDF's view\n",
        "def get_tfidf_words_and_array(text_arrays):\n",
        "\n",
        "    vectorizer = TfidfVectorizer()\n",
        "    transformed_data = vectorizer.fit_transform(text_arrays).toarray()\n",
        "    words = vectorizer.get_feature_names_out()\n",
        "    \n",
        "    return transformed_data, words\n",
        "\n",
        "def create_tfidf_df(text_arrays):\n",
        "    \"\"\"\n",
        "    gets the df, converts it into tfidf arrays and words\n",
        "    then puts them in a dataset\n",
        "    \"\"\"\n",
        "\n",
        "    transformed_data, words = get_tfidf_words_and_array(text_arrays)\n",
        "\n",
        "    df = pd.DataFrame(data=transformed_data, columns=words).sum().reset_index()\n",
        "\n",
        "    col_names = ['words', 'tfidf_score_sum']\n",
        "    default_col_names = df.columns\n",
        "\n",
        "    # rename whatever the df cols are called to the col_names\n",
        "    df.rename(columns={default_col_names[i]:col_names[i] for i in range(len(col_names))}, inplace=True)\n",
        "\n",
        "    df.sort_values(by='tfidf_score_sum', inplace=True, ascending=False)\n",
        "\n",
        "    return df\n",
        "\n",
        "    \n",
        "tfidf_scores = create_tfidf_df(df.loc[:, 'cleaned_text'])\n",
        "tfidf_scores"
      ]
    },
    {
      "cell_type": "markdown",
      "metadata": {
        "id": "BhjAA_MwN0Bj"
      },
      "source": [
        "Step 2. Creating a model that uses the vectors to classify text\n",
        "\n",
        "<center>\n",
        "<img src=\"https://github.com/mitramir55/REConference/blob/main/additional%20resources/3_Page_15.png?raw=true\"></center>\n",
        "\n",
        "In general, Scikit-learn makes machine learning model training simple and generally follows the same pattern. Here we'll use Naive Bayes to classify our vectors. These are the step we'll have to follow:\n",
        "\n",
        "\n",
        "1. initialize an instance of the model\n",
        "2. fit the model to the train data\n",
        "3. predict the test data \n",
        "4. compute scores for both train and test sets.\n",
        "\n",
        "\n",
        "To put it very briefly, it is worth saying that NB basically applies the Bayesian rule to calculate the probability or likelihood that a set of words (document) belongs to a class. To calculate this probability it assumes that all the words are independent or, in other words, the location of words in a sentence is completely random . (e.g., program is independent of enhancement) \n",
        "\n",
        "To learn more about Naive Bayes you can go to [this link](https://towardsdatascience.com/training-a-naive-bayes-model-to-identify-the-author-of-an-email-or-document-17dc85fa630a).\n"
      ]
    },
    {
      "cell_type": "code",
      "execution_count": null,
      "metadata": {
        "id": "rq8r6siqN0Bk"
      },
      "outputs": [],
      "source": [
        "# import the model\n",
        "from sklearn.naive_bayes import GaussianNB\n",
        "\n",
        "# instantiate the class\n",
        "nb = ...\n",
        "\n",
        "# get the \n",
        "y = ..."
      ]
    },
    {
      "cell_type": "markdown",
      "source": [
        "#### Evaluation\n",
        "\n",
        "In order to understand the prediction capability of our model, avoid overfitting, and not misjudge its classification accuracy, we use an evaluation technique called cross validation (CV). In this method, we separate the dataset into n parts, train the model on n-1 parts, and test it on the one part that's been held out.\n",
        "\n",
        "\n",
        "![](https://github.com/mitramir55/REConference/blob/main/additional%20resources/1920px-K-fold_cross_validation_EN-01-01.png?raw=true)"
      ],
      "metadata": {
        "id": "3xqgWV_AILJb"
      }
    },
    {
      "cell_type": "markdown",
      "source": [
        "#### Stratified KFold: \n",
        "\n",
        "Stratified kfold cross validation is an extension of regular kfold cross validation but specifically for classification problems where rather than the splits being completely random, the ratio between the target classes is the same in each fold as it is in the full dataset.\n",
        "\n",
        "Read more [here](https://machinelearningmastery.com/k-fold-cross-validation/) and [here](https://towardsdatascience.com/how-to-train-test-split-kfold-vs-stratifiedkfold-281767b93869).\n",
        "\n",
        "![](https://github.com/mitramir55/REConference/blob/main/Tutorial/3%20Preprocessing%20-%20Mitra/stratified%20cv.png?raw=true)"
      ],
      "metadata": {
        "id": "xKxTl0ZLZF0O"
      }
    },
    {
      "cell_type": "code",
      "source": [
        "from sklearn.naive_bayes import GaussianNB\n",
        "from sklearn.ensemble import RandomForestClassifier\n",
        "\n",
        "from sklearn.model_selection import StratifiedKFold\n",
        "from sklearn.metrics import accuracy_score, f1_score, precision_score, recall_score"
      ],
      "metadata": {
        "id": "YOtmY4oQrIJD"
      },
      "execution_count": null,
      "outputs": []
    },
    {
      "cell_type": "markdown",
      "source": [
        "We evaluate the performance of our model by calculating accuracy and the weighted average F1, precision, and recall of the two groups.\n",
        "<center>\n",
        "<img src=\"https://miro.medium.com/max/1400/1*pOtBHai4jFd-ujaNXPilRg.png\" alt=\"scikit-learn\" style=\"width:50%\"></center>\n",
        "To learn more about SKlean's evaluation packages, visit:\n",
        "\n",
        " * [F1 score](https://scikit-learn.org/stable/modules/generated/sklearn.metrics.f1_score.html)\n",
        " * [precision](https://scikit-learn.org/stable/modules/generated/sklearn.metrics.precision_score.html)\n",
        " * [recall](https://scikit-learn.org/stable/modules/generated/sklearn.metrics.recall_score.html)"
      ],
      "metadata": {
        "id": "VWJfL7B5u6VK"
      }
    },
    {
      "cell_type": "code",
      "source": [
        "def evaluate(X_test, y_test, model):\n",
        "        \n",
        "    y_pred = model.predict(X_test)\n",
        "    print('Accuracy: ', accuracy_score(y_test, y_pred))\n",
        "    print('F1 score: ', f1_score(y_test, y_pred, average=\"weighted\"))\n",
        "    print('Precision: ', precision_score(y_test, y_pred, average=\"weighted\"))\n",
        "    print('Recall: ', recall_score(y_test, y_pred, average=\"weighted\"))  "
      ],
      "metadata": {
        "id": "HoSAQWYnrLyL"
      },
      "execution_count": null,
      "outputs": []
    },
    {
      "cell_type": "code",
      "source": [
        "def train_and_evaluate(X, y, model, fold_n = 1):\n",
        "\n",
        "    \"\"\"\n",
        "    gets X and y, then splits them into test, train in n folds\n",
        "    \"\"\"\n",
        "    # create a stratified kfold with 3 splits.\n",
        "    # Make sure it shuffles the data\n",
        "    skf = ...\n",
        "\n",
        "    fold_n = 1\n",
        "\n",
        "    for train_index, test_index in skf.split(X, y):\n",
        "\n",
        "        # instantiate the class\n",
        "        model_ = ...\n",
        "\n",
        "        print(colored(f'\\nFold, {fold_n}', 'green'))\n",
        "        print(\"Training set :\", train_index, \"Testing set:\", test_index)\n",
        "\n",
        "        # define the x and y with indices\n",
        "        X_train, X_test = ..., ...\n",
        "        y_train, y_test = ..., ...\n",
        "        \n",
        "        # fit the model to x_train and y_train\n",
        "        ...\n",
        "       \n",
        "       # evaluate the model with x_test and y_test\n",
        "\n",
        "\n",
        "        fold_n+=1\n"
      ],
      "metadata": {
        "id": "Wk7Zj-WtruXq"
      },
      "execution_count": null,
      "outputs": []
    },
    {
      "cell_type": "code",
      "source": [
        "train_and_evaluate(X, y, model=GaussianNB, fold_n = 1)"
      ],
      "metadata": {
        "id": "B8Vp3pNMVk6U"
      },
      "execution_count": null,
      "outputs": []
    },
    {
      "cell_type": "markdown",
      "metadata": {
        "id": "QEaBOFdcN0Bk"
      },
      "source": [
        "Just to show you how a more complex model would work, we'll take a look at Random Forest Classifier. However, a more powerful algorithm might take more time to converge and reach an answer. Run the following cell to see how it works."
      ]
    },
    {
      "cell_type": "code",
      "source": [
        "train_and_evaluate(X, y, model=RandomForestClassifier, fold_n = 1)"
      ],
      "metadata": {
        "id": "VW-H4SzZVk2Q"
      },
      "execution_count": null,
      "outputs": []
    },
    {
      "cell_type": "code",
      "execution_count": null,
      "metadata": {
        "id": "ChDqrXZeN0Bl"
      },
      "outputs": [],
      "source": [
        ""
      ]
    },
    {
      "cell_type": "markdown",
      "metadata": {
        "id": "2O4mQyA7N0Bl"
      },
      "source": [
        "References:\n",
        "\n",
        "https://www.kaggle.com/code/mitramir5/text-eda-rnn-lstm-gru-and-many-more\n",
        "\n",
        "\n",
        "https://towardsdatascience.com/training-a-naive-bayes-model-to-identify-the-author-of-an-email-or-document-17dc85fa630a\n",
        "\n",
        "https://scikit-learn.org/stable/modules/generated/sklearn.ensemble.RandomForestClassifier.html\n",
        "\n",
        "\n",
        "https://wiki.mozilla.org/BMO/UserGuide/BugFields\n",
        "\n",
        "https://www.redmine.org/projects/redmine/wiki/RedmineIssues\n",
        "\n",
        "https://www.analyseup.com/python-machine-learning/stratified-kfold.html\n"
      ]
    },
    {
      "cell_type": "markdown",
      "metadata": {
        "id": "YkaEPGiKN0Bl"
      },
      "source": [
        "Thanks for your attention!"
      ]
    }
  ],
  "metadata": {
    "kernelspec": {
      "display_name": "Python 3.9.7 ('base')",
      "language": "python",
      "name": "python3"
    },
    "language_info": {
      "codemirror_mode": {
        "name": "ipython",
        "version": 3
      },
      "file_extension": ".py",
      "mimetype": "text/x-python",
      "name": "python",
      "nbconvert_exporter": "python",
      "pygments_lexer": "ipython3",
      "version": "3.9.7"
    },
    "orig_nbformat": 4,
    "vscode": {
      "interpreter": {
        "hash": "adfccd5c958d70cd78f22c942a5f90dd259f52bf203482d766a0ca6ec5e2e798"
      }
    },
    "colab": {
      "name": "4. Working with data and ML-with practice blank spots.ipynb",
      "provenance": [],
      "collapsed_sections": [],
      "include_colab_link": true
    }
  },
  "nbformat": 4,
  "nbformat_minor": 0
}