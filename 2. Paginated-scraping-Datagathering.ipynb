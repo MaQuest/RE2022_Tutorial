{
 "cells": [
  {
   "cell_type": "markdown",
   "id": "d793f454",
   "metadata": {
    "slideshow": {
     "slide_type": "slide"
    }
   },
   "source": [
    "## Let's discuss about working with services that have no clear information or documentation regarding REST API\n",
    "## This needs thorough analysis of how the data is rendered on to the webpage for any given website/service. "
   ]
  },
  {
   "cell_type": "markdown",
   "id": "f4b5c225",
   "metadata": {
    "slideshow": {
     "slide_type": "slide"
    }
   },
   "source": [
    "## We will write a bot (program) that can automatically harvests the data from a website\n",
    "## There are multiple approaches to it such as  <a href=\"https://realpython.com/python-web-scraping-practical-introduction/#your-first-web-scraper\" target=\"_blank\"> Web scraping</a> which is an extensive efforts\n",
    "## We will explore a simplest form of url manipulation which we term as scraping\n",
    "## We will mine Redmine OSS website: https://www.redmine.org for this activity\n",
    "\n",
    "## Redmine is similar to Bugzilla "
   ]
  },
  {
   "cell_type": "markdown",
   "id": "62a57c8a",
   "metadata": {
    "slideshow": {
     "slide_type": "slide"
    }
   },
   "source": [
    "## Scraping is ... \n",
    "\n",
    "## accumulating data from the website \n",
    "\n",
    "![source: https://www.seobility.net/en/wiki/REST_API](images/scraping.png) \n",
    "source: https://topwebscrapingservice.wordpress.com/"
   ]
  },
  {
   "cell_type": "code",
   "execution_count": 1,
   "id": "d8da01e8",
   "metadata": {
    "slideshow": {
     "slide_type": "slide"
    }
   },
   "outputs": [],
   "source": [
    "import requests\n",
    "import json\n",
    "\n",
    "'''\n",
    "Sample URL is: https://www.redmine.org/projects/redmine/issues?c[]=subject&c[]=tracker&c[]=status&c[]\n",
    "               =updated_on&c[]=category&f[]=status_id&f[]=&group_by=&op[status_id]=o&page=48&per_page=100&\n",
    "               set_filter=1&utf8=%E2%9C%93\n",
    "               \n",
    "change issues to issues.json and automate page field \n",
    "'''\n",
    "def fetchData(Biglist):\n",
    "    totalPages = 3  #there are about 195 pages with 25 on each\n",
    "    \n",
    "    # results will be appended to this list\n",
    "    # loop through all pages and return JSON object\n",
    "    for page in range(1, (totalPages+1)):\n",
    "        '''url = \"https://www.redmine.org/projects/redmine/issues?c[]=subject&c[]=tracker&c[]\\\n",
    "        =status&c[]=updated_on&c[]=category&f[]=status_id&f[]=&group_by=&op[status_id]=o&page=\"\\\n",
    "        +str(page)+\"&per_page=25&set_filter=1&utf8=%E2%9C%93\"\n",
    "        '''\n",
    "        url = \"https://www.redmine.org/projects/redmine/issues.json?c[]=subject&c[]=tracker&c[]=status&c[]=updated_on&c[]=category&f[]=status_id&f[]=&group_by=&op[status_id]=o&page=\"+str(page)+\"&per_page=25&set_filter=1&utf8=%E2%9C%93\"\n",
    "        print(url)\n",
    "        response = requests.get(url=url).json()\n",
    "        issues = response['issues']\n",
    "        print(\"downloaded: \",page, \" Total:  \", len(issues))\n",
    "        Biglist.append(issues) \n",
    "        page += 1\n",
    "    dict1 = {page:Biglist}\n",
    "    return dict1\n"
   ]
  },
  {
   "cell_type": "code",
   "execution_count": 2,
   "id": "beaf2258",
   "metadata": {
    "slideshow": {
     "slide_type": "slide"
    }
   },
   "outputs": [
    {
     "name": "stdout",
     "output_type": "stream",
     "text": [
      "https://www.redmine.org/projects/redmine/issues.json?c[]=subject&c[]=tracker&c[]=status&c[]=updated_on&c[]=category&f[]=status_id&f[]=&group_by=&op[status_id]=o&page=1&per_page=25&set_filter=1&utf8=%E2%9C%93\n",
      "downloaded:  1  Total:   25\n",
      "https://www.redmine.org/projects/redmine/issues.json?c[]=subject&c[]=tracker&c[]=status&c[]=updated_on&c[]=category&f[]=status_id&f[]=&group_by=&op[status_id]=o&page=2&per_page=25&set_filter=1&utf8=%E2%9C%93\n",
      "downloaded:  2  Total:   25\n",
      "https://www.redmine.org/projects/redmine/issues.json?c[]=subject&c[]=tracker&c[]=status&c[]=updated_on&c[]=category&f[]=status_id&f[]=&group_by=&op[status_id]=o&page=3&per_page=25&set_filter=1&utf8=%E2%9C%93\n",
      "downloaded:  3  Total:   25\n"
     ]
    }
   ],
   "source": [
    "import json\n",
    "import pandas as pd\n",
    "import requests\n",
    "import pprint\n",
    "\n",
    "def main():\n",
    "    BigList = []\n",
    "    \n",
    "    #Accumulate dataset\n",
    "    data = fetchData(BigList)\n",
    "    \n",
    "    #Write to a file\n",
    "    with open('./Data/dataSet.txt', 'w') as outfile:\n",
    "        json.dump(data, outfile)\n",
    "    \n",
    "main()\n",
    "\n"
   ]
  }
 ],
 "metadata": {
  "celltoolbar": "Slideshow",
  "kernelspec": {
   "display_name": "Python 3 (ipykernel)",
   "language": "python",
   "name": "python3"
  },
  "language_info": {
   "codemirror_mode": {
    "name": "ipython",
    "version": 3
   },
   "file_extension": ".py",
   "mimetype": "text/x-python",
   "name": "python",
   "nbconvert_exporter": "python",
   "pygments_lexer": "ipython3",
   "version": "3.8.9"
  }
 },
 "nbformat": 4,
 "nbformat_minor": 5
}
